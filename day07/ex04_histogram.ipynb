{
 "cells": [
  {
   "cell_type": "code",
   "execution_count": 228,
   "id": "c6b65841",
   "metadata": {},
   "outputs": [],
   "source": [
    "import pandas as pd\n",
    "import sqlite3\n",
    "import matplotlib.pyplot as plt"
   ]
  },
  {
   "cell_type": "code",
   "execution_count": 229,
   "id": "2d8c88c5",
   "metadata": {},
   "outputs": [],
   "source": [
    "con = sqlite3.connect('../data/checking-logs.sqlite')"
   ]
  },
  {
   "cell_type": "markdown",
   "id": "9b7a9496",
   "metadata": {},
   "source": [
    "---\n",
    "### Tables we have"
   ]
  },
  {
   "cell_type": "code",
   "execution_count": 230,
   "id": "fda5f887",
   "metadata": {},
   "outputs": [
    {
     "data": {
      "text/html": [
       "<div>\n",
       "<style scoped>\n",
       "    .dataframe tbody tr th:only-of-type {\n",
       "        vertical-align: middle;\n",
       "    }\n",
       "\n",
       "    .dataframe tbody tr th {\n",
       "        vertical-align: top;\n",
       "    }\n",
       "\n",
       "    .dataframe thead th {\n",
       "        text-align: right;\n",
       "    }\n",
       "</style>\n",
       "<table border=\"1\" class=\"dataframe\">\n",
       "  <thead>\n",
       "    <tr style=\"text-align: right;\">\n",
       "      <th></th>\n",
       "      <th>name</th>\n",
       "    </tr>\n",
       "  </thead>\n",
       "  <tbody>\n",
       "    <tr>\n",
       "      <th>0</th>\n",
       "      <td>pageviews</td>\n",
       "    </tr>\n",
       "    <tr>\n",
       "      <th>1</th>\n",
       "      <td>checker</td>\n",
       "    </tr>\n",
       "    <tr>\n",
       "      <th>2</th>\n",
       "      <td>deadlines</td>\n",
       "    </tr>\n",
       "  </tbody>\n",
       "</table>\n",
       "</div>"
      ],
      "text/plain": [
       "        name\n",
       "0  pageviews\n",
       "1    checker\n",
       "2  deadlines"
      ]
     },
     "execution_count": 230,
     "metadata": {},
     "output_type": "execute_result"
    }
   ],
   "source": [
    "pd.read_sql('SELECT name FROM sqlite_master WHERE type=\"table\"', con)"
   ]
  },
  {
   "cell_type": "markdown",
   "id": "d283074b",
   "metadata": {},
   "source": [
    "### Table `checker` contains:"
   ]
  },
  {
   "cell_type": "code",
   "execution_count": 231,
   "id": "780aa887",
   "metadata": {},
   "outputs": [
    {
     "data": {
      "text/html": [
       "<div>\n",
       "<style scoped>\n",
       "    .dataframe tbody tr th:only-of-type {\n",
       "        vertical-align: middle;\n",
       "    }\n",
       "\n",
       "    .dataframe tbody tr th {\n",
       "        vertical-align: top;\n",
       "    }\n",
       "\n",
       "    .dataframe thead th {\n",
       "        text-align: right;\n",
       "    }\n",
       "</style>\n",
       "<table border=\"1\" class=\"dataframe\">\n",
       "  <thead>\n",
       "    <tr style=\"text-align: right;\">\n",
       "      <th></th>\n",
       "      <th>index</th>\n",
       "      <th>status</th>\n",
       "      <th>success</th>\n",
       "      <th>timestamp</th>\n",
       "      <th>numTrials</th>\n",
       "      <th>labname</th>\n",
       "      <th>uid</th>\n",
       "    </tr>\n",
       "  </thead>\n",
       "  <tbody>\n",
       "    <tr>\n",
       "      <th>0</th>\n",
       "      <td>0</td>\n",
       "      <td>checking</td>\n",
       "      <td>0</td>\n",
       "      <td>2020-04-16 21:12:50.740474</td>\n",
       "      <td>5</td>\n",
       "      <td>None</td>\n",
       "      <td>admin_1</td>\n",
       "    </tr>\n",
       "    <tr>\n",
       "      <th>1</th>\n",
       "      <td>1</td>\n",
       "      <td>ready</td>\n",
       "      <td>0</td>\n",
       "      <td>2020-04-16 21:12:54.708365</td>\n",
       "      <td>5</td>\n",
       "      <td>code_rvw</td>\n",
       "      <td>admin_1</td>\n",
       "    </tr>\n",
       "    <tr>\n",
       "      <th>2</th>\n",
       "      <td>2</td>\n",
       "      <td>checking</td>\n",
       "      <td>0</td>\n",
       "      <td>2020-04-16 21:46:47.769088</td>\n",
       "      <td>7</td>\n",
       "      <td>None</td>\n",
       "      <td>admin_1</td>\n",
       "    </tr>\n",
       "  </tbody>\n",
       "</table>\n",
       "</div>"
      ],
      "text/plain": [
       "   index    status  success                   timestamp  numTrials   labname  \\\n",
       "0      0  checking        0  2020-04-16 21:12:50.740474          5      None   \n",
       "1      1     ready        0  2020-04-16 21:12:54.708365          5  code_rvw   \n",
       "2      2  checking        0  2020-04-16 21:46:47.769088          7      None   \n",
       "\n",
       "       uid  \n",
       "0  admin_1  \n",
       "1  admin_1  \n",
       "2  admin_1  "
      ]
     },
     "execution_count": 231,
     "metadata": {},
     "output_type": "execute_result"
    }
   ],
   "source": [
    "pd.read_sql('SELECT * FROM checker LIMIT 3', con)"
   ]
  },
  {
   "cell_type": "markdown",
   "id": "7fa1b871",
   "metadata": {},
   "source": [
    "### Creating dataframe with `hour` of the commit and boolean `weekend` (`true` for weekends)"
   ]
  },
  {
   "cell_type": "code",
   "execution_count": 232,
   "id": "8b2d56f7",
   "metadata": {},
   "outputs": [
    {
     "data": {
      "text/html": [
       "<div>\n",
       "<style scoped>\n",
       "    .dataframe tbody tr th:only-of-type {\n",
       "        vertical-align: middle;\n",
       "    }\n",
       "\n",
       "    .dataframe tbody tr th {\n",
       "        vertical-align: top;\n",
       "    }\n",
       "\n",
       "    .dataframe thead th {\n",
       "        text-align: right;\n",
       "    }\n",
       "</style>\n",
       "<table border=\"1\" class=\"dataframe\">\n",
       "  <thead>\n",
       "    <tr style=\"text-align: right;\">\n",
       "      <th></th>\n",
       "      <th>timestamp</th>\n",
       "      <th>hour</th>\n",
       "      <th>weekday</th>\n",
       "    </tr>\n",
       "  </thead>\n",
       "  <tbody>\n",
       "    <tr>\n",
       "      <th>0</th>\n",
       "      <td>2020-04-17 05:19:02.744528</td>\n",
       "      <td>5</td>\n",
       "      <td>working day</td>\n",
       "    </tr>\n",
       "    <tr>\n",
       "      <th>1</th>\n",
       "      <td>2020-04-17 05:22:35.249331</td>\n",
       "      <td>5</td>\n",
       "      <td>working day</td>\n",
       "    </tr>\n",
       "    <tr>\n",
       "      <th>2</th>\n",
       "      <td>2020-04-17 05:22:45.549397</td>\n",
       "      <td>5</td>\n",
       "      <td>working day</td>\n",
       "    </tr>\n",
       "    <tr>\n",
       "      <th>3</th>\n",
       "      <td>2020-04-17 05:34:14.691200</td>\n",
       "      <td>5</td>\n",
       "      <td>working day</td>\n",
       "    </tr>\n",
       "    <tr>\n",
       "      <th>4</th>\n",
       "      <td>2020-04-17 05:34:24.422370</td>\n",
       "      <td>5</td>\n",
       "      <td>working day</td>\n",
       "    </tr>\n",
       "    <tr>\n",
       "      <th>...</th>\n",
       "      <td>...</td>\n",
       "      <td>...</td>\n",
       "      <td>...</td>\n",
       "    </tr>\n",
       "    <tr>\n",
       "      <th>3202</th>\n",
       "      <td>2020-05-21 20:19:06.872761</td>\n",
       "      <td>20</td>\n",
       "      <td>working day</td>\n",
       "    </tr>\n",
       "    <tr>\n",
       "      <th>3203</th>\n",
       "      <td>2020-05-21 20:22:41.785725</td>\n",
       "      <td>20</td>\n",
       "      <td>working day</td>\n",
       "    </tr>\n",
       "    <tr>\n",
       "      <th>3204</th>\n",
       "      <td>2020-05-21 20:22:41.877806</td>\n",
       "      <td>20</td>\n",
       "      <td>working day</td>\n",
       "    </tr>\n",
       "    <tr>\n",
       "      <th>3205</th>\n",
       "      <td>2020-05-21 20:37:00.129678</td>\n",
       "      <td>20</td>\n",
       "      <td>working day</td>\n",
       "    </tr>\n",
       "    <tr>\n",
       "      <th>3206</th>\n",
       "      <td>2020-05-21 20:37:00.290491</td>\n",
       "      <td>20</td>\n",
       "      <td>working day</td>\n",
       "    </tr>\n",
       "  </tbody>\n",
       "</table>\n",
       "<p>3207 rows × 3 columns</p>\n",
       "</div>"
      ],
      "text/plain": [
       "                      timestamp  hour      weekday\n",
       "0    2020-04-17 05:19:02.744528     5  working day\n",
       "1    2020-04-17 05:22:35.249331     5  working day\n",
       "2    2020-04-17 05:22:45.549397     5  working day\n",
       "3    2020-04-17 05:34:14.691200     5  working day\n",
       "4    2020-04-17 05:34:24.422370     5  working day\n",
       "...                         ...   ...          ...\n",
       "3202 2020-05-21 20:19:06.872761    20  working day\n",
       "3203 2020-05-21 20:22:41.785725    20  working day\n",
       "3204 2020-05-21 20:22:41.877806    20  working day\n",
       "3205 2020-05-21 20:37:00.129678    20  working day\n",
       "3206 2020-05-21 20:37:00.290491    20  working day\n",
       "\n",
       "[3207 rows x 3 columns]"
      ]
     },
     "execution_count": 232,
     "metadata": {},
     "output_type": "execute_result"
    }
   ],
   "source": [
    "df = pd.read_sql(\"SELECT timestamp FROM checker WHERE uid LIKE 'user_%'\", con, parse_dates=['timestamp'])\n",
    "df['hour'] = df.timestamp.dt.hour\n",
    "df['weekday'] = df.timestamp.dt.dayofweek.apply(lambda x: 'weekend' if x > 4 else 'working day')\n",
    "df"
   ]
  },
  {
   "cell_type": "markdown",
   "id": "eefa0bce",
   "metadata": {},
   "source": [
    "### Creating two lists with data separated workdays and weekdays"
   ]
  },
  {
   "cell_type": "code",
   "execution_count": 233,
   "id": "e31ff324",
   "metadata": {},
   "outputs": [
    {
     "name": "stdout",
     "output_type": "stream",
     "text": [
      "1170\n",
      "2037\n"
     ]
    },
    {
     "data": {
      "text/html": [
       "<div>\n",
       "<style scoped>\n",
       "    .dataframe tbody tr th:only-of-type {\n",
       "        vertical-align: middle;\n",
       "    }\n",
       "\n",
       "    .dataframe tbody tr th {\n",
       "        vertical-align: top;\n",
       "    }\n",
       "\n",
       "    .dataframe thead th {\n",
       "        text-align: right;\n",
       "    }\n",
       "</style>\n",
       "<table border=\"1\" class=\"dataframe\">\n",
       "  <thead>\n",
       "    <tr style=\"text-align: right;\">\n",
       "      <th></th>\n",
       "      <th>timestamp</th>\n",
       "      <th>hour</th>\n",
       "      <th>weekday</th>\n",
       "    </tr>\n",
       "  </thead>\n",
       "  <tbody>\n",
       "    <tr>\n",
       "      <th>0</th>\n",
       "      <td>2020-04-17 05:19:02.744528</td>\n",
       "      <td>5</td>\n",
       "      <td>working day</td>\n",
       "    </tr>\n",
       "    <tr>\n",
       "      <th>1</th>\n",
       "      <td>2020-04-17 05:22:35.249331</td>\n",
       "      <td>5</td>\n",
       "      <td>working day</td>\n",
       "    </tr>\n",
       "    <tr>\n",
       "      <th>2</th>\n",
       "      <td>2020-04-17 05:22:45.549397</td>\n",
       "      <td>5</td>\n",
       "      <td>working day</td>\n",
       "    </tr>\n",
       "    <tr>\n",
       "      <th>3</th>\n",
       "      <td>2020-04-17 05:34:14.691200</td>\n",
       "      <td>5</td>\n",
       "      <td>working day</td>\n",
       "    </tr>\n",
       "    <tr>\n",
       "      <th>4</th>\n",
       "      <td>2020-04-17 05:34:24.422370</td>\n",
       "      <td>5</td>\n",
       "      <td>working day</td>\n",
       "    </tr>\n",
       "    <tr>\n",
       "      <th>...</th>\n",
       "      <td>...</td>\n",
       "      <td>...</td>\n",
       "      <td>...</td>\n",
       "    </tr>\n",
       "    <tr>\n",
       "      <th>3202</th>\n",
       "      <td>2020-05-21 20:19:06.872761</td>\n",
       "      <td>20</td>\n",
       "      <td>working day</td>\n",
       "    </tr>\n",
       "    <tr>\n",
       "      <th>3203</th>\n",
       "      <td>2020-05-21 20:22:41.785725</td>\n",
       "      <td>20</td>\n",
       "      <td>working day</td>\n",
       "    </tr>\n",
       "    <tr>\n",
       "      <th>3204</th>\n",
       "      <td>2020-05-21 20:22:41.877806</td>\n",
       "      <td>20</td>\n",
       "      <td>working day</td>\n",
       "    </tr>\n",
       "    <tr>\n",
       "      <th>3205</th>\n",
       "      <td>2020-05-21 20:37:00.129678</td>\n",
       "      <td>20</td>\n",
       "      <td>working day</td>\n",
       "    </tr>\n",
       "    <tr>\n",
       "      <th>3206</th>\n",
       "      <td>2020-05-21 20:37:00.290491</td>\n",
       "      <td>20</td>\n",
       "      <td>working day</td>\n",
       "    </tr>\n",
       "  </tbody>\n",
       "</table>\n",
       "<p>2037 rows × 3 columns</p>\n",
       "</div>"
      ],
      "text/plain": [
       "                      timestamp  hour      weekday\n",
       "0    2020-04-17 05:19:02.744528     5  working day\n",
       "1    2020-04-17 05:22:35.249331     5  working day\n",
       "2    2020-04-17 05:22:45.549397     5  working day\n",
       "3    2020-04-17 05:34:14.691200     5  working day\n",
       "4    2020-04-17 05:34:24.422370     5  working day\n",
       "...                         ...   ...          ...\n",
       "3202 2020-05-21 20:19:06.872761    20  working day\n",
       "3203 2020-05-21 20:22:41.785725    20  working day\n",
       "3204 2020-05-21 20:22:41.877806    20  working day\n",
       "3205 2020-05-21 20:37:00.129678    20  working day\n",
       "3206 2020-05-21 20:37:00.290491    20  working day\n",
       "\n",
       "[2037 rows x 3 columns]"
      ]
     },
     "execution_count": 233,
     "metadata": {},
     "output_type": "execute_result"
    }
   ],
   "source": [
    "data = [df[df.weekday=='weekend'],\n",
    "        df[~(df.weekday=='weekend')]]\n",
    "print(len(data[0]))\n",
    "print(len(data[1]))\n",
    "data[1]"
   ]
  },
  {
   "cell_type": "markdown",
   "id": "ccbac1c8",
   "metadata": {},
   "source": [
    "---\n",
    "## Drawing a plot"
   ]
  },
  {
   "cell_type": "code",
   "execution_count": 234,
   "id": "64a13e78",
   "metadata": {},
   "outputs": [
    {
     "data": {
      "image/png": "[encoded data removed]",
      "text/plain": [
       "<Figure size 1500x800 with 1 Axes>"
      ]
     },
     "metadata": {},
     "output_type": "display_data"
    }
   ],
   "source": [
    "plt.rcParams.update({'font.size': 11})\n",
    "fig, ax = plt.subplots(figsize=(15, 8))\n",
    "n1, bins1, patches1 = plt.hist(data[0]['hour'], bins=24, range=(0, 24), color='lightcoral')\n",
    "n2, bins2, patches2 = plt.hist(data[1]['hour'], bins=24, range=(0, 24), color='c', alpha=0.7)\n",
    "plt.legend(['weekend', 'working day'], loc='upper left')\n",
    "ax.set_xticks(range(0, 24)) # so we can clearly see the hours \n",
    "ax.set_xlim(left=0, right=24)\n",
    "\n",
    "plt.show()"
   ]
  },
  {
   "cell_type": "code",
   "execution_count": 235,
   "id": "5c3907a3",
   "metadata": {},
   "outputs": [],
   "source": [
    "con.close()"
   ]
  },
  {
   "cell_type": "markdown",
   "id": "2d28fecc",
   "metadata": {},
   "source": [
    "---\n",
    "## Question"
   ]
  },
  {
   "cell_type": "markdown",
   "id": "35de12bf",
   "metadata": {},
   "source": [
    "Are there hours when the total number of commits was higher on weekends than on working days?\n",
    "> In your answer, put the top-4 examples."
   ]
  },
  {
   "cell_type": "markdown",
   "id": "e390a827",
   "metadata": {},
   "source": [
    "---\n",
    "## Answer"
   ]
  },
  {
   "cell_type": "markdown",
   "id": "82738f4b",
   "metadata": {},
   "source": [
    "Yes, 11, 13, 22, 23"
   ]
  }
 ],
 "metadata": {
  "kernelspec": {
   "display_name": "Python 3 (ipykernel)",
   "language": "python",
   "name": "python3"
  },
  "language_info": {
   "codemirror_mode": {
    "name": "ipython",
    "version": 3
   },
   "file_extension": ".py",
   "mimetype": "text/x-python",
   "name": "python",
   "nbconvert_exporter": "python",
   "pygments_lexer": "ipython3",
   "version": "3.10.2"
  }
 },
 "nbformat": 4,
 "nbformat_minor": 5
}
