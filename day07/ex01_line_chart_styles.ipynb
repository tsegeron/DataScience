{
 "cells": [
  {
   "cell_type": "code",
   "execution_count": 10,
   "id": "3b917eb5",
   "metadata": {},
   "outputs": [],
   "source": [
    "import pandas as pd\n",
    "import sqlite3"
   ]
  },
  {
   "cell_type": "markdown",
   "id": "98a2f5e7",
   "metadata": {},
   "source": [
    "---\n",
    "## Draw both views and commits metrics on the same graph"
   ]
  },
  {
   "cell_type": "markdown",
   "id": "36660f25",
   "metadata": {},
   "source": [
    "- analyze only the ***users*** and ***not*** the ***admins***\n",
    "- analyze only the ***dates*** when there were ***both views*** and ***checker commits***\n",
    "- use ***size*** of the ***font*** should be ***8***\n",
    "- the ***size*** of the ***figure*** is ***(15,8)***"
   ]
  },
  {
   "cell_type": "code",
   "execution_count": 11,
   "id": "95e71892",
   "metadata": {},
   "outputs": [],
   "source": [
    "con = sqlite3.connect('../data/checking-logs.sqlite')"
   ]
  },
  {
   "cell_type": "markdown",
   "id": "20b40554",
   "metadata": {},
   "source": [
    "### Tables we have"
   ]
  },
  {
   "cell_type": "code",
   "execution_count": 12,
   "id": "6e3ebd56",
   "metadata": {},
   "outputs": [
    {
     "data": {
      "text/html": [
       "<div>\n",
       "<style scoped>\n",
       "    .dataframe tbody tr th:only-of-type {\n",
       "        vertical-align: middle;\n",
       "    }\n",
       "\n",
       "    .dataframe tbody tr th {\n",
       "        vertical-align: top;\n",
       "    }\n",
       "\n",
       "    .dataframe thead th {\n",
       "        text-align: right;\n",
       "    }\n",
       "</style>\n",
       "<table border=\"1\" class=\"dataframe\">\n",
       "  <thead>\n",
       "    <tr style=\"text-align: right;\">\n",
       "      <th></th>\n",
       "      <th>name</th>\n",
       "    </tr>\n",
       "  </thead>\n",
       "  <tbody>\n",
       "    <tr>\n",
       "      <th>0</th>\n",
       "      <td>pageviews</td>\n",
       "    </tr>\n",
       "    <tr>\n",
       "      <th>1</th>\n",
       "      <td>checker</td>\n",
       "    </tr>\n",
       "    <tr>\n",
       "      <th>2</th>\n",
       "      <td>deadlines</td>\n",
       "    </tr>\n",
       "  </tbody>\n",
       "</table>\n",
       "</div>"
      ],
      "text/plain": [
       "        name\n",
       "0  pageviews\n",
       "1    checker\n",
       "2  deadlines"
      ]
     },
     "execution_count": 12,
     "metadata": {},
     "output_type": "execute_result"
    }
   ],
   "source": [
    "pd.read_sql('SELECT name FROM sqlite_master WHERE type=\"table\"', con)"
   ]
  },
  {
   "cell_type": "markdown",
   "id": "8b9026da",
   "metadata": {},
   "source": [
    "### Table `pageviews`"
   ]
  },
  {
   "cell_type": "code",
   "execution_count": 13,
   "id": "cc59c3e1",
   "metadata": {},
   "outputs": [
    {
     "data": {
      "text/html": [
       "<div>\n",
       "<style scoped>\n",
       "    .dataframe tbody tr th:only-of-type {\n",
       "        vertical-align: middle;\n",
       "    }\n",
       "\n",
       "    .dataframe tbody tr th {\n",
       "        vertical-align: top;\n",
       "    }\n",
       "\n",
       "    .dataframe thead th {\n",
       "        text-align: right;\n",
       "    }\n",
       "</style>\n",
       "<table border=\"1\" class=\"dataframe\">\n",
       "  <thead>\n",
       "    <tr style=\"text-align: right;\">\n",
       "      <th></th>\n",
       "      <th>index</th>\n",
       "      <th>uid</th>\n",
       "      <th>datetime</th>\n",
       "    </tr>\n",
       "  </thead>\n",
       "  <tbody>\n",
       "    <tr>\n",
       "      <th>0</th>\n",
       "      <td>0</td>\n",
       "      <td>admin_1</td>\n",
       "      <td>2020-04-17 12:01:08.463179</td>\n",
       "    </tr>\n",
       "    <tr>\n",
       "      <th>1</th>\n",
       "      <td>1</td>\n",
       "      <td>admin_1</td>\n",
       "      <td>2020-04-17 12:01:23.743946</td>\n",
       "    </tr>\n",
       "    <tr>\n",
       "      <th>2</th>\n",
       "      <td>2</td>\n",
       "      <td>admin_3</td>\n",
       "      <td>2020-04-17 12:17:39.287778</td>\n",
       "    </tr>\n",
       "  </tbody>\n",
       "</table>\n",
       "</div>"
      ],
      "text/plain": [
       "   index      uid                    datetime\n",
       "0      0  admin_1  2020-04-17 12:01:08.463179\n",
       "1      1  admin_1  2020-04-17 12:01:23.743946\n",
       "2      2  admin_3  2020-04-17 12:17:39.287778"
      ]
     },
     "execution_count": 13,
     "metadata": {},
     "output_type": "execute_result"
    }
   ],
   "source": [
    "pd.read_sql('SELECT * FROM pageviews LIMIT 3', con)"
   ]
  },
  {
   "cell_type": "markdown",
   "id": "71e9e5da",
   "metadata": {},
   "source": [
    "### Table `checker`"
   ]
  },
  {
   "cell_type": "code",
   "execution_count": 14,
   "id": "25133832",
   "metadata": {},
   "outputs": [
    {
     "data": {
      "text/html": [
       "<div>\n",
       "<style scoped>\n",
       "    .dataframe tbody tr th:only-of-type {\n",
       "        vertical-align: middle;\n",
       "    }\n",
       "\n",
       "    .dataframe tbody tr th {\n",
       "        vertical-align: top;\n",
       "    }\n",
       "\n",
       "    .dataframe thead th {\n",
       "        text-align: right;\n",
       "    }\n",
       "</style>\n",
       "<table border=\"1\" class=\"dataframe\">\n",
       "  <thead>\n",
       "    <tr style=\"text-align: right;\">\n",
       "      <th></th>\n",
       "      <th>index</th>\n",
       "      <th>status</th>\n",
       "      <th>success</th>\n",
       "      <th>timestamp</th>\n",
       "      <th>numTrials</th>\n",
       "      <th>labname</th>\n",
       "      <th>uid</th>\n",
       "    </tr>\n",
       "  </thead>\n",
       "  <tbody>\n",
       "    <tr>\n",
       "      <th>0</th>\n",
       "      <td>0</td>\n",
       "      <td>checking</td>\n",
       "      <td>0</td>\n",
       "      <td>2020-04-16 21:12:50.740474</td>\n",
       "      <td>5</td>\n",
       "      <td>None</td>\n",
       "      <td>admin_1</td>\n",
       "    </tr>\n",
       "    <tr>\n",
       "      <th>1</th>\n",
       "      <td>1</td>\n",
       "      <td>ready</td>\n",
       "      <td>0</td>\n",
       "      <td>2020-04-16 21:12:54.708365</td>\n",
       "      <td>5</td>\n",
       "      <td>code_rvw</td>\n",
       "      <td>admin_1</td>\n",
       "    </tr>\n",
       "    <tr>\n",
       "      <th>2</th>\n",
       "      <td>2</td>\n",
       "      <td>checking</td>\n",
       "      <td>0</td>\n",
       "      <td>2020-04-16 21:46:47.769088</td>\n",
       "      <td>7</td>\n",
       "      <td>None</td>\n",
       "      <td>admin_1</td>\n",
       "    </tr>\n",
       "  </tbody>\n",
       "</table>\n",
       "</div>"
      ],
      "text/plain": [
       "   index    status  success                   timestamp  numTrials   labname  \\\n",
       "0      0  checking        0  2020-04-16 21:12:50.740474          5      None   \n",
       "1      1     ready        0  2020-04-16 21:12:54.708365          5  code_rvw   \n",
       "2      2  checking        0  2020-04-16 21:46:47.769088          7      None   \n",
       "\n",
       "       uid  \n",
       "0  admin_1  \n",
       "1  admin_1  \n",
       "2  admin_1  "
      ]
     },
     "execution_count": 14,
     "metadata": {},
     "output_type": "execute_result"
    }
   ],
   "source": [
    "pd.read_sql('SELECT * FROM checker LIMIT 3', con)"
   ]
  },
  {
   "cell_type": "markdown",
   "id": "d0516d53",
   "metadata": {},
   "source": [
    "### Table `views_commits` containing `commits` and `views` of `users` per day"
   ]
  },
  {
   "cell_type": "code",
   "execution_count": 15,
   "id": "ab1cf6b0",
   "metadata": {},
   "outputs": [
    {
     "name": "stdout",
     "output_type": "stream",
     "text": [
      "32\n"
     ]
    },
    {
     "data": {
      "text/html": [
       "<div>\n",
       "<style scoped>\n",
       "    .dataframe tbody tr th:only-of-type {\n",
       "        vertical-align: middle;\n",
       "    }\n",
       "\n",
       "    .dataframe tbody tr th {\n",
       "        vertical-align: top;\n",
       "    }\n",
       "\n",
       "    .dataframe thead th {\n",
       "        text-align: right;\n",
       "    }\n",
       "</style>\n",
       "<table border=\"1\" class=\"dataframe\">\n",
       "  <thead>\n",
       "    <tr style=\"text-align: right;\">\n",
       "      <th></th>\n",
       "      <th>commits</th>\n",
       "      <th>views</th>\n",
       "    </tr>\n",
       "    <tr>\n",
       "      <th>date</th>\n",
       "      <th></th>\n",
       "      <th></th>\n",
       "    </tr>\n",
       "  </thead>\n",
       "  <tbody>\n",
       "    <tr>\n",
       "      <th>2020-04-17</th>\n",
       "      <td>23</td>\n",
       "      <td>1</td>\n",
       "    </tr>\n",
       "    <tr>\n",
       "      <th>2020-04-18</th>\n",
       "      <td>69</td>\n",
       "      <td>23</td>\n",
       "    </tr>\n",
       "    <tr>\n",
       "      <th>2020-04-19</th>\n",
       "      <td>33</td>\n",
       "      <td>15</td>\n",
       "    </tr>\n",
       "    <tr>\n",
       "      <th>2020-04-21</th>\n",
       "      <td>25</td>\n",
       "      <td>3</td>\n",
       "    </tr>\n",
       "    <tr>\n",
       "      <th>2020-04-22</th>\n",
       "      <td>28</td>\n",
       "      <td>1</td>\n",
       "    </tr>\n",
       "  </tbody>\n",
       "</table>\n",
       "</div>"
      ],
      "text/plain": [
       "            commits  views\n",
       "date                      \n",
       "2020-04-17       23      1\n",
       "2020-04-18       69     23\n",
       "2020-04-19       33     15\n",
       "2020-04-21       25      3\n",
       "2020-04-22       28      1"
      ]
     },
     "execution_count": 15,
     "metadata": {},
     "output_type": "execute_result"
    }
   ],
   "source": [
    "query = \"\"\"\n",
    "SELECT\n",
    "    commits.day AS date,\n",
    "    commits.commits,\n",
    "    views.views\n",
    "FROM\n",
    "(\n",
    "    SELECT\n",
    "        strftime('%Y-%m-%d', timestamp) AS day, COUNT(timestamp) AS commits\n",
    "    FROM\n",
    "        checker\n",
    "    WHERE\n",
    "        uid LIKE 'user_%'\n",
    "    GROUP BY\n",
    "        day\n",
    ") commits\n",
    "INNER JOIN\n",
    "(\n",
    "    SELECT\n",
    "        strftime('%Y-%m-%d', datetime) AS day, COUNT(datetime) AS views\n",
    "    FROM\n",
    "        pageviews\n",
    "    WHERE\n",
    "        uid LIKE 'user_%'\n",
    "    GROUP BY\n",
    "        day\n",
    ") views\n",
    "ON\n",
    "    commits.day = views.day\n",
    "\"\"\"\n",
    "views_commits = pd.read_sql(query, con, index_col='date')\n",
    "views_commits.index = pd.to_datetime(views_commits.index)\n",
    "print(len(views_commits))\n",
    "views_commits.head()"
   ]
  },
  {
   "cell_type": "code",
   "execution_count": 16,
   "id": "6ce2ebf7",
   "metadata": {},
   "outputs": [
    {
     "data": {
      "text/plain": [
       "<AxesSubplot:title={'center':'Views and commits per day'}, xlabel='date'>"
      ]
     },
     "execution_count": 16,
     "metadata": {},
     "output_type": "execute_result"
    },
    {
     "data": {
      "image/png": "[encoded data removed]",
      "text/plain": [
       "<Figure size 1500x800 with 1 Axes>"
      ]
     },
     "metadata": {},
     "output_type": "display_data"
    }
   ],
   "source": [
    "plt = views_commits.plot(y=['views', 'commits'],\n",
    "                         color=['r', 'c'], style=['-.o', '--'],\n",
    "                         title='Views and commits per day',\n",
    "                         xlabel='date', rot=90,\n",
    "                         figsize=(15,8), fontsize=8)\n",
    "plt.axhline(y=150, color='navy', linestyle='--')\n",
    "plt.grid(axis='x')\n",
    "plt"
   ]
  },
  {
   "cell_type": "markdown",
   "id": "1722dc1f",
   "metadata": {},
   "source": [
    "---\n",
    "## Answer the question"
   ]
  },
  {
   "cell_type": "markdown",
   "id": "047e973d",
   "metadata": {},
   "source": [
    "How many times was the ***number*** of ***views*** larger than ***150***?\\\n",
    "The *answer* is <u>2</u>"
   ]
  },
  {
   "cell_type": "markdown",
   "id": "03eeb85e",
   "metadata": {},
   "source": [
    "---\n",
    "## Close the connection"
   ]
  },
  {
   "cell_type": "code",
   "execution_count": 17,
   "id": "4f50517e",
   "metadata": {},
   "outputs": [],
   "source": [
    "con.close()"
   ]
  }
 ],
 "metadata": {
  "kernelspec": {
   "display_name": "Python 3 (ipykernel)",
   "language": "python",
   "name": "python3"
  },
  "language_info": {
   "codemirror_mode": {
    "name": "ipython",
    "version": 3
   },
   "file_extension": ".py",
   "mimetype": "text/x-python",
   "name": "python",
   "nbconvert_exporter": "python",
   "pygments_lexer": "ipython3",
   "version": "3.10.2"
  }
 },
 "nbformat": 4,
 "nbformat_minor": 5
}
