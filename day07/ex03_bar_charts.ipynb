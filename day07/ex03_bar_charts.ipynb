{
 "cells": [
  {
   "cell_type": "code",
   "execution_count": 9,
   "id": "1653b6c2",
   "metadata": {},
   "outputs": [],
   "source": [
    "import pandas as pd\n",
    "import sqlite3"
   ]
  },
  {
   "cell_type": "code",
   "execution_count": 10,
   "id": "b3b9edf1",
   "metadata": {},
   "outputs": [],
   "source": [
    "con = sqlite3.connect('../data/checking-logs.sqlite')"
   ]
  },
  {
   "cell_type": "code",
   "execution_count": 11,
   "id": "205f780e",
   "metadata": {},
   "outputs": [
    {
     "data": {
      "text/html": [
       "<div>\n",
       "<style scoped>\n",
       "    .dataframe tbody tr th:only-of-type {\n",
       "        vertical-align: middle;\n",
       "    }\n",
       "\n",
       "    .dataframe tbody tr th {\n",
       "        vertical-align: top;\n",
       "    }\n",
       "\n",
       "    .dataframe thead th {\n",
       "        text-align: right;\n",
       "    }\n",
       "</style>\n",
       "<table border=\"1\" class=\"dataframe\">\n",
       "  <thead>\n",
       "    <tr style=\"text-align: right;\">\n",
       "      <th></th>\n",
       "      <th>name</th>\n",
       "    </tr>\n",
       "  </thead>\n",
       "  <tbody>\n",
       "    <tr>\n",
       "      <th>0</th>\n",
       "      <td>pageviews</td>\n",
       "    </tr>\n",
       "    <tr>\n",
       "      <th>1</th>\n",
       "      <td>checker</td>\n",
       "    </tr>\n",
       "    <tr>\n",
       "      <th>2</th>\n",
       "      <td>deadlines</td>\n",
       "    </tr>\n",
       "  </tbody>\n",
       "</table>\n",
       "</div>"
      ],
      "text/plain": [
       "        name\n",
       "0  pageviews\n",
       "1    checker\n",
       "2  deadlines"
      ]
     },
     "execution_count": 11,
     "metadata": {},
     "output_type": "execute_result"
    }
   ],
   "source": [
    "pd.read_sql('SELECT name FROM  sqlite_master WHERE type=\"table\"', con)"
   ]
  },
  {
   "cell_type": "markdown",
   "id": "c38c9d5a",
   "metadata": {},
   "source": [
    "---\n",
    "### Weekends average number of commits per hour"
   ]
  },
  {
   "cell_type": "code",
   "execution_count": 12,
   "id": "89f34c4f",
   "metadata": {},
   "outputs": [
    {
     "data": {
      "text/html": [
       "<div>\n",
       "<style scoped>\n",
       "    .dataframe tbody tr th:only-of-type {\n",
       "        vertical-align: middle;\n",
       "    }\n",
       "\n",
       "    .dataframe tbody tr th {\n",
       "        vertical-align: top;\n",
       "    }\n",
       "\n",
       "    .dataframe thead th {\n",
       "        text-align: right;\n",
       "    }\n",
       "</style>\n",
       "<table border=\"1\" class=\"dataframe\">\n",
       "  <thead>\n",
       "    <tr style=\"text-align: right;\">\n",
       "      <th></th>\n",
       "      <th>weekends_average</th>\n",
       "    </tr>\n",
       "    <tr>\n",
       "      <th>hour</th>\n",
       "      <th></th>\n",
       "    </tr>\n",
       "  </thead>\n",
       "  <tbody>\n",
       "    <tr>\n",
       "      <th>00</th>\n",
       "      <td>2.0</td>\n",
       "    </tr>\n",
       "    <tr>\n",
       "      <th>01</th>\n",
       "      <td>6.0</td>\n",
       "    </tr>\n",
       "    <tr>\n",
       "      <th>03</th>\n",
       "      <td>1.0</td>\n",
       "    </tr>\n",
       "    <tr>\n",
       "      <th>05</th>\n",
       "      <td>2.0</td>\n",
       "    </tr>\n",
       "    <tr>\n",
       "      <th>07</th>\n",
       "      <td>4.0</td>\n",
       "    </tr>\n",
       "  </tbody>\n",
       "</table>\n",
       "</div>"
      ],
      "text/plain": [
       "      weekends_average\n",
       "hour                  \n",
       "00                 2.0\n",
       "01                 6.0\n",
       "03                 1.0\n",
       "05                 2.0\n",
       "07                 4.0"
      ]
     },
     "execution_count": 12,
     "metadata": {},
     "output_type": "execute_result"
    }
   ],
   "source": [
    "query = \"\"\"\n",
    "SELECT\n",
    "    holy.hour,\n",
    "    (SUM(holy.dates_count) * 1.0 / COUNT(holy.hour)) weekends_average\n",
    "FROM\n",
    "    (SELECT\n",
    "        hour,\n",
    "        COUNT(date) dates_count\n",
    "    FROM\n",
    "        (SELECT\n",
    "            strftime('%Y-%m-%d', timestamp) date,\n",
    "            strftime('%H', timestamp) hour,\n",
    "            CASE\n",
    "                WHEN strftime(\"%w\", timestamp) IN ('0', '6')\n",
    "                    THEN 1\n",
    "                ELSE 0\n",
    "            END weekday\n",
    "        FROM\n",
    "            checker\n",
    "        WHERE\n",
    "            uid LIKE 'user%'\n",
    "            AND\n",
    "            weekday=1)\n",
    "    GROUP BY\n",
    "        hour,\n",
    "        date) holy\n",
    "GROUP BY\n",
    "    holy.hour\n",
    "\"\"\"\n",
    "weekends_avg_commits_per_hour = pd.read_sql(query, con, index_col='hour')\n",
    "# weekends_avg_commits_per_hour['hour'] = pd.to_numeric(weekends_avg_commits_per_hour['hour'],\n",
    "#                                                       downcast='unsigned')\n",
    "# weekends_avg_commits_per_hour.set_index('hour', inplace=True)\n",
    "weekends_avg_commits_per_hour['weekends_average'] = pd.to_numeric(weekends_avg_commits_per_hour['weekends_average'],\n",
    "                                                                 downcast='float')\n",
    "weekends_avg_commits_per_hour.head()"
   ]
  },
  {
   "cell_type": "markdown",
   "id": "d479633d",
   "metadata": {},
   "source": [
    "---\n",
    "### Wordays average number of commits per hour"
   ]
  },
  {
   "cell_type": "code",
   "execution_count": 13,
   "id": "f9a36100",
   "metadata": {},
   "outputs": [
    {
     "data": {
      "text/html": [
       "<div>\n",
       "<style scoped>\n",
       "    .dataframe tbody tr th:only-of-type {\n",
       "        vertical-align: middle;\n",
       "    }\n",
       "\n",
       "    .dataframe tbody tr th {\n",
       "        vertical-align: top;\n",
       "    }\n",
       "\n",
       "    .dataframe thead th {\n",
       "        text-align: right;\n",
       "    }\n",
       "</style>\n",
       "<table border=\"1\" class=\"dataframe\">\n",
       "  <thead>\n",
       "    <tr style=\"text-align: right;\">\n",
       "      <th></th>\n",
       "      <th>workdays_average</th>\n",
       "    </tr>\n",
       "    <tr>\n",
       "      <th>hour</th>\n",
       "      <th></th>\n",
       "    </tr>\n",
       "  </thead>\n",
       "  <tbody>\n",
       "    <tr>\n",
       "      <th>00</th>\n",
       "      <td>3.000000</td>\n",
       "    </tr>\n",
       "    <tr>\n",
       "      <th>03</th>\n",
       "      <td>2.000000</td>\n",
       "    </tr>\n",
       "    <tr>\n",
       "      <th>05</th>\n",
       "      <td>7.500000</td>\n",
       "    </tr>\n",
       "    <tr>\n",
       "      <th>06</th>\n",
       "      <td>1.500000</td>\n",
       "    </tr>\n",
       "    <tr>\n",
       "      <th>07</th>\n",
       "      <td>5.166667</td>\n",
       "    </tr>\n",
       "  </tbody>\n",
       "</table>\n",
       "</div>"
      ],
      "text/plain": [
       "      workdays_average\n",
       "hour                  \n",
       "00            3.000000\n",
       "03            2.000000\n",
       "05            7.500000\n",
       "06            1.500000\n",
       "07            5.166667"
      ]
     },
     "execution_count": 13,
     "metadata": {},
     "output_type": "execute_result"
    }
   ],
   "source": [
    "query = \"\"\"\n",
    "SELECT\n",
    "    workdays.hour,\n",
    "    (SUM(workdays.dates_count) * 1.0 / COUNT(workdays.hour)) workdays_average\n",
    "FROM\n",
    "    (SELECT\n",
    "        hour,\n",
    "        COUNT(date) dates_count\n",
    "    FROM\n",
    "        (SELECT\n",
    "            strftime('%Y-%m-%d', timestamp) date,\n",
    "            strftime('%H', timestamp) hour,\n",
    "            CASE\n",
    "                WHEN strftime(\"%w\", timestamp) IN ('0', '6')\n",
    "                    THEN 1\n",
    "                ELSE 0\n",
    "            END weekday\n",
    "        FROM\n",
    "            checker\n",
    "        WHERE\n",
    "            uid LIKE 'user%'\n",
    "            AND\n",
    "            weekday=0)\n",
    "    GROUP BY\n",
    "        hour,\n",
    "        date) workdays\n",
    "GROUP BY\n",
    "    workdays.hour\n",
    "\"\"\"\n",
    "workdays_avg_commits_per_hour = pd.read_sql(query, con, index_col='hour')\n",
    "# workdays_avg_commits_per_hour['hour'] = pd.to_numeric(workdays_avg_commits_per_hour['hour'],\n",
    "#                                                       downcast='unsigned')\n",
    "# workdays_avg_commits_per_hour.set_index('hour', inplace=True)\n",
    "workdays_avg_commits_per_hour['workdays_average'] = pd.to_numeric(workdays_avg_commits_per_hour['workdays_average'],\n",
    "                                                                 downcast='float')\n",
    "workdays_avg_commits_per_hour.head()"
   ]
  },
  {
   "cell_type": "markdown",
   "id": "16d69887",
   "metadata": {},
   "source": [
    "---\n",
    "## Concatenating two dataframes, adding missing rows, filling NaN values"
   ]
  },
  {
   "cell_type": "code",
   "execution_count": 14,
   "id": "3c525e31",
   "metadata": {},
   "outputs": [
    {
     "data": {
      "text/html": [
       "<div>\n",
       "<style scoped>\n",
       "    .dataframe tbody tr th:only-of-type {\n",
       "        vertical-align: middle;\n",
       "    }\n",
       "\n",
       "    .dataframe tbody tr th {\n",
       "        vertical-align: top;\n",
       "    }\n",
       "\n",
       "    .dataframe thead th {\n",
       "        text-align: right;\n",
       "    }\n",
       "</style>\n",
       "<table border=\"1\" class=\"dataframe\">\n",
       "  <thead>\n",
       "    <tr style=\"text-align: right;\">\n",
       "      <th></th>\n",
       "      <th>weekends_average</th>\n",
       "      <th>workdays_average</th>\n",
       "    </tr>\n",
       "    <tr>\n",
       "      <th>hour</th>\n",
       "      <th></th>\n",
       "      <th></th>\n",
       "    </tr>\n",
       "  </thead>\n",
       "  <tbody>\n",
       "    <tr>\n",
       "      <th>0</th>\n",
       "      <td>2.000000</td>\n",
       "      <td>3.000000</td>\n",
       "    </tr>\n",
       "    <tr>\n",
       "      <th>1</th>\n",
       "      <td>6.000000</td>\n",
       "      <td>0.000000</td>\n",
       "    </tr>\n",
       "    <tr>\n",
       "      <th>2</th>\n",
       "      <td>0.000000</td>\n",
       "      <td>0.000000</td>\n",
       "    </tr>\n",
       "    <tr>\n",
       "      <th>3</th>\n",
       "      <td>1.000000</td>\n",
       "      <td>2.000000</td>\n",
       "    </tr>\n",
       "    <tr>\n",
       "      <th>4</th>\n",
       "      <td>0.000000</td>\n",
       "      <td>0.000000</td>\n",
       "    </tr>\n",
       "    <tr>\n",
       "      <th>5</th>\n",
       "      <td>2.000000</td>\n",
       "      <td>7.500000</td>\n",
       "    </tr>\n",
       "    <tr>\n",
       "      <th>6</th>\n",
       "      <td>0.000000</td>\n",
       "      <td>1.500000</td>\n",
       "    </tr>\n",
       "    <tr>\n",
       "      <th>7</th>\n",
       "      <td>4.000000</td>\n",
       "      <td>5.166667</td>\n",
       "    </tr>\n",
       "    <tr>\n",
       "      <th>8</th>\n",
       "      <td>7.000000</td>\n",
       "      <td>3.700000</td>\n",
       "    </tr>\n",
       "    <tr>\n",
       "      <th>9</th>\n",
       "      <td>3.666667</td>\n",
       "      <td>6.000000</td>\n",
       "    </tr>\n",
       "    <tr>\n",
       "      <th>10</th>\n",
       "      <td>7.000000</td>\n",
       "      <td>13.200000</td>\n",
       "    </tr>\n",
       "    <tr>\n",
       "      <th>11</th>\n",
       "      <td>23.600000</td>\n",
       "      <td>6.769231</td>\n",
       "    </tr>\n",
       "    <tr>\n",
       "      <th>12</th>\n",
       "      <td>9.500000</td>\n",
       "      <td>7.181818</td>\n",
       "    </tr>\n",
       "    <tr>\n",
       "      <th>13</th>\n",
       "      <td>18.000000</td>\n",
       "      <td>8.111111</td>\n",
       "    </tr>\n",
       "    <tr>\n",
       "      <th>14</th>\n",
       "      <td>12.428572</td>\n",
       "      <td>10.166667</td>\n",
       "    </tr>\n",
       "    <tr>\n",
       "      <th>15</th>\n",
       "      <td>14.250000</td>\n",
       "      <td>12.818182</td>\n",
       "    </tr>\n",
       "    <tr>\n",
       "      <th>16</th>\n",
       "      <td>14.800000</td>\n",
       "      <td>18.888889</td>\n",
       "    </tr>\n",
       "    <tr>\n",
       "      <th>17</th>\n",
       "      <td>7.142857</td>\n",
       "      <td>16.000000</td>\n",
       "    </tr>\n",
       "    <tr>\n",
       "      <th>18</th>\n",
       "      <td>9.714286</td>\n",
       "      <td>15.181818</td>\n",
       "    </tr>\n",
       "    <tr>\n",
       "      <th>19</th>\n",
       "      <td>13.125000</td>\n",
       "      <td>17.833334</td>\n",
       "    </tr>\n",
       "    <tr>\n",
       "      <th>20</th>\n",
       "      <td>13.000000</td>\n",
       "      <td>14.076923</td>\n",
       "    </tr>\n",
       "    <tr>\n",
       "      <th>21</th>\n",
       "      <td>10.285714</td>\n",
       "      <td>24.333334</td>\n",
       "    </tr>\n",
       "    <tr>\n",
       "      <th>22</th>\n",
       "      <td>9.833333</td>\n",
       "      <td>3.750000</td>\n",
       "    </tr>\n",
       "    <tr>\n",
       "      <th>23</th>\n",
       "      <td>6.400000</td>\n",
       "      <td>5.000000</td>\n",
       "    </tr>\n",
       "  </tbody>\n",
       "</table>\n",
       "</div>"
      ],
      "text/plain": [
       "      weekends_average  workdays_average\n",
       "hour                                    \n",
       "0             2.000000          3.000000\n",
       "1             6.000000          0.000000\n",
       "2             0.000000          0.000000\n",
       "3             1.000000          2.000000\n",
       "4             0.000000          0.000000\n",
       "5             2.000000          7.500000\n",
       "6             0.000000          1.500000\n",
       "7             4.000000          5.166667\n",
       "8             7.000000          3.700000\n",
       "9             3.666667          6.000000\n",
       "10            7.000000         13.200000\n",
       "11           23.600000          6.769231\n",
       "12            9.500000          7.181818\n",
       "13           18.000000          8.111111\n",
       "14           12.428572         10.166667\n",
       "15           14.250000         12.818182\n",
       "16           14.800000         18.888889\n",
       "17            7.142857         16.000000\n",
       "18            9.714286         15.181818\n",
       "19           13.125000         17.833334\n",
       "20           13.000000         14.076923\n",
       "21           10.285714         24.333334\n",
       "22            9.833333          3.750000\n",
       "23            6.400000          5.000000"
      ]
     },
     "execution_count": 14,
     "metadata": {},
     "output_type": "execute_result"
    }
   ],
   "source": [
    "avg_commits_per_hour = weekends_avg_commits_per_hour.join(workdays_avg_commits_per_hour, how='outer')\n",
    "avg_commits_per_hour.index = avg_commits_per_hour.index.astype(\"int\")\n",
    "\n",
    "for hour in range(24):\n",
    "    if hour not in avg_commits_per_hour.index:\n",
    "        avg_commits_per_hour.loc[hour] = [0, 0]\n",
    "avg_commits_per_hour = avg_commits_per_hour.sort_index().fillna(0)\n",
    "avg_commits_per_hour"
   ]
  },
  {
   "cell_type": "markdown",
   "id": "6e7f3d4a",
   "metadata": {},
   "source": [
    "---\n",
    "## Drawing a plot"
   ]
  },
  {
   "cell_type": "code",
   "execution_count": 15,
   "id": "46987a3f",
   "metadata": {},
   "outputs": [
    {
     "data": {
      "text/plain": [
       "array([<AxesSubplot:title={'center':'weekends'}, xlabel='hour'>,\n",
       "       <AxesSubplot:title={'center':'workdays'}, xlabel='hour'>],\n",
       "      dtype=object)"
      ]
     },
     "execution_count": 15,
     "metadata": {},
     "output_type": "execute_result"
    },
    {
     "data": {
      "image/png": "[encoded data removed]",
      "text/plain": [
       "<Figure size 1500x800 with 2 Axes>"
      ]
     },
     "metadata": {},
     "output_type": "display_data"
    }
   ],
   "source": [
    "plt = avg_commits_per_hour.plot(title='Commits per hour',\n",
    "                                kind='bar', subplots=True,\n",
    "                                figsize=(15, 8), fontsize=8, color=['coral', 'c'], alpha=0.5)\n",
    "plt[0].set_title('weekends')\n",
    "plt[1].set_title('workdays')\n",
    "plt"
   ]
  },
  {
   "cell_type": "markdown",
   "id": "9bf270d7",
   "metadata": {},
   "source": [
    "---\n",
    "## Closing the connection"
   ]
  },
  {
   "cell_type": "code",
   "execution_count": 16,
   "id": "0d08d2b0",
   "metadata": {},
   "outputs": [],
   "source": [
    "con.close()"
   ]
  },
  {
   "cell_type": "markdown",
   "id": "a8ea0d30",
   "metadata": {},
   "source": [
    "---\n",
    "## Question"
   ]
  },
  {
   "cell_type": "markdown",
   "id": "6197c126",
   "metadata": {},
   "source": [
    "#### Is the dynamic different on working days and weekends?\n",
    "> For the answer include the hour when the number of commits is the largest during working days and the hour when it is the largest during the weekend"
   ]
  },
  {
   "cell_type": "markdown",
   "id": "9095ac32",
   "metadata": {},
   "source": [
    "---\n",
    "## Answer"
   ]
  },
  {
   "cell_type": "markdown",
   "id": "cd4fcd85",
   "metadata": {},
   "source": [
    "`weekends` moda is ***11***, meanwhile `workdays` - ***21***\\\n",
    "Moreover, plots show us that during the ***weekends*** commits are primerily made in the ***afternoon***, ***workdays***, on the contrary, have commits mostly in the ***evening***."
   ]
  }
 ],
 "metadata": {
  "kernelspec": {
   "display_name": "Python 3 (ipykernel)",
   "language": "python",
   "name": "python3"
  },
  "language_info": {
   "codemirror_mode": {
    "name": "ipython",
    "version": 3
   },
   "file_extension": ".py",
   "mimetype": "text/x-python",
   "name": "python",
   "nbconvert_exporter": "python",
   "pygments_lexer": "ipython3",
   "version": "3.10.2"
  }
 },
 "nbformat": 4,
 "nbformat_minor": 5
}
