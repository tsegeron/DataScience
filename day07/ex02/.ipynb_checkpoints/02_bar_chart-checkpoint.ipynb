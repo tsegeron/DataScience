{
 "cells": [
  {
   "cell_type": "code",
   "execution_count": 9,
   "id": "6142110a",
   "metadata": {},
   "outputs": [],
   "source": [
    "import pandas as pd\n",
    "import sqlite3"
   ]
  },
  {
   "cell_type": "code",
   "execution_count": 10,
   "id": "c7df720f",
   "metadata": {},
   "outputs": [],
   "source": [
    "con = sqlite3.connect('../data/checking-logs.sqlite')"
   ]
  },
  {
   "cell_type": "markdown",
   "id": "60b75270",
   "metadata": {},
   "source": [
    "---\n",
    "### Our tables"
   ]
  },
  {
   "cell_type": "code",
   "execution_count": 11,
   "id": "b8455ec5",
   "metadata": {},
   "outputs": [
    {
     "data": {
      "text/html": [
       "<div>\n",
       "<style scoped>\n",
       "    .dataframe tbody tr th:only-of-type {\n",
       "        vertical-align: middle;\n",
       "    }\n",
       "\n",
       "    .dataframe tbody tr th {\n",
       "        vertical-align: top;\n",
       "    }\n",
       "\n",
       "    .dataframe thead th {\n",
       "        text-align: right;\n",
       "    }\n",
       "</style>\n",
       "<table border=\"1\" class=\"dataframe\">\n",
       "  <thead>\n",
       "    <tr style=\"text-align: right;\">\n",
       "      <th></th>\n",
       "      <th>name</th>\n",
       "    </tr>\n",
       "  </thead>\n",
       "  <tbody>\n",
       "    <tr>\n",
       "      <th>0</th>\n",
       "      <td>pageviews</td>\n",
       "    </tr>\n",
       "    <tr>\n",
       "      <th>1</th>\n",
       "      <td>checker</td>\n",
       "    </tr>\n",
       "    <tr>\n",
       "      <th>2</th>\n",
       "      <td>deadlines</td>\n",
       "    </tr>\n",
       "  </tbody>\n",
       "</table>\n",
       "</div>"
      ],
      "text/plain": [
       "        name\n",
       "0  pageviews\n",
       "1    checker\n",
       "2  deadlines"
      ]
     },
     "execution_count": 11,
     "metadata": {},
     "output_type": "execute_result"
    }
   ],
   "source": [
    "pd.read_sql('SELECT name FROM sqlite_master WHERE type=\"table\"', con)"
   ]
  },
  {
   "cell_type": "markdown",
   "id": "7e5e7d0b",
   "metadata": {},
   "source": [
    "## When do our users usually commit the labs: in the `night`, `morning`, `afternoon`, or `evening`? And how has it changed over time?"
   ]
  },
  {
   "cell_type": "markdown",
   "id": "b7c469ee",
   "metadata": {},
   "source": [
    "- *0:00:00-03:59:59* night\n",
    "- *04:00:00-09:59:59* morning\n",
    "- *10:00:00-16:59:59* afternoon\n",
    "- *17:00:00-23:59:59* evening"
   ]
  },
  {
   "cell_type": "markdown",
   "id": "e3781bc6",
   "metadata": {},
   "source": [
    "For this task we need ***`checker`*** table"
   ]
  },
  {
   "cell_type": "code",
   "execution_count": 12,
   "id": "39f585c1",
   "metadata": {},
   "outputs": [
    {
     "data": {
      "text/html": [
       "<div>\n",
       "<style scoped>\n",
       "    .dataframe tbody tr th:only-of-type {\n",
       "        vertical-align: middle;\n",
       "    }\n",
       "\n",
       "    .dataframe tbody tr th {\n",
       "        vertical-align: top;\n",
       "    }\n",
       "\n",
       "    .dataframe thead th {\n",
       "        text-align: right;\n",
       "    }\n",
       "</style>\n",
       "<table border=\"1\" class=\"dataframe\">\n",
       "  <thead>\n",
       "    <tr style=\"text-align: right;\">\n",
       "      <th></th>\n",
       "      <th>index</th>\n",
       "      <th>status</th>\n",
       "      <th>success</th>\n",
       "      <th>timestamp</th>\n",
       "      <th>numTrials</th>\n",
       "      <th>labname</th>\n",
       "      <th>uid</th>\n",
       "    </tr>\n",
       "  </thead>\n",
       "  <tbody>\n",
       "    <tr>\n",
       "      <th>0</th>\n",
       "      <td>0</td>\n",
       "      <td>checking</td>\n",
       "      <td>0</td>\n",
       "      <td>2020-04-16 21:12:50.740474</td>\n",
       "      <td>5</td>\n",
       "      <td>None</td>\n",
       "      <td>admin_1</td>\n",
       "    </tr>\n",
       "    <tr>\n",
       "      <th>1</th>\n",
       "      <td>1</td>\n",
       "      <td>ready</td>\n",
       "      <td>0</td>\n",
       "      <td>2020-04-16 21:12:54.708365</td>\n",
       "      <td>5</td>\n",
       "      <td>code_rvw</td>\n",
       "      <td>admin_1</td>\n",
       "    </tr>\n",
       "    <tr>\n",
       "      <th>2</th>\n",
       "      <td>2</td>\n",
       "      <td>checking</td>\n",
       "      <td>0</td>\n",
       "      <td>2020-04-16 21:46:47.769088</td>\n",
       "      <td>7</td>\n",
       "      <td>None</td>\n",
       "      <td>admin_1</td>\n",
       "    </tr>\n",
       "  </tbody>\n",
       "</table>\n",
       "</div>"
      ],
      "text/plain": [
       "   index    status  success                   timestamp  numTrials   labname  \\\n",
       "0      0  checking        0  2020-04-16 21:12:50.740474          5      None   \n",
       "1      1     ready        0  2020-04-16 21:12:54.708365          5  code_rvw   \n",
       "2      2  checking        0  2020-04-16 21:46:47.769088          7      None   \n",
       "\n",
       "       uid  \n",
       "0  admin_1  \n",
       "1  admin_1  \n",
       "2  admin_1  "
      ]
     },
     "execution_count": 12,
     "metadata": {},
     "output_type": "execute_result"
    }
   ],
   "source": [
    "pd.read_sql('SELECT * FROM checker LIMIT 3', con)"
   ]
  },
  {
   "cell_type": "markdown",
   "id": "04c3dd94",
   "metadata": {},
   "source": [
    "### Extracting from table `checker` creating `daytime` column inplace"
   ]
  },
  {
   "cell_type": "code",
   "execution_count": 13,
   "id": "cd2a7a71",
   "metadata": {},
   "outputs": [
    {
     "data": {
      "text/html": [
       "<div>\n",
       "<style scoped>\n",
       "    .dataframe tbody tr th:only-of-type {\n",
       "        vertical-align: middle;\n",
       "    }\n",
       "\n",
       "    .dataframe tbody tr th {\n",
       "        vertical-align: top;\n",
       "    }\n",
       "\n",
       "    .dataframe thead th {\n",
       "        text-align: right;\n",
       "    }\n",
       "</style>\n",
       "<table border=\"1\" class=\"dataframe\">\n",
       "  <thead>\n",
       "    <tr style=\"text-align: right;\">\n",
       "      <th></th>\n",
       "      <th>date</th>\n",
       "      <th>daytime</th>\n",
       "    </tr>\n",
       "  </thead>\n",
       "  <tbody>\n",
       "    <tr>\n",
       "      <th>0</th>\n",
       "      <td>2020-04-17</td>\n",
       "      <td>morning</td>\n",
       "    </tr>\n",
       "    <tr>\n",
       "      <th>1</th>\n",
       "      <td>2020-04-17</td>\n",
       "      <td>morning</td>\n",
       "    </tr>\n",
       "    <tr>\n",
       "      <th>2</th>\n",
       "      <td>2020-04-17</td>\n",
       "      <td>morning</td>\n",
       "    </tr>\n",
       "    <tr>\n",
       "      <th>3</th>\n",
       "      <td>2020-04-17</td>\n",
       "      <td>morning</td>\n",
       "    </tr>\n",
       "    <tr>\n",
       "      <th>4</th>\n",
       "      <td>2020-04-17</td>\n",
       "      <td>morning</td>\n",
       "    </tr>\n",
       "    <tr>\n",
       "      <th>...</th>\n",
       "      <td>...</td>\n",
       "      <td>...</td>\n",
       "    </tr>\n",
       "    <tr>\n",
       "      <th>3202</th>\n",
       "      <td>2020-05-21</td>\n",
       "      <td>evening</td>\n",
       "    </tr>\n",
       "    <tr>\n",
       "      <th>3203</th>\n",
       "      <td>2020-05-21</td>\n",
       "      <td>evening</td>\n",
       "    </tr>\n",
       "    <tr>\n",
       "      <th>3204</th>\n",
       "      <td>2020-05-21</td>\n",
       "      <td>evening</td>\n",
       "    </tr>\n",
       "    <tr>\n",
       "      <th>3205</th>\n",
       "      <td>2020-05-21</td>\n",
       "      <td>evening</td>\n",
       "    </tr>\n",
       "    <tr>\n",
       "      <th>3206</th>\n",
       "      <td>2020-05-21</td>\n",
       "      <td>evening</td>\n",
       "    </tr>\n",
       "  </tbody>\n",
       "</table>\n",
       "<p>3207 rows × 2 columns</p>\n",
       "</div>"
      ],
      "text/plain": [
       "           date  daytime\n",
       "0    2020-04-17  morning\n",
       "1    2020-04-17  morning\n",
       "2    2020-04-17  morning\n",
       "3    2020-04-17  morning\n",
       "4    2020-04-17  morning\n",
       "...         ...      ...\n",
       "3202 2020-05-21  evening\n",
       "3203 2020-05-21  evening\n",
       "3204 2020-05-21  evening\n",
       "3205 2020-05-21  evening\n",
       "3206 2020-05-21  evening\n",
       "\n",
       "[3207 rows x 2 columns]"
      ]
     },
     "execution_count": 13,
     "metadata": {},
     "output_type": "execute_result"
    }
   ],
   "source": [
    "query = \"\"\"\n",
    "SELECT\n",
    "    strftime('%Y-%m-%d', timestamp) date,\n",
    "    CASE\n",
    "        WHEN strftime('%H:%M:%S', timestamp) BETWEEN '00:00:00' AND '03:59:59'\n",
    "            THEN 'night'\n",
    "        WHEN strftime('%H:%M:%S', timestamp) BETWEEN '04:00:00' AND '09:59:59'\n",
    "            THEN 'morning'\n",
    "        WHEN strftime('%H:%M:%S', timestamp) BETWEEN '10:00:00' AND '16:59:59'\n",
    "            THEN 'afternoon'\n",
    "        ELSE 'evening'\n",
    "    END daytime\n",
    "FROM\n",
    "    checker\n",
    "WHERE\n",
    "    uid LIKE 'user_%'\n",
    "\"\"\"\n",
    "daytime_commits = pd.read_sql(query, con)\n",
    "daytime_commits['date'] = pd.to_datetime(daytime_commits['date'])\n",
    "daytime_commits"
   ]
  },
  {
   "cell_type": "markdown",
   "id": "8ad07ddb",
   "metadata": {},
   "source": [
    "### Table transformation to the type we need to draw a plot"
   ]
  },
  {
   "cell_type": "code",
   "execution_count": 14,
   "id": "71b3a0a6",
   "metadata": {},
   "outputs": [
    {
     "name": "stdout",
     "output_type": "stream",
     "text": [
      "35\n"
     ]
    },
    {
     "data": {
      "text/html": [
       "<div>\n",
       "<style scoped>\n",
       "    .dataframe tbody tr th:only-of-type {\n",
       "        vertical-align: middle;\n",
       "    }\n",
       "\n",
       "    .dataframe tbody tr th {\n",
       "        vertical-align: top;\n",
       "    }\n",
       "\n",
       "    .dataframe thead th {\n",
       "        text-align: right;\n",
       "    }\n",
       "</style>\n",
       "<table border=\"1\" class=\"dataframe\">\n",
       "  <thead>\n",
       "    <tr style=\"text-align: right;\">\n",
       "      <th>daytime</th>\n",
       "      <th>night</th>\n",
       "      <th>morning</th>\n",
       "      <th>afternoon</th>\n",
       "      <th>evening</th>\n",
       "    </tr>\n",
       "    <tr>\n",
       "      <th>date</th>\n",
       "      <th></th>\n",
       "      <th></th>\n",
       "      <th></th>\n",
       "      <th></th>\n",
       "    </tr>\n",
       "  </thead>\n",
       "  <tbody>\n",
       "    <tr>\n",
       "      <th>2020-04-17</th>\n",
       "      <td>0</td>\n",
       "      <td>13</td>\n",
       "      <td>10</td>\n",
       "      <td>0</td>\n",
       "    </tr>\n",
       "    <tr>\n",
       "      <th>2020-04-18</th>\n",
       "      <td>0</td>\n",
       "      <td>1</td>\n",
       "      <td>33</td>\n",
       "      <td>35</td>\n",
       "    </tr>\n",
       "    <tr>\n",
       "      <th>2020-04-19</th>\n",
       "      <td>2</td>\n",
       "      <td>4</td>\n",
       "      <td>16</td>\n",
       "      <td>11</td>\n",
       "    </tr>\n",
       "    <tr>\n",
       "      <th>2020-04-20</th>\n",
       "      <td>0</td>\n",
       "      <td>0</td>\n",
       "      <td>12</td>\n",
       "      <td>13</td>\n",
       "    </tr>\n",
       "    <tr>\n",
       "      <th>2020-04-21</th>\n",
       "      <td>0</td>\n",
       "      <td>0</td>\n",
       "      <td>0</td>\n",
       "      <td>25</td>\n",
       "    </tr>\n",
       "  </tbody>\n",
       "</table>\n",
       "</div>"
      ],
      "text/plain": [
       "daytime     night  morning  afternoon  evening\n",
       "date                                          \n",
       "2020-04-17      0       13         10        0\n",
       "2020-04-18      0        1         33       35\n",
       "2020-04-19      2        4         16       11\n",
       "2020-04-20      0        0         12       13\n",
       "2020-04-21      0        0          0       25"
      ]
     },
     "execution_count": 14,
     "metadata": {},
     "output_type": "execute_result"
    }
   ],
   "source": [
    "daytime_commits_count = daytime_commits.groupby([daytime_commits['date'].dt.date, daytime_commits['daytime']]).count()\n",
    "daytime_commits_count = daytime_commits_count.unstack(1, 0).droplevel(0, 1)\n",
    "daytime_commits_count = daytime_commits_count.reindex(columns=['night', 'morning', 'afternoon', 'evening'])\n",
    "print(len(daytime_commits_count))\n",
    "daytime_commits_count.head()"
   ]
  },
  {
   "cell_type": "code",
   "execution_count": 15,
   "id": "c93891ce",
   "metadata": {},
   "outputs": [
    {
     "data": {
      "image/png": "[encoded data removed]",
      "text/plain": [
       "<Figure size 1500x800 with 1 Axes>"
      ]
     },
     "metadata": {},
     "output_type": "display_data"
    }
   ],
   "source": [
    "plt = daytime_commits_count.plot(title='Commits per day',\n",
    "                                 figsize=(15, 8), fontsize=8,\n",
    "                                 kind='bar', stacked=True,\n",
    "                                 color=['r', 'aquamarine', 'lightseagreen', 'mediumblue'])\n",
    "plt.grid(axis='y')"
   ]
  },
  {
   "cell_type": "code",
   "execution_count": 16,
   "id": "a05b114a",
   "metadata": {},
   "outputs": [],
   "source": [
    "con.close()"
   ]
  },
  {
   "cell_type": "markdown",
   "id": "6ac63ef3",
   "metadata": {},
   "source": [
    "---\n",
    "## Answer the questions"
   ]
  },
  {
   "cell_type": "markdown",
   "id": "c59f6979",
   "metadata": {},
   "source": [
    "1. When do our users usually commit the labs: in the night, morning, afternoon, or evening?\n",
    "1. Which day has:\n",
    "    - the most number of commits\n",
    "    - and at the same time, the number of commits in the evening is higher than in the afternoon?\n",
    "\n",
    "The answer is the date of that day."
   ]
  },
  {
   "cell_type": "markdown",
   "id": "3aec6387",
   "metadata": {},
   "source": [
    "### Answers\n",
    "1. `Afternoon` or `evening` is the time users prefered to commit the labs.\n",
    "2. `2020-05-12` has the `most number of commits` ***and*** `evening commits` are ***more*** than `afternoon` ones. (2 conditions at once)"
   ]
  }
 ],
 "metadata": {
  "kernelspec": {
   "display_name": "Python 3 (ipykernel)",
   "language": "python",
   "name": "python3"
  },
  "language_info": {
   "codemirror_mode": {
    "name": "ipython",
    "version": 3
   },
   "file_extension": ".py",
   "mimetype": "text/x-python",
   "name": "python",
   "nbconvert_exporter": "python",
   "pygments_lexer": "ipython3",
   "version": "3.10.2"
  }
 },
 "nbformat": 4,
 "nbformat_minor": 5
}
