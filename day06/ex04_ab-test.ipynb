{
 "cells": [
  {
   "cell_type": "code",
   "execution_count": 35,
   "id": "0ca261e2",
   "metadata": {},
   "outputs": [],
   "source": [
    "import pandas as pd\n",
    "import sqlite3"
   ]
  },
  {
   "cell_type": "markdown",
   "id": "a44f3446",
   "metadata": {},
   "source": [
    "### Create a connection to the database using the library sqlite3"
   ]
  },
  {
   "cell_type": "code",
   "execution_count": 36,
   "id": "27641ca6",
   "metadata": {},
   "outputs": [],
   "source": [
    "con = sqlite3.connect('../data/checking-logs.sqlite')"
   ]
  },
  {
   "cell_type": "code",
   "execution_count": 37,
   "id": "74d6151c",
   "metadata": {},
   "outputs": [
    {
     "name": "stdout",
     "output_type": "stream",
     "text": [
      "[('pageviews',), ('checker',), ('deadlines',), ('datamart',), ('test',), ('control',)]\n"
     ]
    }
   ],
   "source": [
    "cursor = con.cursor()\n",
    "cursor.execute('SELECT name FROM sqlite_master WHERE type=\"table\"')\n",
    "print(cursor.fetchall())"
   ]
  },
  {
   "cell_type": "markdown",
   "id": "4c86d6f0",
   "metadata": {},
   "source": [
    "## Using only one query for each of the groups, create two dataframes: `test_results` and `control_results` with the columns `time` and `avg_diff` and only *two rows*"
   ]
  },
  {
   "cell_type": "markdown",
   "id": "8c166bcf",
   "metadata": {},
   "source": [
    "- `time` should have the values: `after` and `before`\n",
    "- `avg_diff` contains the *average delta* among all the users for the time period ***before*** each of them made their first visit to the page and ***after***ward\n",
    "- only take into account the users that have observations before and after"
   ]
  },
  {
   "cell_type": "markdown",
   "id": "a7635eca",
   "metadata": {},
   "source": [
    "### `test` table info"
   ]
  },
  {
   "cell_type": "code",
   "execution_count": 38,
   "id": "852346ca",
   "metadata": {},
   "outputs": [
    {
     "data": {
      "text/html": [
       "<div>\n",
       "<style scoped>\n",
       "    .dataframe tbody tr th:only-of-type {\n",
       "        vertical-align: middle;\n",
       "    }\n",
       "\n",
       "    .dataframe tbody tr th {\n",
       "        vertical-align: top;\n",
       "    }\n",
       "\n",
       "    .dataframe thead th {\n",
       "        text-align: right;\n",
       "    }\n",
       "</style>\n",
       "<table border=\"1\" class=\"dataframe\">\n",
       "  <thead>\n",
       "    <tr style=\"text-align: right;\">\n",
       "      <th></th>\n",
       "      <th>index</th>\n",
       "      <th>uid</th>\n",
       "      <th>labname</th>\n",
       "      <th>first_commit_ts</th>\n",
       "      <th>first_view_ts</th>\n",
       "    </tr>\n",
       "  </thead>\n",
       "  <tbody>\n",
       "    <tr>\n",
       "      <th>0</th>\n",
       "      <td>0</td>\n",
       "      <td>user_17</td>\n",
       "      <td>project1</td>\n",
       "      <td>2020-04-18 07:56:45.408648</td>\n",
       "      <td>2020-04-18 10:56:55.833899</td>\n",
       "    </tr>\n",
       "    <tr>\n",
       "      <th>1</th>\n",
       "      <td>1</td>\n",
       "      <td>user_30</td>\n",
       "      <td>laba04</td>\n",
       "      <td>2020-04-18 13:36:53.971502</td>\n",
       "      <td>2020-04-17 22:46:26.785035</td>\n",
       "    </tr>\n",
       "  </tbody>\n",
       "</table>\n",
       "</div>"
      ],
      "text/plain": [
       "   index      uid   labname             first_commit_ts  \\\n",
       "0      0  user_17  project1  2020-04-18 07:56:45.408648   \n",
       "1      1  user_30    laba04  2020-04-18 13:36:53.971502   \n",
       "\n",
       "                first_view_ts  \n",
       "0  2020-04-18 10:56:55.833899  \n",
       "1  2020-04-17 22:46:26.785035  "
      ]
     },
     "execution_count": 38,
     "metadata": {},
     "output_type": "execute_result"
    }
   ],
   "source": [
    "pd.read_sql('SELECT * FROM test LIMIT 2', con)"
   ]
  },
  {
   "cell_type": "markdown",
   "id": "1f0c684d",
   "metadata": {},
   "source": [
    "### `deadlines` table info"
   ]
  },
  {
   "cell_type": "code",
   "execution_count": 39,
   "id": "a9db5e96",
   "metadata": {},
   "outputs": [
    {
     "data": {
      "text/html": [
       "<div>\n",
       "<style scoped>\n",
       "    .dataframe tbody tr th:only-of-type {\n",
       "        vertical-align: middle;\n",
       "    }\n",
       "\n",
       "    .dataframe tbody tr th {\n",
       "        vertical-align: top;\n",
       "    }\n",
       "\n",
       "    .dataframe thead th {\n",
       "        text-align: right;\n",
       "    }\n",
       "</style>\n",
       "<table border=\"1\" class=\"dataframe\">\n",
       "  <thead>\n",
       "    <tr style=\"text-align: right;\">\n",
       "      <th></th>\n",
       "      <th>index</th>\n",
       "      <th>labs</th>\n",
       "      <th>deadlines</th>\n",
       "    </tr>\n",
       "  </thead>\n",
       "  <tbody>\n",
       "    <tr>\n",
       "      <th>0</th>\n",
       "      <td>0</td>\n",
       "      <td>laba04</td>\n",
       "      <td>1587945599</td>\n",
       "    </tr>\n",
       "    <tr>\n",
       "      <th>1</th>\n",
       "      <td>1</td>\n",
       "      <td>laba04s</td>\n",
       "      <td>1587945599</td>\n",
       "    </tr>\n",
       "  </tbody>\n",
       "</table>\n",
       "</div>"
      ],
      "text/plain": [
       "   index     labs   deadlines\n",
       "0      0   laba04  1587945599\n",
       "1      1  laba04s  1587945599"
      ]
     },
     "execution_count": 39,
     "metadata": {},
     "output_type": "execute_result"
    }
   ],
   "source": [
    "pd.read_sql('SELECT * FROM deadlines LIMIT 2', con)"
   ]
  },
  {
   "cell_type": "markdown",
   "id": "777bb975",
   "metadata": {},
   "source": [
    "---\n",
    "### Creating  `test_results` table"
   ]
  },
  {
   "cell_type": "markdown",
   "id": "e098ec93",
   "metadata": {},
   "source": [
    "> We want to calculate the `average delta` (first commit - deadline) ***before*** that timestamp and ***after*** that timestamp (`first_view_ts`)"
   ]
  },
  {
   "cell_type": "code",
   "execution_count": 40,
   "id": "1a9f1309",
   "metadata": {},
   "outputs": [
    {
     "data": {
      "text/html": [
       "<div>\n",
       "<style scoped>\n",
       "    .dataframe tbody tr th:only-of-type {\n",
       "        vertical-align: middle;\n",
       "    }\n",
       "\n",
       "    .dataframe tbody tr th {\n",
       "        vertical-align: top;\n",
       "    }\n",
       "\n",
       "    .dataframe thead th {\n",
       "        text-align: right;\n",
       "    }\n",
       "</style>\n",
       "<table border=\"1\" class=\"dataframe\">\n",
       "  <thead>\n",
       "    <tr style=\"text-align: right;\">\n",
       "      <th></th>\n",
       "      <th>time</th>\n",
       "      <th>before</th>\n",
       "    </tr>\n",
       "  </thead>\n",
       "  <tbody>\n",
       "    <tr>\n",
       "      <th>0</th>\n",
       "      <td>after</td>\n",
       "      <td>-103.40625</td>\n",
       "    </tr>\n",
       "    <tr>\n",
       "      <th>1</th>\n",
       "      <td>before</td>\n",
       "      <td>-60.56250</td>\n",
       "    </tr>\n",
       "  </tbody>\n",
       "</table>\n",
       "</div>"
      ],
      "text/plain": [
       "     time     before\n",
       "0   after -103.40625\n",
       "1  before  -60.56250"
      ]
     },
     "execution_count": 40,
     "metadata": {},
     "output_type": "execute_result"
    }
   ],
   "source": [
    "query = \"\"\"\n",
    "SELECT\n",
    "    'before' AS time,\n",
    "    AVG(delta_before) as before\n",
    "FROM\n",
    "    (SELECT\n",
    "        CAST((julianday(t.first_commit_ts) - julianday(d.deadlines, 'unixepoch')) * 24 AS INTEGER) as delta_before\n",
    "    FROM\n",
    "        test t\n",
    "    LEFT JOIN\n",
    "        deadlines d\n",
    "    ON\n",
    "        t.labname = d.labs\n",
    "        WHERE\n",
    "        t.labname != 'project1'\n",
    "        AND\n",
    "        t.first_commit_ts < first_view_ts\n",
    "    )\n",
    "\n",
    "UNION\n",
    "\n",
    "SELECT\n",
    "    'after' AS time,\n",
    "    AVG(delta_after) as after\n",
    "FROM\n",
    "    (SELECT\n",
    "        CAST((julianday(t.first_commit_ts) - julianday(d.deadlines, 'unixepoch')) * 24 AS INTEGER) as delta_after\n",
    "    FROM\n",
    "        test t\n",
    "    LEFT JOIN\n",
    "        deadlines d\n",
    "    ON\n",
    "        t.labname = d.labs\n",
    "        WHERE\n",
    "        t.labname != 'project1'\n",
    "        AND\n",
    "        t.first_commit_ts > first_view_ts\n",
    "    )\n",
    "\"\"\"\n",
    "test_results = pd.read_sql(query, con)\n",
    "test_results"
   ]
  },
  {
   "cell_type": "markdown",
   "id": "e2d5a477",
   "metadata": {},
   "source": [
    "---\n",
    "### Creating  `control_results` table"
   ]
  },
  {
   "cell_type": "code",
   "execution_count": 41,
   "id": "75c27bfa",
   "metadata": {},
   "outputs": [
    {
     "data": {
      "text/html": [
       "<div>\n",
       "<style scoped>\n",
       "    .dataframe tbody tr th:only-of-type {\n",
       "        vertical-align: middle;\n",
       "    }\n",
       "\n",
       "    .dataframe tbody tr th {\n",
       "        vertical-align: top;\n",
       "    }\n",
       "\n",
       "    .dataframe thead th {\n",
       "        text-align: right;\n",
       "    }\n",
       "</style>\n",
       "<table border=\"1\" class=\"dataframe\">\n",
       "  <thead>\n",
       "    <tr style=\"text-align: right;\">\n",
       "      <th></th>\n",
       "      <th>time</th>\n",
       "      <th>before</th>\n",
       "    </tr>\n",
       "  </thead>\n",
       "  <tbody>\n",
       "    <tr>\n",
       "      <th>0</th>\n",
       "      <td>after</td>\n",
       "      <td>-103.406250</td>\n",
       "    </tr>\n",
       "    <tr>\n",
       "      <th>1</th>\n",
       "      <td>before</td>\n",
       "      <td>-99.464286</td>\n",
       "    </tr>\n",
       "  </tbody>\n",
       "</table>\n",
       "</div>"
      ],
      "text/plain": [
       "     time      before\n",
       "0   after -103.406250\n",
       "1  before  -99.464286"
      ]
     },
     "execution_count": 41,
     "metadata": {},
     "output_type": "execute_result"
    }
   ],
   "source": [
    "query = \"\"\"\n",
    "SELECT\n",
    "    'before' AS time,\n",
    "    AVG(delta_before) as before\n",
    "FROM\n",
    "    (SELECT\n",
    "        CAST((julianday(t.first_commit_ts) - julianday(d.deadlines, 'unixepoch')) * 24 AS INTEGER) as delta_before\n",
    "    FROM\n",
    "        control t\n",
    "    LEFT JOIN\n",
    "        deadlines d\n",
    "    ON\n",
    "        t.labname = d.labs\n",
    "        WHERE\n",
    "        t.labname != 'project1'\n",
    "        AND\n",
    "        t.first_commit_ts < first_view_ts\n",
    "    )\n",
    "\n",
    "UNION\n",
    "\n",
    "SELECT\n",
    "    'after' AS time,\n",
    "    AVG(delta_after) as after\n",
    "FROM\n",
    "    (SELECT\n",
    "        CAST((julianday(t.first_commit_ts) - julianday(d.deadlines, 'unixepoch')) * 24 AS INTEGER) as delta_after\n",
    "    FROM\n",
    "        test t\n",
    "    LEFT JOIN\n",
    "        deadlines d\n",
    "    ON\n",
    "        t.labname = d.labs\n",
    "        WHERE\n",
    "        t.labname != 'project1'\n",
    "        AND\n",
    "        t.first_commit_ts > first_view_ts\n",
    "    )\n",
    "\"\"\"\n",
    "control_results = pd.read_sql(query, con)\n",
    "control_results"
   ]
  },
  {
   "cell_type": "markdown",
   "id": "a22b4f6c",
   "metadata": {},
   "source": [
    "---\n",
    "## Closing connection"
   ]
  },
  {
   "cell_type": "code",
   "execution_count": 42,
   "id": "00134bcb",
   "metadata": {},
   "outputs": [],
   "source": [
    "con.close()"
   ]
  },
  {
   "cell_type": "markdown",
   "id": "37beba35",
   "metadata": {},
   "source": [
    "## Did the hypothesis turn out to be true and the page does affect the students’ behavior?"
   ]
  },
  {
   "cell_type": "markdown",
   "id": "4e5e23d2",
   "metadata": {},
   "source": [
    "In short, `yes`.\\\n",
    "Our hypothesis saying *the page has positive effect on students activity on projects* is *true*, because the difference in deltas between test and control groups significantly decreased. As a result control group has almost no after-before difference."
   ]
  }
 ],
 "metadata": {
  "kernelspec": {
   "display_name": "Python 3 (ipykernel)",
   "language": "python",
   "name": "python3"
  },
  "language_info": {
   "codemirror_mode": {
    "name": "ipython",
    "version": 3
   },
   "file_extension": ".py",
   "mimetype": "text/x-python",
   "name": "python",
   "nbconvert_exporter": "python",
   "pygments_lexer": "ipython3",
   "version": "3.10.2"
  }
 },
 "nbformat": 4,
 "nbformat_minor": 5
}
