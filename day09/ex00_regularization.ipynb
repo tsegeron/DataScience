{
 "cells": [
  {
   "cell_type": "markdown",
   "metadata": {},
   "source": [
    "# Day 09. Exercise 00\n",
    "# Regularization"
   ]
  },
  {
   "cell_type": "markdown",
   "metadata": {},
   "source": [
    "## 0. Imports"
   ]
  },
  {
   "cell_type": "code",
   "execution_count": 183,
   "metadata": {},
   "outputs": [],
   "source": [
    "import pandas as pd\n",
    "import numpy as np\n",
    "import seaborn as sns\n",
    "import matplotlib.pyplot as plt\n",
    "\n",
    "from sklearn.metrics import accuracy_score\n",
    "from sklearn.model_selection import train_test_split, StratifiedKFold, GridSearchCV\n",
    "from sklearn.linear_model import LogisticRegression\n",
    "from sklearn.tree import DecisionTreeClassifier\n",
    "from sklearn.ensemble import RandomForestClassifier\n",
    "from sklearn.svm import SVC\n",
    "\n",
    "import joblib"
   ]
  },
  {
   "cell_type": "code",
   "execution_count": 73,
   "metadata": {},
   "outputs": [],
   "source": [
    "def crossval(Model, X, y, n_splits: int = 10):\n",
    "    scores = []\n",
    "    kf = StratifiedKFold(n_splits=n_splits)\n",
    "    for train, test in kf.split(X, y):\n",
    "        clf = Model.fit(X.iloc[train], y.iloc[train])\n",
    "        y_train_pred = clf.predict(X.iloc[train])\n",
    "        y_test_pred = clf.predict(X.iloc[test])\n",
    "        \n",
    "        accuracy_train = accuracy_score(y.iloc[train], y_train_pred)\n",
    "        accuracy_test = accuracy_score(y.iloc[test], y_test_pred)\n",
    "        scores.append(accuracy_test)\n",
    "        print(f'train - {accuracy_train:.5f}',\n",
    "              f'valid - {accuracy_test:.5f}', sep=' \\t|\\t')\n",
    "    print(f'Average accuracy on crossval is {np.mean(scores):.5f}')\n",
    "    print(f'STD is {np.std(scores):.5f}')"
   ]
  },
  {
   "cell_type": "markdown",
   "metadata": {},
   "source": [
    "## 1. Preprocessing"
   ]
  },
  {
   "cell_type": "markdown",
   "metadata": {},
   "source": [
    "1. Read the file `dayofweek.csv` that you used in the previous day to a dataframe.\n",
    "2. Using `train_test_split` with parameters `test_size=0.2`, `random_state=21` get `X_train`, `y_train`, `X_test`, `y_test`. Use the additional parameter `stratify`."
   ]
  },
  {
   "cell_type": "code",
   "execution_count": 56,
   "metadata": {},
   "outputs": [
    {
     "data": {
      "text/html": [
       "<div>\n",
       "<style scoped>\n",
       "    .dataframe tbody tr th:only-of-type {\n",
       "        vertical-align: middle;\n",
       "    }\n",
       "\n",
       "    .dataframe tbody tr th {\n",
       "        vertical-align: top;\n",
       "    }\n",
       "\n",
       "    .dataframe thead th {\n",
       "        text-align: right;\n",
       "    }\n",
       "</style>\n",
       "<table border=\"1\" class=\"dataframe\">\n",
       "  <thead>\n",
       "    <tr style=\"text-align: right;\">\n",
       "      <th></th>\n",
       "      <th>uid_user_0</th>\n",
       "      <th>uid_user_1</th>\n",
       "      <th>uid_user_10</th>\n",
       "      <th>uid_user_11</th>\n",
       "      <th>uid_user_12</th>\n",
       "      <th>uid_user_13</th>\n",
       "      <th>uid_user_14</th>\n",
       "      <th>uid_user_15</th>\n",
       "      <th>uid_user_16</th>\n",
       "      <th>uid_user_17</th>\n",
       "      <th>...</th>\n",
       "      <th>labname_lab05s</th>\n",
       "      <th>labname_laba04</th>\n",
       "      <th>labname_laba04s</th>\n",
       "      <th>labname_laba05</th>\n",
       "      <th>labname_laba06</th>\n",
       "      <th>labname_laba06s</th>\n",
       "      <th>labname_project1</th>\n",
       "      <th>numTrials</th>\n",
       "      <th>hour</th>\n",
       "      <th>dayofweek</th>\n",
       "    </tr>\n",
       "  </thead>\n",
       "  <tbody>\n",
       "    <tr>\n",
       "      <th>0</th>\n",
       "      <td>0.0</td>\n",
       "      <td>0.0</td>\n",
       "      <td>0.0</td>\n",
       "      <td>0.0</td>\n",
       "      <td>0.0</td>\n",
       "      <td>0.0</td>\n",
       "      <td>0.0</td>\n",
       "      <td>0.0</td>\n",
       "      <td>0.0</td>\n",
       "      <td>0.0</td>\n",
       "      <td>...</td>\n",
       "      <td>0.0</td>\n",
       "      <td>0.0</td>\n",
       "      <td>0.0</td>\n",
       "      <td>0.0</td>\n",
       "      <td>0.0</td>\n",
       "      <td>0.0</td>\n",
       "      <td>1.0</td>\n",
       "      <td>-0.788667</td>\n",
       "      <td>-2.562352</td>\n",
       "      <td>4</td>\n",
       "    </tr>\n",
       "    <tr>\n",
       "      <th>1</th>\n",
       "      <td>0.0</td>\n",
       "      <td>0.0</td>\n",
       "      <td>0.0</td>\n",
       "      <td>0.0</td>\n",
       "      <td>0.0</td>\n",
       "      <td>0.0</td>\n",
       "      <td>0.0</td>\n",
       "      <td>0.0</td>\n",
       "      <td>0.0</td>\n",
       "      <td>0.0</td>\n",
       "      <td>...</td>\n",
       "      <td>0.0</td>\n",
       "      <td>0.0</td>\n",
       "      <td>0.0</td>\n",
       "      <td>0.0</td>\n",
       "      <td>0.0</td>\n",
       "      <td>0.0</td>\n",
       "      <td>1.0</td>\n",
       "      <td>-0.756764</td>\n",
       "      <td>-2.562352</td>\n",
       "      <td>4</td>\n",
       "    </tr>\n",
       "    <tr>\n",
       "      <th>2</th>\n",
       "      <td>0.0</td>\n",
       "      <td>0.0</td>\n",
       "      <td>0.0</td>\n",
       "      <td>0.0</td>\n",
       "      <td>0.0</td>\n",
       "      <td>0.0</td>\n",
       "      <td>0.0</td>\n",
       "      <td>0.0</td>\n",
       "      <td>0.0</td>\n",
       "      <td>0.0</td>\n",
       "      <td>...</td>\n",
       "      <td>0.0</td>\n",
       "      <td>0.0</td>\n",
       "      <td>0.0</td>\n",
       "      <td>0.0</td>\n",
       "      <td>0.0</td>\n",
       "      <td>0.0</td>\n",
       "      <td>1.0</td>\n",
       "      <td>-0.724861</td>\n",
       "      <td>-2.562352</td>\n",
       "      <td>4</td>\n",
       "    </tr>\n",
       "    <tr>\n",
       "      <th>3</th>\n",
       "      <td>0.0</td>\n",
       "      <td>0.0</td>\n",
       "      <td>0.0</td>\n",
       "      <td>0.0</td>\n",
       "      <td>0.0</td>\n",
       "      <td>0.0</td>\n",
       "      <td>0.0</td>\n",
       "      <td>0.0</td>\n",
       "      <td>0.0</td>\n",
       "      <td>0.0</td>\n",
       "      <td>...</td>\n",
       "      <td>0.0</td>\n",
       "      <td>0.0</td>\n",
       "      <td>0.0</td>\n",
       "      <td>0.0</td>\n",
       "      <td>0.0</td>\n",
       "      <td>0.0</td>\n",
       "      <td>1.0</td>\n",
       "      <td>-0.692958</td>\n",
       "      <td>-2.562352</td>\n",
       "      <td>4</td>\n",
       "    </tr>\n",
       "    <tr>\n",
       "      <th>4</th>\n",
       "      <td>0.0</td>\n",
       "      <td>0.0</td>\n",
       "      <td>0.0</td>\n",
       "      <td>0.0</td>\n",
       "      <td>0.0</td>\n",
       "      <td>0.0</td>\n",
       "      <td>0.0</td>\n",
       "      <td>0.0</td>\n",
       "      <td>0.0</td>\n",
       "      <td>0.0</td>\n",
       "      <td>...</td>\n",
       "      <td>0.0</td>\n",
       "      <td>0.0</td>\n",
       "      <td>0.0</td>\n",
       "      <td>0.0</td>\n",
       "      <td>0.0</td>\n",
       "      <td>0.0</td>\n",
       "      <td>1.0</td>\n",
       "      <td>-0.661055</td>\n",
       "      <td>-2.562352</td>\n",
       "      <td>4</td>\n",
       "    </tr>\n",
       "  </tbody>\n",
       "</table>\n",
       "<p>5 rows × 44 columns</p>\n",
       "</div>"
      ],
      "text/plain": [
       "   uid_user_0  uid_user_1  uid_user_10  uid_user_11  uid_user_12  uid_user_13  \\\n",
       "0         0.0         0.0          0.0          0.0          0.0          0.0   \n",
       "1         0.0         0.0          0.0          0.0          0.0          0.0   \n",
       "2         0.0         0.0          0.0          0.0          0.0          0.0   \n",
       "3         0.0         0.0          0.0          0.0          0.0          0.0   \n",
       "4         0.0         0.0          0.0          0.0          0.0          0.0   \n",
       "\n",
       "   uid_user_14  uid_user_15  uid_user_16  uid_user_17  ...  labname_lab05s  \\\n",
       "0          0.0          0.0          0.0          0.0  ...             0.0   \n",
       "1          0.0          0.0          0.0          0.0  ...             0.0   \n",
       "2          0.0          0.0          0.0          0.0  ...             0.0   \n",
       "3          0.0          0.0          0.0          0.0  ...             0.0   \n",
       "4          0.0          0.0          0.0          0.0  ...             0.0   \n",
       "\n",
       "   labname_laba04  labname_laba04s  labname_laba05  labname_laba06  \\\n",
       "0             0.0              0.0             0.0             0.0   \n",
       "1             0.0              0.0             0.0             0.0   \n",
       "2             0.0              0.0             0.0             0.0   \n",
       "3             0.0              0.0             0.0             0.0   \n",
       "4             0.0              0.0             0.0             0.0   \n",
       "\n",
       "   labname_laba06s  labname_project1  numTrials      hour  dayofweek  \n",
       "0              0.0               1.0  -0.788667 -2.562352          4  \n",
       "1              0.0               1.0  -0.756764 -2.562352          4  \n",
       "2              0.0               1.0  -0.724861 -2.562352          4  \n",
       "3              0.0               1.0  -0.692958 -2.562352          4  \n",
       "4              0.0               1.0  -0.661055 -2.562352          4  \n",
       "\n",
       "[5 rows x 44 columns]"
      ]
     },
     "execution_count": 56,
     "metadata": {},
     "output_type": "execute_result"
    }
   ],
   "source": [
    "df = pd.read_csv('../data/dayofweek.csv')\n",
    "df.head()"
   ]
  },
  {
   "cell_type": "code",
   "execution_count": 57,
   "metadata": {},
   "outputs": [],
   "source": [
    "X = df.drop(columns=['dayofweek'])\n",
    "y = df.dayofweek"
   ]
  },
  {
   "cell_type": "code",
   "execution_count": 58,
   "metadata": {},
   "outputs": [],
   "source": [
    "X_train, X_test, y_train, y_test = train_test_split(X, y,\n",
    "                                                    test_size=0.2,\n",
    "                                                    random_state=21,\n",
    "                                                    stratify=y)"
   ]
  },
  {
   "cell_type": "markdown",
   "metadata": {},
   "source": [
    "## 2. Logreg regularization"
   ]
  },
  {
   "cell_type": "markdown",
   "metadata": {},
   "source": [
    "### a. Default regularization"
   ]
  },
  {
   "cell_type": "markdown",
   "metadata": {},
   "source": [
    "1. Train a baseline model with the only parameters `random_state=21`, `fit_intercept=False`.\n",
    "2. Use stratified K-fold cross-validation with `10` splits to evaluate the accuracy of the model\n",
    "\n",
    "\n",
    "The result of the code where you trained and evaluated the baseline model should be exactly like this (use `%%time` to get the info about how long it took to run the cell):\n",
    "\n",
    "```\n",
    "train -  0.62902   |   valid -  0.59259\n",
    "train -  0.64633   |   valid -  0.62963\n",
    "train -  0.63479   |   valid -  0.56296\n",
    "train -  0.65622   |   valid -  0.61481\n",
    "train -  0.63397   |   valid -  0.57778\n",
    "train -  0.64056   |   valid -  0.59259\n",
    "train -  0.64138   |   valid -  0.65926\n",
    "train -  0.65952   |   valid -  0.56296\n",
    "train -  0.64333   |   valid -  0.59701\n",
    "train -  0.63674   |   valid -  0.62687\n",
    "Average accuracy on crossval is 0.60165\n",
    "Std is 0.02943\n",
    "```"
   ]
  },
  {
   "cell_type": "code",
   "execution_count": 78,
   "metadata": {},
   "outputs": [
    {
     "name": "stdout",
     "output_type": "stream",
     "text": [
      "train - 0.62902 \t|\tvalid - 0.59259\n",
      "train - 0.64633 \t|\tvalid - 0.62963\n",
      "train - 0.63479 \t|\tvalid - 0.56296\n",
      "train - 0.65622 \t|\tvalid - 0.61481\n",
      "train - 0.63397 \t|\tvalid - 0.57778\n",
      "train - 0.64056 \t|\tvalid - 0.59259\n",
      "train - 0.64138 \t|\tvalid - 0.65926\n",
      "train - 0.65952 \t|\tvalid - 0.56296\n",
      "train - 0.64333 \t|\tvalid - 0.59701\n",
      "train - 0.63674 \t|\tvalid - 0.62687\n",
      "Average accuracy on crossval is 0.60165\n",
      "STD is 0.02943\n",
      "\n",
      "CPU times: user 2.27 s, sys: 72.8 ms, total: 2.34 s\n",
      "Wall time: 322 ms\n"
     ]
    }
   ],
   "source": [
    "%%time\n",
    "clf_logreg = LogisticRegression(random_state=21, fit_intercept=False)\n",
    "crossval(clf_logreg, X_train, y_train)\n",
    "print() # to add an empty line before %%time"
   ]
  },
  {
   "cell_type": "markdown",
   "metadata": {},
   "source": [
    "### b. Optimizing regularization parameters"
   ]
  },
  {
   "cell_type": "markdown",
   "metadata": {},
   "source": [
    "1. In the cells below try different values of penalty: `none`, `l1`, `l2` – you can change the values of solver too."
   ]
  },
  {
   "cell_type": "code",
   "execution_count": 82,
   "metadata": {},
   "outputs": [
    {
     "name": "stdout",
     "output_type": "stream",
     "text": [
      "train - 0.66694 \t|\tvalid - 0.63704\n",
      "train - 0.65787 \t|\tvalid - 0.65926\n",
      "train - 0.66694 \t|\tvalid - 0.57778\n",
      "train - 0.66529 \t|\tvalid - 0.62963\n",
      "train - 0.66694 \t|\tvalid - 0.62222\n",
      "train - 0.65952 \t|\tvalid - 0.57778\n",
      "train - 0.65045 \t|\tvalid - 0.69630\n",
      "train - 0.68425 \t|\tvalid - 0.61481\n",
      "train - 0.66474 \t|\tvalid - 0.62687\n",
      "train - 0.65651 \t|\tvalid - 0.60448\n",
      "Average accuracy on crossval is 0.62462\n",
      "STD is 0.03379\n",
      "\n",
      "CPU times: user 19.1 s, sys: 468 ms, total: 19.6 s\n",
      "Wall time: 2.58 s\n"
     ]
    }
   ],
   "source": [
    "%%time\n",
    "clf_logreg_none = LogisticRegression(penalty='none', solver='newton-cg',\n",
    "                                     random_state=21, fit_intercept=False)\n",
    "crossval(clf_logreg_none, X_train, y_train)\n",
    "print() # to add an empty line before %%time"
   ]
  },
  {
   "cell_type": "code",
   "execution_count": 86,
   "metadata": {},
   "outputs": [
    {
     "name": "stdout",
     "output_type": "stream",
     "text": [
      "train - 0.61830 \t|\tvalid - 0.54815\n",
      "train - 0.62737 \t|\tvalid - 0.62222\n",
      "train - 0.60511 \t|\tvalid - 0.54074\n",
      "train - 0.63644 \t|\tvalid - 0.62222\n",
      "train - 0.62407 \t|\tvalid - 0.55556\n",
      "train - 0.62325 \t|\tvalid - 0.58519\n",
      "train - 0.61253 \t|\tvalid - 0.63704\n",
      "train - 0.64716 \t|\tvalid - 0.58519\n",
      "train - 0.63015 \t|\tvalid - 0.59701\n",
      "train - 0.61367 \t|\tvalid - 0.59701\n",
      "Average accuracy on crossval is 0.58903\n",
      "STD is 0.03129\n",
      "\n",
      "CPU times: user 804 ms, sys: 298 ms, total: 1.1 s\n",
      "Wall time: 177 ms\n"
     ]
    }
   ],
   "source": [
    "%%time\n",
    "clf_logreg_l1 = LogisticRegression(penalty='l1', solver='liblinear',\n",
    "                                     random_state=21, fit_intercept=False)\n",
    "crossval(clf_logreg_l1, X_train, y_train)\n",
    "print()"
   ]
  },
  {
   "cell_type": "code",
   "execution_count": 90,
   "metadata": {},
   "outputs": [
    {
     "name": "stdout",
     "output_type": "stream",
     "text": [
      "train - 0.62902 \t|\tvalid - 0.59259\n",
      "train - 0.64633 \t|\tvalid - 0.62963\n",
      "train - 0.63479 \t|\tvalid - 0.56296\n",
      "train - 0.65622 \t|\tvalid - 0.61481\n",
      "train - 0.63397 \t|\tvalid - 0.57778\n",
      "train - 0.64056 \t|\tvalid - 0.59259\n",
      "train - 0.64221 \t|\tvalid - 0.65926\n",
      "train - 0.65952 \t|\tvalid - 0.56296\n",
      "train - 0.64333 \t|\tvalid - 0.59701\n",
      "train - 0.63674 \t|\tvalid - 0.62687\n",
      "Average accuracy on crossval is 0.60165\n",
      "STD is 0.02943\n",
      "\n",
      "CPU times: user 3.59 s, sys: 172 ms, total: 3.76 s\n",
      "Wall time: 502 ms\n"
     ]
    }
   ],
   "source": [
    "%%time\n",
    "clf_logreg_l2_newton = LogisticRegression(penalty='l2', solver='newton-cg',\n",
    "                                          random_state=21, fit_intercept=False)\n",
    "crossval(clf_logreg_l2_newton, X_train, y_train)\n",
    "print()"
   ]
  },
  {
   "cell_type": "code",
   "execution_count": 100,
   "metadata": {},
   "outputs": [
    {
     "data": {
      "text/plain": [
       "{'penalty': 'none', 'solver': 'lbfgs'}"
      ]
     },
     "execution_count": 100,
     "metadata": {},
     "output_type": "execute_result"
    }
   ],
   "source": [
    "parameters = [\n",
    "    {'solver': ['newton-cg', 'lbfgs', 'sag'], 'penalty': ['l2', 'none']},\n",
    "    {'solver': ['liblinear'], 'penalty': ['l1', 'l2']},\n",
    "    {'solver': ['saga'], 'penalty': ['l1', 'l2', 'none']},\n",
    "]\n",
    "clf_logreg_ = LogisticRegression(random_state=21, fit_intercept=False, max_iter=2000)\n",
    "clf = GridSearchCV(clf_logreg_, parameters, n_jobs=-1).fit(X_train, y_train)\n",
    "clf.best_params_"
   ]
  },
  {
   "cell_type": "code",
   "execution_count": 106,
   "metadata": {},
   "outputs": [
    {
     "name": "stdout",
     "output_type": "stream",
     "text": [
      "train - 0.66612 \t|\tvalid - 0.63704\n",
      "train - 0.65787 \t|\tvalid - 0.65926\n",
      "train - 0.66694 \t|\tvalid - 0.57778\n",
      "train - 0.66529 \t|\tvalid - 0.62963\n",
      "train - 0.66777 \t|\tvalid - 0.62222\n",
      "train - 0.65952 \t|\tvalid - 0.57778\n",
      "train - 0.65045 \t|\tvalid - 0.69630\n",
      "train - 0.68425 \t|\tvalid - 0.61481\n",
      "train - 0.66474 \t|\tvalid - 0.62687\n",
      "train - 0.65651 \t|\tvalid - 0.60448\n",
      "Average accuracy on crossval is 0.62462\n",
      "STD is 0.03379\n",
      "\n",
      "CPU times: user 9.33 s, sys: 267 ms, total: 9.59 s\n",
      "Wall time: 1.24 s\n"
     ]
    }
   ],
   "source": [
    "%%time\n",
    "clf_logreg_best = LogisticRegression(penalty='none', solver='lbfgs', max_iter=400,\n",
    "                                     random_state=21, fit_intercept=False)\n",
    "crossval(clf_logreg_best, X_train, y_train)\n",
    "print()"
   ]
  },
  {
   "cell_type": "markdown",
   "metadata": {},
   "source": [
    "## 3. SVM regularization"
   ]
  },
  {
   "cell_type": "markdown",
   "metadata": {},
   "source": [
    "### a. Default regularization"
   ]
  },
  {
   "cell_type": "markdown",
   "metadata": {},
   "source": [
    "1. Train a baseline model with the only parameters `probability=True`, `kernel='linear'`, `random_state=21`.\n",
    "2. Use stratified K-fold cross-validation with `10` splits to evaluate the accuracy of the model.\n",
    "3. The format of the result of the code where you trained and evaluated the baseline model should be similar to what you have got for the logreg."
   ]
  },
  {
   "cell_type": "code",
   "execution_count": 107,
   "metadata": {},
   "outputs": [
    {
     "name": "stdout",
     "output_type": "stream",
     "text": [
      "train - 0.70486 \t|\tvalid - 0.65926\n",
      "train - 0.69662 \t|\tvalid - 0.75556\n",
      "train - 0.69415 \t|\tvalid - 0.62222\n",
      "train - 0.70239 \t|\tvalid - 0.65185\n",
      "train - 0.69085 \t|\tvalid - 0.65185\n",
      "train - 0.68920 \t|\tvalid - 0.64444\n",
      "train - 0.69250 \t|\tvalid - 0.72593\n",
      "train - 0.70074 \t|\tvalid - 0.62222\n",
      "train - 0.69605 \t|\tvalid - 0.61940\n",
      "train - 0.71087 \t|\tvalid - 0.63433\n",
      "Average accuracy on crossval is 0.65871\n",
      "STD is 0.04359\n"
     ]
    }
   ],
   "source": [
    "cls_svc = SVC(probability=True, kernel='linear', random_state=21)\n",
    "crossval(cls_svc, X_train, y_train)"
   ]
  },
  {
   "cell_type": "markdown",
   "metadata": {},
   "source": [
    "### b. Optimizing regularization parameters"
   ]
  },
  {
   "cell_type": "markdown",
   "metadata": {},
   "source": [
    "1. In the cells below try different values of the parameter `C`."
   ]
  },
  {
   "cell_type": "code",
   "execution_count": 130,
   "metadata": {},
   "outputs": [
    {
     "data": {
      "text/plain": [
       "{'C': 49}"
      ]
     },
     "execution_count": 130,
     "metadata": {},
     "output_type": "execute_result"
    }
   ],
   "source": [
    "parameters = [\n",
    "    {'C': range(1, 51)},\n",
    "]\n",
    "cls_svc = SVC(probability=True, kernel='linear', random_state=21)\n",
    "clf = GridSearchCV(cls_svc, parameters, n_jobs=-1).fit(X_train, y_train)\n",
    "clf.best_params_"
   ]
  },
  {
   "cell_type": "code",
   "execution_count": 131,
   "metadata": {},
   "outputs": [
    {
     "name": "stdout",
     "output_type": "stream",
     "text": [
      "train - 0.78401 \t|\tvalid - 0.75556\n",
      "train - 0.79720 \t|\tvalid - 0.83704\n",
      "train - 0.80709 \t|\tvalid - 0.72593\n",
      "train - 0.78236 \t|\tvalid - 0.76296\n",
      "train - 0.78483 \t|\tvalid - 0.77778\n",
      "train - 0.79637 \t|\tvalid - 0.74074\n",
      "train - 0.78236 \t|\tvalid - 0.77037\n",
      "train - 0.79967 \t|\tvalid - 0.72593\n",
      "train - 0.79325 \t|\tvalid - 0.70896\n",
      "train - 0.80066 \t|\tvalid - 0.73881\n",
      "Average accuracy on crossval is 0.75441\n",
      "STD is 0.03438\n"
     ]
    }
   ],
   "source": [
    "crossval(SVC(C=49, probability=True, kernel='linear', random_state=21), X_train, y_train)"
   ]
  },
  {
   "cell_type": "markdown",
   "metadata": {},
   "source": [
    "## 4. Tree"
   ]
  },
  {
   "cell_type": "markdown",
   "metadata": {},
   "source": [
    "### a. Default regularization"
   ]
  },
  {
   "cell_type": "markdown",
   "metadata": {},
   "source": [
    "1. Train a baseline model with the only parameter `max_depth=10` and `random_state=21`.\n",
    "2. Use stratified K-fold cross-validation with `10` splits to evaluate the accuracy of the model.\n",
    "3. The format of the result of the code where you trained and evaluated the baseline model should be similar to what you have got for the logreg."
   ]
  },
  {
   "cell_type": "code",
   "execution_count": 120,
   "metadata": {},
   "outputs": [
    {
     "name": "stdout",
     "output_type": "stream",
     "text": [
      "train - 0.81039 \t|\tvalid - 0.74815\n",
      "train - 0.77741 \t|\tvalid - 0.74074\n",
      "train - 0.83347 \t|\tvalid - 0.70370\n",
      "train - 0.79720 \t|\tvalid - 0.77037\n",
      "train - 0.82440 \t|\tvalid - 0.75556\n",
      "train - 0.80379 \t|\tvalid - 0.68889\n",
      "train - 0.80709 \t|\tvalid - 0.76296\n",
      "train - 0.80132 \t|\tvalid - 0.65926\n",
      "train - 0.80807 \t|\tvalid - 0.74627\n",
      "train - 0.80478 \t|\tvalid - 0.68657\n",
      "Average accuracy on crossval is 0.72625\n",
      "STD is 0.03635\n"
     ]
    }
   ],
   "source": [
    "clf_tree = DecisionTreeClassifier(max_depth=10, random_state=21)\n",
    "crossval(clf_tree, X_train, y_train)"
   ]
  },
  {
   "cell_type": "markdown",
   "metadata": {},
   "source": [
    "### b. Optimizing regularization parameters"
   ]
  },
  {
   "cell_type": "markdown",
   "metadata": {},
   "source": [
    "1. In the cells below try different values of the parameter `max_depth`.\n",
    "2. As a bonus, play with other regularization parameters trying to find the best combination."
   ]
  },
  {
   "cell_type": "code",
   "execution_count": 139,
   "metadata": {},
   "outputs": [
    {
     "data": {
      "text/plain": [
       "{'max_depth': 20, 'min_samples_leaf': 1, 'min_samples_split': 2}"
      ]
     },
     "execution_count": 139,
     "metadata": {},
     "output_type": "execute_result"
    }
   ],
   "source": [
    "parameters = {\n",
    "    'max_depth': range(3, 30),\n",
    "    'min_samples_split': range(2, 15),\n",
    "    'min_samples_leaf': range(1, 10),\n",
    "#     'max_leaf_nodes': range(2, 15),\n",
    "}\n",
    "clf_tree_ = DecisionTreeClassifier(random_state=21)\n",
    "clf = GridSearchCV(clf_tree_, parameters, n_jobs=-1).fit(X_train, y_train)\n",
    "clf.best_params_"
   ]
  },
  {
   "cell_type": "code",
   "execution_count": 141,
   "metadata": {},
   "outputs": [
    {
     "name": "stdout",
     "output_type": "stream",
     "text": [
      "train - 0.98928 \t|\tvalid - 0.86667\n",
      "train - 0.99011 \t|\tvalid - 0.89630\n",
      "train - 0.98681 \t|\tvalid - 0.85185\n",
      "train - 0.98763 \t|\tvalid - 0.90370\n",
      "train - 0.98928 \t|\tvalid - 0.88148\n",
      "train - 0.98186 \t|\tvalid - 0.86667\n",
      "train - 0.98846 \t|\tvalid - 0.91852\n",
      "train - 0.99093 \t|\tvalid - 0.89630\n",
      "train - 0.99094 \t|\tvalid - 0.88060\n",
      "train - 0.98847 \t|\tvalid - 0.88060\n",
      "Average accuracy on crossval is 0.88427\n",
      "STD is 0.01883\n"
     ]
    }
   ],
   "source": [
    "clf_tree_best = DecisionTreeClassifier(max_depth=20,\n",
    "                                       min_samples_leaf=1,\n",
    "                                       min_samples_split=2,\n",
    "                                       random_state=21)\n",
    "crossval(clf_tree_best, X_train, y_train)"
   ]
  },
  {
   "cell_type": "markdown",
   "metadata": {},
   "source": [
    "## 5. Random forest"
   ]
  },
  {
   "cell_type": "markdown",
   "metadata": {},
   "source": [
    "### a. Default regularization"
   ]
  },
  {
   "cell_type": "markdown",
   "metadata": {},
   "source": [
    "1. Train a baseline model with the only parameters `n_estimators=50`, `max_depth=14`, `random_state=21`.\n",
    "2. Use stratified K-fold cross-validation with `10` splits to evaluate the accuracy of the model.\n",
    "3. The format of the result of the code where you trained and evaluated the baseline model should be similar to what you have got for the logreg."
   ]
  },
  {
   "cell_type": "code",
   "execution_count": 142,
   "metadata": {},
   "outputs": [
    {
     "name": "stdout",
     "output_type": "stream",
     "text": [
      "train - 0.96373 \t|\tvalid - 0.87407\n",
      "train - 0.97032 \t|\tvalid - 0.91111\n",
      "train - 0.96867 \t|\tvalid - 0.88889\n",
      "train - 0.97279 \t|\tvalid - 0.91111\n",
      "train - 0.96785 \t|\tvalid - 0.91111\n",
      "train - 0.96620 \t|\tvalid - 0.85185\n",
      "train - 0.96867 \t|\tvalid - 0.91111\n",
      "train - 0.96702 \t|\tvalid - 0.85185\n",
      "train - 0.97199 \t|\tvalid - 0.88060\n",
      "train - 0.96458 \t|\tvalid - 0.85075\n",
      "Average accuracy on crossval is 0.88425\n",
      "STD is 0.02499\n"
     ]
    }
   ],
   "source": [
    "clf_forest = RandomForestClassifier(n_estimators=50, max_depth=14, random_state=21)\n",
    "crossval(clf_forest, X_train, y_train)"
   ]
  },
  {
   "cell_type": "markdown",
   "metadata": {},
   "source": [
    "### b. Optimizing regularization parameters"
   ]
  },
  {
   "cell_type": "markdown",
   "metadata": {},
   "source": [
    "1. In the new cells try different values of the parameters `max_depth` and `n_estimators`.\n",
    "2. As a bonus, play with other regularization parameters trying to find the best combination."
   ]
  },
  {
   "cell_type": "code",
   "execution_count": 153,
   "metadata": {},
   "outputs": [
    {
     "data": {
      "text/plain": [
       "{'max_depth': 26, 'min_samples_split': 2, 'n_estimators': 100}"
      ]
     },
     "execution_count": 153,
     "metadata": {},
     "output_type": "execute_result"
    }
   ],
   "source": [
    "parameters = {\n",
    "    'max_depth': range(10, 30), # tested range(3, 30)\n",
    "    'n_estimators': range(10, 201, 10), # tested range(10, 301, 10)\n",
    "#     'min_samples_split': range(2, 15), tested range(2, 15)\n",
    "#     'min_samples_leaf': range(1, 10),\n",
    "}\n",
    "clf_forest_ = RandomForestClassifier(random_state=21)\n",
    "clf = GridSearchCV(clf_forest_, parameters, n_jobs=-1).fit(X_train, y_train)\n",
    "clf.best_params_"
   ]
  },
  {
   "cell_type": "code",
   "execution_count": 154,
   "metadata": {},
   "outputs": [
    {
     "name": "stdout",
     "output_type": "stream",
     "text": [
      "train - 0.99918 \t|\tvalid - 0.89630\n",
      "train - 0.99918 \t|\tvalid - 0.95556\n",
      "train - 0.99918 \t|\tvalid - 0.88889\n",
      "train - 1.00000 \t|\tvalid - 0.94074\n",
      "train - 0.99918 \t|\tvalid - 0.91852\n",
      "train - 0.99918 \t|\tvalid - 0.89630\n",
      "train - 0.99918 \t|\tvalid - 0.91111\n",
      "train - 1.00000 \t|\tvalid - 0.89630\n",
      "train - 1.00000 \t|\tvalid - 0.94030\n",
      "train - 1.00000 \t|\tvalid - 0.89552\n",
      "Average accuracy on crossval is 0.91395\n",
      "STD is 0.02253\n"
     ]
    }
   ],
   "source": [
    "clf_forest_ = RandomForestClassifier(n_estimators=100, max_depth=26,\n",
    "                                     min_samples_split=2, random_state=21)\n",
    "crossval(clf_forest_, X_train, y_train)"
   ]
  },
  {
   "cell_type": "markdown",
   "metadata": {},
   "source": [
    "## 6. Predictions"
   ]
  },
  {
   "cell_type": "markdown",
   "metadata": {},
   "source": [
    "1. Choose the best model and use it to make predictions for the test dataset.\n",
    "2. Calculate the final accuracy.\n",
    "3. Analyze: for which weekday your model makes the most errors (in % of the total number of samples of that class in your test dataset).\n",
    "4. Save the model."
   ]
  },
  {
   "cell_type": "code",
   "execution_count": 161,
   "metadata": {},
   "outputs": [
    {
     "data": {
      "text/plain": [
       "0.9260355029585798"
      ]
     },
     "execution_count": 161,
     "metadata": {},
     "output_type": "execute_result"
    }
   ],
   "source": [
    "clf_final = RandomForestClassifier(n_estimators=100, max_depth=26,\n",
    "                                   min_samples_split=2, random_state=21)\n",
    "clf_final.fit(X_train, y_train)\n",
    "y_pred = clf_final.predict(X_test)\n",
    "\n",
    "accuracy_score(y_test, y_pred)"
   ]
  },
  {
   "cell_type": "code",
   "execution_count": 178,
   "metadata": {},
   "outputs": [
    {
     "data": {
      "text/plain": [
       "0    7\n",
       "1    4\n",
       "2    2\n",
       "3    3\n",
       "4    3\n",
       "5    3\n",
       "6    3\n",
       "Name: y_real, dtype: int64"
      ]
     },
     "execution_count": 178,
     "metadata": {},
     "output_type": "execute_result"
    }
   ],
   "source": [
    "compare = pd.DataFrame({'y_real': y_test, 'y_pred': y_pred})\n",
    "stats = compare.y_real[compare['y_real'] != compare['y_pred']].value_counts().sort_index()\n",
    "stats"
   ]
  },
  {
   "cell_type": "code",
   "execution_count": 182,
   "metadata": {},
   "outputs": [
    {
     "data": {
      "text/plain": [
       "25.925925925925924"
      ]
     },
     "execution_count": 182,
     "metadata": {},
     "output_type": "execute_result"
    }
   ],
   "source": [
    "mistake = (stats[0] / compare.y_real[compare.y_real == 0].count()) * 100\n",
    "mistake"
   ]
  },
  {
   "cell_type": "markdown",
   "metadata": {},
   "source": [
    "> For `Mondays` the model makes the most errors\n",
    "\n",
    "> `26%` of all Mondays were guest wrong"
   ]
  },
  {
   "cell_type": "code",
   "execution_count": 184,
   "metadata": {},
   "outputs": [
    {
     "data": {
      "text/plain": [
       "['RandForestClf.joblib']"
      ]
     },
     "execution_count": 184,
     "metadata": {},
     "output_type": "execute_result"
    }
   ],
   "source": [
    "joblib.dump(clf_final, 'RandForestClf.joblib')"
   ]
  }
 ],
 "metadata": {
  "kernelspec": {
   "display_name": "Python 3 (ipykernel)",
   "language": "python",
   "name": "python3"
  },
  "language_info": {
   "codemirror_mode": {
    "name": "ipython",
    "version": 3
   },
   "file_extension": ".py",
   "mimetype": "text/x-python",
   "name": "python",
   "nbconvert_exporter": "python",
   "pygments_lexer": "ipython3",
   "version": "3.10.6"
  }
 },
 "nbformat": 4,
 "nbformat_minor": 4
}
