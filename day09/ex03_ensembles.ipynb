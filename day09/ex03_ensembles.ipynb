{
 "cells": [
  {
   "cell_type": "markdown",
   "metadata": {},
   "source": [
    "# Day 09. Exercise 03\n",
    "# Ensembles"
   ]
  },
  {
   "cell_type": "markdown",
   "metadata": {},
   "source": [
    "## 0. Imports"
   ]
  },
  {
   "cell_type": "code",
   "execution_count": 172,
   "metadata": {},
   "outputs": [],
   "source": [
    "import pandas as pd\n",
    "import numpy as np\n",
    "import seaborn as sns\n",
    "import matplotlib.pyplot as plt\n",
    "\n",
    "from sklearn.metrics import accuracy_score, precision_score, recall_score\n",
    "from sklearn.metrics import confusion_matrix, ConfusionMatrixDisplay\n",
    "from sklearn.model_selection import train_test_split, StratifiedKFold\n",
    "from sklearn.linear_model import LogisticRegression\n",
    "from sklearn.svm import SVC\n",
    "from sklearn.tree import DecisionTreeClassifier\n",
    "from sklearn.ensemble import RandomForestClassifier, VotingClassifier\n",
    "from sklearn.ensemble import BaggingClassifier, StackingClassifier\n",
    "\n",
    "from itertools import combinations_with_replacement, combinations, product\n",
    "from tqdm.notebook import tqdm, trange\n",
    "import joblib"
   ]
  },
  {
   "cell_type": "code",
   "execution_count": 34,
   "metadata": {},
   "outputs": [],
   "source": [
    "def print_scores(y_real, y_pred):\n",
    "    print(f\"accuracy:  {accuracy_score(y_real, y_pred):.5f}\")\n",
    "    print(f\"precision: {precision_score(y_real, y_pred, average='weighted'):.5f}\")\n",
    "    print(f\"recall:    {recall_score(y_real, y_pred, average='weighted'):.5f}\")"
   ]
  },
  {
   "cell_type": "code",
   "execution_count": 35,
   "metadata": {},
   "outputs": [],
   "source": [
    "def calc_metrics(models, params):\n",
    "    for model_, params_ in zip(models, params):\n",
    "        clf = model_(random_state=21, **params_).fit(X_train, y_train)\n",
    "        print(type(clf).__name__)\n",
    "        print_scores(y_test, clf.predict(X_test))\n",
    "        print('----------------------------')"
   ]
  },
  {
   "cell_type": "markdown",
   "metadata": {},
   "source": [
    "## 1. Preprocessing"
   ]
  },
  {
   "cell_type": "markdown",
   "metadata": {},
   "source": [
    "1. Create the same dataframe as in the previous exercise.\n",
    "2. Using `train_test_split` with parameters `test_size=0.2`, `random_state=21` get `X_train`, `y_train`, `X_test`, `y_test` and then get `X_train`, `y_train`, `X_valid`, `y_valid` from the previous `X_train`, `y_train`. Use the additional parameter `stratify`."
   ]
  },
  {
   "cell_type": "code",
   "execution_count": 3,
   "metadata": {},
   "outputs": [],
   "source": [
    "df = pd.read_csv('../data/dayofweek-not-scaled.csv')\n",
    "X, y = df.drop(columns=['dayofweek']), df.dayofweek"
   ]
  },
  {
   "cell_type": "code",
   "execution_count": 4,
   "metadata": {},
   "outputs": [],
   "source": [
    "X_train, X_test, y_train, y_test = train_test_split(X, y,\n",
    "                                                    test_size=.2,\n",
    "                                                    random_state=21,\n",
    "                                                    stratify=y)"
   ]
  },
  {
   "cell_type": "markdown",
   "metadata": {},
   "source": [
    "## 2. Individual classifiers"
   ]
  },
  {
   "cell_type": "markdown",
   "metadata": {},
   "source": [
    "1. Train SVM, decision tree and random forest again with the best parameters that you got from the 01 exercise with `random_state=21` for all of them.\n",
    "2. Evaluate `accuracy`, `precision`, and `recall` for them on the validation set.\n",
    "3. The result of each cell of the section should look like this:\n",
    "\n",
    "```\n",
    "accuracy is 0.87778\n",
    "precision is 0.88162\n",
    "recall is 0.87778\n",
    "```"
   ]
  },
  {
   "cell_type": "code",
   "execution_count": 36,
   "metadata": {},
   "outputs": [
    {
     "name": "stdout",
     "output_type": "stream",
     "text": [
      "SVC\n",
      "accuracy:  0.88757\n",
      "precision: 0.89267\n",
      "recall:    0.88757\n",
      "----------------------------\n",
      "DecisionTreeClassifier\n",
      "accuracy:  0.89053\n",
      "precision: 0.89262\n",
      "recall:    0.89053\n",
      "----------------------------\n",
      "RandomForestClassifier\n",
      "accuracy:  0.92899\n",
      "precision: 0.93009\n",
      "recall:    0.92899\n",
      "----------------------------\n"
     ]
    }
   ],
   "source": [
    "models = [SVC, DecisionTreeClassifier, RandomForestClassifier]\n",
    "params = [\n",
    "    {'kernel':'rbf', 'gamma':'auto', 'class_weight':None, 'C':10, 'probability':True},\n",
    "    {'class_weight': 'balanced', 'criterion': 'gini', 'max_depth': 22},\n",
    "    {'class_weight': None, 'criterion': 'gini', 'max_depth': 28, 'n_estimators': 50}\n",
    "]\n",
    "calc_metrics(models, params)"
   ]
  },
  {
   "cell_type": "code",
   "execution_count": 24,
   "metadata": {},
   "outputs": [],
   "source": [
    "clf_svc = SVC(random_state=21, kernel='rbf', gamma='auto',\n",
    "              class_weight=None, C=10, probability=True)\n",
    "clf_tree = DecisionTreeClassifier(random_state=21, class_weight='balanced',\n",
    "                                  criterion='gini', max_depth=22)\n",
    "clf_forest = RandomForestClassifier(random_state=21, class_weight=None, criterion='gini',\n",
    "                                    max_depth=28, n_estimators=50)"
   ]
  },
  {
   "cell_type": "markdown",
   "metadata": {},
   "source": [
    "## 3. Voting classifiers"
   ]
  },
  {
   "cell_type": "markdown",
   "metadata": {},
   "source": [
    "1. Using `VotingClassifier` and the three models that you have just trained, calculate the `accuracy`, `precision`, and `recall` on the validation set.\n",
    "2. Play with the other parameteres.\n",
    "3. Calculate the `accuracy`, `precision` and `recall` on the test set for the model with the best weights in terms of accuracy (if there are several of them with equal values, choose the one with the higher precision)."
   ]
  },
  {
   "cell_type": "code",
   "execution_count": 38,
   "metadata": {},
   "outputs": [
    {
     "name": "stdout",
     "output_type": "stream",
     "text": [
      "accuracy:  0.92308\n",
      "precision: 0.92399\n",
      "recall:    0.92308\n"
     ]
    }
   ],
   "source": [
    "vote = VotingClassifier([('svc', clf_svc),\n",
    "                         ('tree', clf_tree),\n",
    "                         ('forest', clf_forest)]\n",
    "                       ).fit(X_train, y_train)\n",
    "y_pred = vote.predict(X_test)\n",
    "print_scores(y_test, y_pred)"
   ]
  },
  {
   "cell_type": "code",
   "execution_count": 41,
   "metadata": {},
   "outputs": [
    {
     "name": "stdout",
     "output_type": "stream",
     "text": [
      "accuracy:  0.90828\n",
      "precision: 0.91030\n",
      "recall:    0.90828\n"
     ]
    }
   ],
   "source": [
    "vote = VotingClassifier([('svc', clf_svc),\n",
    "                         ('tree', clf_tree),\n",
    "                         ('forest', clf_forest)],\n",
    "                        voting='soft'\n",
    "                       ).fit(X_train, y_train)\n",
    "y_pred = vote.predict(X_test)\n",
    "print_scores(y_test, y_pred)"
   ]
  },
  {
   "cell_type": "code",
   "execution_count": 95,
   "metadata": {},
   "outputs": [],
   "source": [
    "weights_grid = list(product(range(1, 7), repeat=3))\n",
    "weights_grid = list(filter(lambda x: any(elem != x[0] for elem in x), weights_grid))\n",
    "weights_grid = list(filter(lambda x: not all(elem % 2 == 0 for elem in x), weights_grid))\n",
    "# weights_grid"
   ]
  },
  {
   "cell_type": "code",
   "execution_count": 101,
   "metadata": {},
   "outputs": [
    {
     "data": {
      "application/vnd.jupyter.widget-view+json": {
       "model_id": "76032f18a6c34ae8ad5c1cc28ae57f5e",
       "version_major": 2,
       "version_minor": 0
      },
      "text/plain": [
       "  0%|          | 0/186 [00:00<?, ?it/s]"
      ]
     },
     "metadata": {},
     "output_type": "display_data"
    },
    {
     "data": {
      "application/vnd.jupyter.widget-view+json": {
       "model_id": "a75d63e074254a1b8f71dd4946530021",
       "version_major": 2,
       "version_minor": 0
      },
      "text/plain": [
       "  0%|          | 0/1 [00:00<?, ?it/s]"
      ]
     },
     "metadata": {},
     "output_type": "display_data"
    },
    {
     "name": "stdout",
     "output_type": "stream",
     "text": [
      "2 3 2\n",
      "accuracy:  0.92899\n",
      "precision: 0.93024\n",
      "recall:    0.92899\n",
      "---------------------\n"
     ]
    }
   ],
   "source": [
    "best_weigths = {}\n",
    "best_accuracy = .0\n",
    "best_precision = .0\n",
    "\n",
    "for weights in tqdm(weights_grid):\n",
    "    vote_w = VotingClassifier([('svc', clf_svc),\n",
    "                               ('tree', clf_tree),\n",
    "                               ('forest', clf_forest)],\n",
    "                              weights=weights\n",
    "                             ).fit(X_train, y_train)\n",
    "    y_pred = vote_w.predict(X_test)\n",
    "    accur_score = accuracy_score(y_test, y_pred)\n",
    "    precis_score = precision_score(y_test, y_pred, average='weighted')\n",
    "    if accur_score > best_accuracy or \\\n",
    "    (accur_score == best_accuracy and best_precision < precis_score):\n",
    "        best_accuracy = accur_score\n",
    "        best_precision = precis_score\n",
    "        best_weigths.clear()\n",
    "        best_weigths[weights] = precis_score\n",
    "\n",
    "\n",
    "for weights in tqdm(best_weigths.keys()):\n",
    "    vote = VotingClassifier([('svc', clf_svc),\n",
    "                             ('tree', clf_tree),\n",
    "                             ('forest', clf_forest)],\n",
    "                            weights=weights\n",
    "                           ).fit(X_train, y_train)\n",
    "    print(*weights)\n",
    "    print_scores(y_test, vote.predict(X_test))\n",
    "    print('---------------------')"
   ]
  },
  {
   "cell_type": "code",
   "execution_count": 102,
   "metadata": {},
   "outputs": [
    {
     "name": "stdout",
     "output_type": "stream",
     "text": [
      "accuracy:  0.92899\n",
      "precision: 0.93024\n",
      "recall:    0.92899\n"
     ]
    }
   ],
   "source": [
    "best_case = VotingClassifier([('svc', clf_svc),\n",
    "                              ('tree', clf_tree),\n",
    "                              ('forest', clf_forest)],\n",
    "                             weights=[2, 3, 2]\n",
    "                            ).fit(X_train, y_train)\n",
    "print_scores(y_test, vote.predict(X_test))"
   ]
  },
  {
   "cell_type": "markdown",
   "metadata": {},
   "source": [
    "## 4. Bagging classifiers"
   ]
  },
  {
   "cell_type": "markdown",
   "metadata": {},
   "source": [
    "1. Using `BaggingClassifier` and `SVM` with the best parameters create an ensemble, try different values of the `n_estimators`, use `random_state=21`.\n",
    "2. Play with the other parameters.\n",
    "3. Calculate the `accuracy`, `precision`, and `recall` for the model with the best parameters (in terms of accuracy) on the test set (if there are several of them with equal values, choose the one with the higher precision)"
   ]
  },
  {
   "cell_type": "code",
   "execution_count": 104,
   "metadata": {},
   "outputs": [],
   "source": [
    "clf_svc = SVC(kernel='rbf', gamma='auto', class_weight=None, C=10,\n",
    "              probability=True, random_state=21)"
   ]
  },
  {
   "cell_type": "code",
   "execution_count": 111,
   "metadata": {},
   "outputs": [
    {
     "data": {
      "application/vnd.jupyter.widget-view+json": {
       "model_id": "5ae7930dd1194378afcaa962d6e4daa2",
       "version_major": 2,
       "version_minor": 0
      },
      "text/plain": [
       "  0%|          | 0/10 [00:00<?, ?it/s]"
      ]
     },
     "metadata": {},
     "output_type": "display_data"
    },
    {
     "data": {
      "application/vnd.jupyter.widget-view+json": {
       "model_id": "0644de430c0c487dbe114655ed62775e",
       "version_major": 2,
       "version_minor": 0
      },
      "text/plain": [
       "  0%|          | 0/11 [00:00<?, ?it/s]"
      ]
     },
     "metadata": {},
     "output_type": "display_data"
    }
   ],
   "source": [
    "best_estimators = {}\n",
    "best_accuracy = .0\n",
    "best_precision = .0\n",
    "\n",
    "for i in trange(5, 51, 5):\n",
    "    clf_bag = BaggingClassifier(clf_svc, random_state=21, n_estimators=i).fit(X_train, y_train)\n",
    "    y_pred = clf_bag.predict(X_test)\n",
    "    accur_score = accuracy_score(y_test, y_pred)\n",
    "    precis_score = precision_score(y_test, y_pred, average='weighted')\n",
    "    if accur_score > best_accuracy or \\\n",
    "    (accur_score == best_accuracy and best_precision < precis_score):\n",
    "        best_accuracy = accur_score\n",
    "        best_precision = precis_score\n",
    "        best_estimators.clear()\n",
    "        best_estimators[i] = precis_score\n",
    "        \n",
    "for i in trange(50, 151, 10):\n",
    "    clf_bag = BaggingClassifier(clf_svc, random_state=21, n_estimators=i).fit(X_train, y_train)\n",
    "    y_pred = clf_bag.predict(X_test)\n",
    "    accur_score = accuracy_score(y_test, y_pred)\n",
    "    precis_score = precision_score(y_test, y_pred, average='weighted')\n",
    "    if accur_score > best_accuracy or \\\n",
    "    (accur_score == best_accuracy and best_precision < precis_score):\n",
    "        best_accuracy = accur_score\n",
    "        best_precision = precis_score\n",
    "        best_estimators.clear()\n",
    "        best_estimators[i] = precis_score\n",
    "        "
   ]
  },
  {
   "cell_type": "code",
   "execution_count": 114,
   "metadata": {},
   "outputs": [
    {
     "data": {
      "application/vnd.jupyter.widget-view+json": {
       "model_id": "5ae9b8fb628f404c927bfcae50707a15",
       "version_major": 2,
       "version_minor": 0
      },
      "text/plain": [
       "  0%|          | 0/1 [00:00<?, ?it/s]"
      ]
     },
     "metadata": {},
     "output_type": "display_data"
    },
    {
     "name": "stdout",
     "output_type": "stream",
     "text": [
      "50\n",
      "accuracy:  0.90828\n",
      "precision: 0.91091\n",
      "recall:    0.90828\n",
      "---------------------\n"
     ]
    }
   ],
   "source": [
    "for i in tqdm(best_estimators.keys()):\n",
    "    clf_bag = BaggingClassifier(clf_svc, random_state=21, n_estimators=i).fit(X_train, y_train)\n",
    "    print(i)\n",
    "    print_scores(y_test, clf_bag.predict(X_test))\n",
    "    print('---------------------')"
   ]
  },
  {
   "cell_type": "code",
   "execution_count": 125,
   "metadata": {},
   "outputs": [
    {
     "name": "stdout",
     "output_type": "stream",
     "text": [
      "accuracy:  0.90828\n",
      "precision: 0.91091\n",
      "recall:    0.90828\n"
     ]
    }
   ],
   "source": [
    "clf_bag = BaggingClassifier(clf_svc, random_state=21, n_jobs=-1, n_estimators=50\n",
    "                           ).fit(X_train, y_train)\n",
    "print_scores(y_test, clf_bag.predict(X_test))"
   ]
  },
  {
   "cell_type": "markdown",
   "metadata": {},
   "source": [
    "## 5. Stacking classifiers"
   ]
  },
  {
   "cell_type": "markdown",
   "metadata": {},
   "source": [
    "1. To achieve reproducibility in this case you will have to create an object of cross-validation generator: `StratifiedKFold(n_splits=n, shuffle=True, random_state=21)`, where `n` you will try to optimize (the details are below).\n",
    "2. Using `StackingClassifier` and the three models that you have recently trained, calculate the `accuracy`, `precision` and `recall` on the validation set, try different values of `n_splits` `[2, 3, 4, 5, 6, 7]` in the cross-validation generator and parameter `passthrough` in the classifier itself,\n",
    "3. Calculate the `accuracy`, `precision`, and `recall` for the model with the best parameters (in terms of accuracy) on the test set (if there are several of them with equal values, choose the one with the higher precision). Use `final_estimator=LogisticRegression(solver='liblinear')`."
   ]
  },
  {
   "cell_type": "code",
   "execution_count": 154,
   "metadata": {},
   "outputs": [],
   "source": [
    "def crossval(Model, X, y, n_splits = [10]):\n",
    "    accur_scores = []\n",
    "    precis_scores = []\n",
    "    recall_scores = []\n",
    "    for splits in tqdm(n_splits):\n",
    "        kf = StratifiedKFold(n_splits=splits, shuffle=True, random_state=21)\n",
    "        for train, test in kf.split(X, y):\n",
    "            clf = Model.fit(X.iloc[train], y.iloc[train])\n",
    "            y_test_pred = clf.predict(X.iloc[test])\n",
    "            \n",
    "            accuracy = accuracy_score(y.iloc[test], y_test_pred)\n",
    "            precision = precision_score(y.iloc[test], y_test_pred, average='weighted')\n",
    "            recall = recall_score(y.iloc[test], y_test_pred, average='weighted')\n",
    "#             print(f'accuracy, precision, recall - {accuracy:.5f}, {precision:.5f}, {recall:.5f}')\n",
    "            accur_scores.append(accuracy)\n",
    "            precis_scores.append(precision)\n",
    "            recall_scores.append(recall)\n",
    "        print(f'\\nn_splits = {splits}')\n",
    "        print(f'Average accuracy on crossval is  {np.mean(accur_scores):.5f}')\n",
    "        print(f'Average precision on crossval is {np.mean(precis_scores):.5f}')\n",
    "        print(f'Average recall on crossval is    {np.mean(recall_scores):.5f}')\n",
    "        print('------------------------------------------------------')"
   ]
  },
  {
   "cell_type": "code",
   "execution_count": 128,
   "metadata": {},
   "outputs": [],
   "source": [
    "clf_stack = StackingClassifier([('svc', clf_svc),\n",
    "                                ('tree', clf_tree),\n",
    "                                ('forest', clf_forest)])"
   ]
  },
  {
   "cell_type": "code",
   "execution_count": 142,
   "metadata": {},
   "outputs": [
    {
     "data": {
      "application/vnd.jupyter.widget-view+json": {
       "model_id": "6358fca7533c4e5091c9e935a6e737ac",
       "version_major": 2,
       "version_minor": 0
      },
      "text/plain": [
       "  0%|          | 0/6 [00:00<?, ?it/s]"
      ]
     },
     "metadata": {},
     "output_type": "display_data"
    },
    {
     "name": "stdout",
     "output_type": "stream",
     "text": [
      "\n",
      "n_splits = 2\n",
      "Average accuracy on crossval is  0.86499\n",
      "Average precision on crossval is 0.86659\n",
      "Average recall on crossval is    0.86499\n",
      "------------------------------------------------------\n",
      "\n",
      "n_splits = 3\n",
      "Average accuracy on crossval is  0.87521\n",
      "Average precision on crossval is 0.87719\n",
      "Average recall on crossval is    0.87521\n",
      "------------------------------------------------------\n",
      "\n",
      "n_splits = 4\n",
      "Average accuracy on crossval is  0.88880\n",
      "Average precision on crossval is 0.89103\n",
      "Average recall on crossval is    0.88880\n",
      "------------------------------------------------------\n",
      "\n",
      "n_splits = 5\n",
      "Average accuracy on crossval is  0.89725\n",
      "Average precision on crossval is 0.89935\n",
      "Average recall on crossval is    0.89725\n",
      "------------------------------------------------------\n",
      "\n",
      "n_splits = 6\n",
      "Average accuracy on crossval is  0.90181\n",
      "Average precision on crossval is 0.90420\n",
      "Average recall on crossval is    0.90181\n",
      "------------------------------------------------------\n",
      "\n",
      "n_splits = 7\n",
      "Average accuracy on crossval is  0.90418\n",
      "Average precision on crossval is 0.90671\n",
      "Average recall on crossval is    0.90418\n",
      "------------------------------------------------------\n"
     ]
    }
   ],
   "source": [
    "crossval(clf_stack, X_train, y_train, range(2, 8))"
   ]
  },
  {
   "cell_type": "code",
   "execution_count": 162,
   "metadata": {},
   "outputs": [
    {
     "data": {
      "application/vnd.jupyter.widget-view+json": {
       "model_id": "f8519f9ddeb340a5b41fff3921152cfb",
       "version_major": 2,
       "version_minor": 0
      },
      "text/plain": [
       "  0%|          | 0/6 [00:00<?, ?it/s]"
      ]
     },
     "metadata": {},
     "output_type": "display_data"
    },
    {
     "name": "stdout",
     "output_type": "stream",
     "text": [
      "\n",
      "n_splits = 2\n",
      "Average accuracy on crossval is  0.86869\n",
      "Average precision on crossval is 0.87123\n",
      "Average recall on crossval is    0.86869\n",
      "------------------------------------------------------\n",
      "\n",
      "n_splits = 3\n",
      "Average accuracy on crossval is  0.88248\n",
      "Average precision on crossval is 0.88481\n",
      "Average recall on crossval is    0.88248\n",
      "------------------------------------------------------\n",
      "\n",
      "n_splits = 4\n",
      "Average accuracy on crossval is  0.89383\n",
      "Average precision on crossval is 0.89589\n",
      "Average recall on crossval is    0.89383\n",
      "------------------------------------------------------\n",
      "\n",
      "n_splits = 5\n",
      "Average accuracy on crossval is  0.89969\n",
      "Average precision on crossval is 0.90188\n",
      "Average recall on crossval is    0.89969\n",
      "------------------------------------------------------\n",
      "\n",
      "n_splits = 6\n",
      "Average accuracy on crossval is  0.90285\n",
      "Average precision on crossval is 0.90541\n",
      "Average recall on crossval is    0.90285\n",
      "------------------------------------------------------\n",
      "\n",
      "n_splits = 7\n",
      "Average accuracy on crossval is  0.90591\n",
      "Average precision on crossval is 0.90830\n",
      "Average recall on crossval is    0.90591\n",
      "------------------------------------------------------\n"
     ]
    }
   ],
   "source": [
    "clf_stack_passthrough = StackingClassifier([\n",
    "    ('svc', clf_svc),\n",
    "    ('tree', clf_tree),\n",
    "    ('forest', clf_forest)],\n",
    "    passthrough=True, final_estimator=LogisticRegression(solver='liblinear')\n",
    ")\n",
    "crossval(clf_stack_passthrough, X_train, y_train, range(2, 8))"
   ]
  },
  {
   "cell_type": "code",
   "execution_count": 163,
   "metadata": {},
   "outputs": [
    {
     "name": "stdout",
     "output_type": "stream",
     "text": [
      "accuracy:  0.92899\n",
      "precision: 0.93200\n",
      "recall:    0.92899\n"
     ]
    }
   ],
   "source": [
    "clf_stack_final = StackingClassifier([\n",
    "    ('svc', clf_svc),\n",
    "    ('tree', clf_tree),\n",
    "    ('forest', clf_forest)],\n",
    "    passthrough=True, final_estimator=LogisticRegression(solver='liblinear')\n",
    ").fit(X_train, y_train)\n",
    "print_scores(y_test, clf_stack_final.predict(X_test))"
   ]
  },
  {
   "cell_type": "markdown",
   "metadata": {},
   "source": [
    "## 6. Predictions"
   ]
  },
  {
   "cell_type": "markdown",
   "metadata": {},
   "source": [
    "1. Choose the best model in terms of accuracy (if there are several of them with equal values, choose the one with the higher precision).\n",
    "2. Analyze: for which weekday your model makes the most errors (in % of the total number of samples of that class in your full dataset), for which labname and for which users.\n",
    "3. Save the model."
   ]
  },
  {
   "cell_type": "markdown",
   "metadata": {},
   "source": [
    "> `StackingClassifier` had the best results in terms of accuracy"
   ]
  },
  {
   "cell_type": "code",
   "execution_count": 165,
   "metadata": {},
   "outputs": [
    {
     "data": {
      "text/plain": [
       "0    7\n",
       "1    6\n",
       "2    2\n",
       "3    2\n",
       "4    1\n",
       "5    5\n",
       "6    1\n",
       "Name: y_real, dtype: int64"
      ]
     },
     "execution_count": 165,
     "metadata": {},
     "output_type": "execute_result"
    }
   ],
   "source": [
    "y_pred = clf_stack_final.predict(X_test)\n",
    "\n",
    "compare = pd.DataFrame({'y_real': y_test, 'y_pred': y_pred})\n",
    "stats = compare.y_real[compare['y_real'] != compare['y_pred']].value_counts().sort_index()\n",
    "stats"
   ]
  },
  {
   "cell_type": "code",
   "execution_count": 169,
   "metadata": {},
   "outputs": [
    {
     "data": {
      "image/png": "[encoded data removed]",
      "text/plain": [
       "<Figure size 640x480 with 2 Axes>"
      ]
     },
     "metadata": {},
     "output_type": "display_data"
    }
   ],
   "source": [
    "disp = ConfusionMatrixDisplay(\n",
    "    confusion_matrix(y_test, y_pred, labels=clf_stack_final.classes_),\n",
    "    display_labels=clf_stack_final.classes_\n",
    ")\n",
    "disp.plot()\n",
    "plt.show()"
   ]
  },
  {
   "cell_type": "markdown",
   "metadata": {},
   "source": [
    "> Most of all incorrectly predicted is on `Mondays` - `7` (`25.92%`), then `Tuesdays` - `6` (`10.9%`)."
   ]
  },
  {
   "cell_type": "code",
   "execution_count": 173,
   "metadata": {},
   "outputs": [
    {
     "data": {
      "text/plain": [
       "['StackingClassifier.joblib']"
      ]
     },
     "execution_count": 173,
     "metadata": {},
     "output_type": "execute_result"
    }
   ],
   "source": [
    "joblib.dump(clf_stack_final, 'StackingClassifier.joblib')"
   ]
  }
 ],
 "metadata": {
  "kernelspec": {
   "display_name": "Python 3 (ipykernel)",
   "language": "python",
   "name": "python3"
  },
  "language_info": {
   "codemirror_mode": {
    "name": "ipython",
    "version": 3
   },
   "file_extension": ".py",
   "mimetype": "text/x-python",
   "name": "python",
   "nbconvert_exporter": "python",
   "pygments_lexer": "ipython3",
   "version": "3.10.6"
  }
 },
 "nbformat": 4,
 "nbformat_minor": 4
}
