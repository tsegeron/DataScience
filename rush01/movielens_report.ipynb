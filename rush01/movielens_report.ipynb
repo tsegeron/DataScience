{
 "cells": [
  {
   "cell_type": "markdown",
   "id": "202bf8e8",
   "metadata": {},
   "source": [
    "## Imports"
   ]
  },
  {
   "cell_type": "code",
   "execution_count": 1,
   "id": "8b6c0fa5",
   "metadata": {},
   "outputs": [],
   "source": [
    "import movielens_analysis"
   ]
  },
  {
   "cell_type": "code",
   "execution_count": 10,
   "id": "757ce621",
   "metadata": {},
   "outputs": [],
   "source": [
    "movies = movielens_analysis.Movies('data/movies.csv')\n",
    "tags = movielens_analysis.Tags('data/tags.csv')\n",
    "ratings = movielens_analysis.Ratings('data/ratings.csv')\n",
    "links = movielens_analysis.Links('data/links.csv')"
   ]
  },
  {
   "cell_type": "markdown",
   "id": "a8050545",
   "metadata": {},
   "source": [
    "---\n",
    "## Movies"
   ]
  },
  {
   "cell_type": "code",
   "execution_count": null,
   "id": "c6cc58cc",
   "metadata": {},
   "outputs": [],
   "source": [
    "%%timeit\n",
    "movies.dist_by_release()"
   ]
  },
  {
   "cell_type": "markdown",
   "id": "3b423fd6",
   "metadata": {},
   "source": [
    "Our dataset contains a lot of movies, but for the first look it seems a little bit messy, so getting data sorted by release year, gives us the following:\n",
    "- most of the films are released in 2002, 311 movies were released in this year\n",
    "- top-5 years:\n",
    "    - 2002\n",
    "    - 2006\n",
    "    - 2001\n",
    "    - 2007\n",
    "    - 2000\n",
    "- 2002 year is the only one with number of released movies over 300\n",
    "- the tendency shows lower the year of release lower the number of released movies in the dataset\n",
    "- there are 8 years with the number of released movies equal to 1"
   ]
  },
  {
   "cell_type": "code",
   "execution_count": 11,
   "id": "470c6876",
   "metadata": {},
   "outputs": [
    {
     "name": "stdout",
     "output_type": "stream",
     "text": [
      "263 ms ± 3.09 ms per loop (mean ± std. dev. of 7 runs, 1 loop each)\n"
     ]
    }
   ],
   "source": [
    "%%timeit\n",
    "movies.dist_by_genres()"
   ]
  },
  {
   "cell_type": "markdown",
   "id": "d2ec5755",
   "metadata": {},
   "source": [
    "Lets give a look at genres. Data observation shows that the most popular genre is `Drama`, almost half of all the movies is consideres as Drama. The least popular genre occurs to be `Film-Noir`.\\\n",
    "The top-5 popular genres with their count out of 9.5k movies:\n",
    "- Drama: 4361\n",
    "- Comedy: 3756\n",
    "- Thriller: 1894\n",
    "- Action: 1828\n",
    "- Romance: 1596\n"
   ]
  },
  {
   "cell_type": "code",
   "execution_count": 12,
   "id": "601df5d7",
   "metadata": {},
   "outputs": [
    {
     "name": "stdout",
     "output_type": "stream",
     "text": [
      "13.4 ms ± 542 µs per loop (mean ± std. dev. of 7 runs, 100 loops each)\n"
     ]
    }
   ],
   "source": [
    "%%timeit\n",
    "movies.most_genres()"
   ]
  },
  {
   "cell_type": "markdown",
   "id": "7f7a6d7e",
   "metadata": {},
   "source": [
    "But not all movies decided on a specific genre. There are a bunch of movies with over 5 genres.\\\n",
    "The movie `Rubber` has even 10 genres, and is top-1 movies by number of genres.\\\n",
    "`Patlabor` takes the second place with number of 8.\\\n",
    "`Mulan`, `Who Framed Roger Rabbit?` and `Osmosis Jones` share the 3 place with the number of 7."
   ]
  },
  {
   "cell_type": "markdown",
   "id": "9aee38d2",
   "metadata": {},
   "source": [
    "---\n",
    "## Tags"
   ]
  },
  {
   "cell_type": "markdown",
   "id": "41a481c4",
   "metadata": {},
   "source": [
    "Now lets have a look at tags that were left by the viewers on movies in our dataset."
   ]
  },
  {
   "cell_type": "code",
   "execution_count": 14,
   "id": "0e1fd889",
   "metadata": {},
   "outputs": [
    {
     "name": "stdout",
     "output_type": "stream",
     "text": [
      "1.48 ms ± 48.1 µs per loop (mean ± std. dev. of 7 runs, 1,000 loops each)\n"
     ]
    }
   ],
   "source": [
    "%%timeit\n",
    "tags.most_words()"
   ]
  },
  {
   "cell_type": "code",
   "execution_count": 15,
   "id": "6f291a07",
   "metadata": {},
   "outputs": [
    {
     "name": "stdout",
     "output_type": "stream",
     "text": [
      "1.18 ms ± 53.3 µs per loop (mean ± std. dev. of 7 runs, 1,000 loops each)\n"
     ]
    }
   ],
   "source": [
    "%%timeit\n",
    "tags.longest()"
   ]
  },
  {
   "cell_type": "code",
   "execution_count": 16,
   "id": "72cf2397",
   "metadata": {},
   "outputs": [
    {
     "name": "stdout",
     "output_type": "stream",
     "text": [
      "1.56 ms ± 46.5 µs per loop (mean ± std. dev. of 7 runs, 1,000 loops each)\n"
     ]
    }
   ],
   "source": [
    "%%timeit\n",
    "tags.most_words_and_longest()"
   ]
  },
  {
   "cell_type": "code",
   "execution_count": 17,
   "id": "9983265d",
   "metadata": {},
   "outputs": [
    {
     "name": "stdout",
     "output_type": "stream",
     "text": [
      "254 ms ± 3.65 ms per loop (mean ± std. dev. of 7 runs, 1 loop each)\n"
     ]
    }
   ],
   "source": [
    "%%timeit\n",
    "tags.most_popular()"
   ]
  },
  {
   "cell_type": "code",
   "execution_count": 19,
   "id": "8c0b4da3",
   "metadata": {},
   "outputs": [
    {
     "name": "stdout",
     "output_type": "stream",
     "text": [
      "321 µs ± 2.2 µs per loop (mean ± std. dev. of 7 runs, 1,000 loops each)\n"
     ]
    }
   ],
   "source": [
    "%%timeit\n",
    "tags.tags_with('funny')"
   ]
  },
  {
   "cell_type": "markdown",
   "id": "73f8ff75",
   "metadata": {},
   "source": [
    "Most popular tag is `In Netflix queue` (131). People seem to love wathing movies on Netflix, moreover this tag is quite positive.\\\n",
    "Other tags from top-5 are: art (69), comedy (60), dark (46), atmospheric (36)\\\n",
    "They are positive except dark, quick look to the dataset gave an awareness that dark refers to humor.\\\n",
    "Longest tags and tags with most words at top have a slight difference, and longest tags with most words more overlap with longest ones. Most of them are quite negative."
   ]
  },
  {
   "cell_type": "markdown",
   "id": "10d51586",
   "metadata": {},
   "source": [
    "---\n",
    "## Ratings"
   ]
  },
  {
   "cell_type": "code",
   "execution_count": 22,
   "id": "4aa761af",
   "metadata": {},
   "outputs": [
    {
     "name": "stdout",
     "output_type": "stream",
     "text": [
      "105 ms ± 3.6 ms per loop (mean ± std. dev. of 7 runs, 10 loops each)\n"
     ]
    }
   ],
   "source": [
    "%%timeit\n",
    "ratings.movies.dist_by_year()"
   ]
  },
  {
   "cell_type": "markdown",
   "id": "07c1ac64",
   "metadata": {},
   "source": [
    "Over 10k ratings were posted at 2000. That was a year with the most interested users\\\n",
    "1998 is the only year that has number of rating under 1000 (507)\\\n",
    "For the last 4 years tendency stays on the same level, the average number of ratings there is around 6700."
   ]
  },
  {
   "cell_type": "code",
   "execution_count": 23,
   "id": "75620ae0",
   "metadata": {},
   "outputs": [
    {
     "data": {
      "text/plain": [
       "{0.5: 1370,\n",
       " 1.0: 2811,\n",
       " 1.5: 1791,\n",
       " 2.0: 7551,\n",
       " 2.5: 5550,\n",
       " 3.0: 20047,\n",
       " 3.5: 13136,\n",
       " 4.0: 26818,\n",
       " 4.5: 8551,\n",
       " 5.0: 13211}"
      ]
     },
     "execution_count": 23,
     "metadata": {},
     "output_type": "execute_result"
    }
   ],
   "source": [
    "%%timeit\n",
    "ratings.movies.dist_by_rating()"
   ]
  },
  {
   "cell_type": "markdown",
   "id": "8c1a264e",
   "metadata": {},
   "source": [
    "Most people aren't ready to give the highest rate and decide to leave `4.0` over `4.5` or `5.0`.\\\n",
    "The least number of people dares to leave the lowest rate.\\\n",
    "The average rate `3.0` also is very popular"
   ]
  },
  {
   "cell_type": "code",
   "execution_count": 24,
   "id": "017e8c1b",
   "metadata": {},
   "outputs": [
    {
     "data": {
      "text/plain": [
       "{'Forrest Gump': 329,\n",
       " '\"Shawshank Redemption, The\"': 317,\n",
       " 'Pulp Fiction': 307,\n",
       " '\"Silence of the Lambs, The\"': 279,\n",
       " '\"Matrix, The\"': 278}"
      ]
     },
     "execution_count": 24,
     "metadata": {},
     "output_type": "execute_result"
    }
   ],
   "source": [
    "%%timeit\n",
    "ratings.movies.top_by_num_of_ratings()"
   ]
  },
  {
   "cell_type": "markdown",
   "id": "455f06af",
   "metadata": {},
   "source": [
    "The most reted film is `Forrest Gump` with 329 rates.\\\n",
    "Top-5 films by rate:\n",
    "1. Forrest Gump 329\n",
    "1. Shawshank Redemption 317\n",
    "1. Pulp Fiction 307\n",
    "1. Silence of the Lambs 279\n",
    "1. Matrix 278"
   ]
  },
  {
   "cell_type": "code",
   "execution_count": 25,
   "id": "73a9ec79",
   "metadata": {},
   "outputs": [
    {
     "data": {
      "text/plain": [
       "{'The Jinx: The Life and Deaths of Robert Durst': 5.0,\n",
       " 'Galaxy of Terror (Quest)': 5.0,\n",
       " 'Alien Contamination': 5.0,\n",
       " \"I'm the One That I Want\": 5.0,\n",
       " 'Lesson Faust': 5.0}"
      ]
     },
     "execution_count": 25,
     "metadata": {},
     "output_type": "execute_result"
    }
   ],
   "source": [
    "# %%timeit\n",
    "ratings.movies.top_by_ratings()"
   ]
  },
  {
   "cell_type": "markdown",
   "id": "89fcdaa3",
   "metadata": {},
   "source": [
    "Top by average rate:\n",
    "1. The Jinx: The Life and Deaths of Robert Durst 5.0\n",
    "1. Galaxy of Terror (Quest) 5.0\n",
    "1. Alien Contamination 5.0\n",
    "1. I'm the One That I Want 5.0\n",
    "1. Lesson Faust 5.0\n",
    "\n",
    "These movies have the small number of views, therefore the their medium rate is max"
   ]
  }
 ],
 "metadata": {
  "kernelspec": {
   "display_name": "Python 3 (ipykernel)",
   "language": "python",
   "name": "python3"
  },
  "language_info": {
   "codemirror_mode": {
    "name": "ipython",
    "version": 3
   },
   "file_extension": ".py",
   "mimetype": "text/x-python",
   "name": "python",
   "nbconvert_exporter": "python",
   "pygments_lexer": "ipython3",
   "version": "3.10.6"
  }
 },
 "nbformat": 4,
 "nbformat_minor": 5
}
