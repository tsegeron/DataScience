{
 "cells": [
  {
   "cell_type": "code",
   "execution_count": 126,
   "id": "60a8d404",
   "metadata": {},
   "outputs": [],
   "source": [
    "import pandas as pd\n",
    "import gc"
   ]
  },
  {
   "cell_type": "markdown",
   "id": "dd79c470",
   "metadata": {},
   "source": [
    "> checking for zeros and remonig them"
   ]
  },
  {
   "cell_type": "code",
   "execution_count": 127,
   "id": "35a776c2",
   "metadata": {},
   "outputs": [
    {
     "data": {
      "text/html": [
       "<div>\n",
       "<style scoped>\n",
       "    .dataframe tbody tr th:only-of-type {\n",
       "        vertical-align: middle;\n",
       "    }\n",
       "\n",
       "    .dataframe tbody tr th {\n",
       "        vertical-align: top;\n",
       "    }\n",
       "\n",
       "    .dataframe thead th {\n",
       "        text-align: right;\n",
       "    }\n",
       "</style>\n",
       "<table border=\"1\" class=\"dataframe\">\n",
       "  <thead>\n",
       "    <tr style=\"text-align: right;\">\n",
       "      <th></th>\n",
       "      <th>CarNumber</th>\n",
       "      <th>Refund</th>\n",
       "      <th>Fines</th>\n",
       "      <th>Make</th>\n",
       "      <th>Model</th>\n",
       "      <th>Year</th>\n",
       "    </tr>\n",
       "  </thead>\n",
       "  <tbody>\n",
       "    <tr>\n",
       "      <th>925</th>\n",
       "      <td>M777EP777RUS</td>\n",
       "      <td>0</td>\n",
       "      <td>0.0</td>\n",
       "      <td>Aurus</td>\n",
       "      <td>Senat</td>\n",
       "      <td>2018</td>\n",
       "    </tr>\n",
       "  </tbody>\n",
       "</table>\n",
       "</div>"
      ],
      "text/plain": [
       "        CarNumber  Refund  Fines   Make  Model  Year\n",
       "925  M777EP777RUS       0    0.0  Aurus  Senat  2018"
      ]
     },
     "execution_count": 127,
     "metadata": {},
     "output_type": "execute_result"
    }
   ],
   "source": [
    "fines = pd.read_csv('../ex04/fines.csv')\n",
    "fines[(fines['Fines'] == 0) | (fines['Refund'] == 0)]"
   ]
  },
  {
   "cell_type": "code",
   "execution_count": 128,
   "id": "8a7e2720",
   "metadata": {},
   "outputs": [
    {
     "data": {
      "text/html": [
       "<div>\n",
       "<style scoped>\n",
       "    .dataframe tbody tr th:only-of-type {\n",
       "        vertical-align: middle;\n",
       "    }\n",
       "\n",
       "    .dataframe tbody tr th {\n",
       "        vertical-align: top;\n",
       "    }\n",
       "\n",
       "    .dataframe thead th {\n",
       "        text-align: right;\n",
       "    }\n",
       "</style>\n",
       "<table border=\"1\" class=\"dataframe\">\n",
       "  <thead>\n",
       "    <tr style=\"text-align: right;\">\n",
       "      <th></th>\n",
       "      <th>CarNumber</th>\n",
       "      <th>Refund</th>\n",
       "      <th>Fines</th>\n",
       "      <th>Make</th>\n",
       "      <th>Model</th>\n",
       "      <th>Year</th>\n",
       "    </tr>\n",
       "  </thead>\n",
       "  <tbody>\n",
       "    <tr>\n",
       "      <th>0</th>\n",
       "      <td>Y163O8161RUS</td>\n",
       "      <td>2</td>\n",
       "      <td>3200.00</td>\n",
       "      <td>Ford</td>\n",
       "      <td>Focus</td>\n",
       "      <td>1989</td>\n",
       "    </tr>\n",
       "    <tr>\n",
       "      <th>1</th>\n",
       "      <td>E432XX77RUS</td>\n",
       "      <td>1</td>\n",
       "      <td>6500.00</td>\n",
       "      <td>Toyota</td>\n",
       "      <td>Camry</td>\n",
       "      <td>1995</td>\n",
       "    </tr>\n",
       "    <tr>\n",
       "      <th>2</th>\n",
       "      <td>7184TT36RUS</td>\n",
       "      <td>1</td>\n",
       "      <td>2100.00</td>\n",
       "      <td>Ford</td>\n",
       "      <td>Focus</td>\n",
       "      <td>1984</td>\n",
       "    </tr>\n",
       "    <tr>\n",
       "      <th>3</th>\n",
       "      <td>X582HE161RUS</td>\n",
       "      <td>2</td>\n",
       "      <td>2000.00</td>\n",
       "      <td>Ford</td>\n",
       "      <td>Focus</td>\n",
       "      <td>2015</td>\n",
       "    </tr>\n",
       "    <tr>\n",
       "      <th>4</th>\n",
       "      <td>92918M178RUS</td>\n",
       "      <td>1</td>\n",
       "      <td>5700.00</td>\n",
       "      <td>Ford</td>\n",
       "      <td>Focus</td>\n",
       "      <td>2014</td>\n",
       "    </tr>\n",
       "    <tr>\n",
       "      <th>...</th>\n",
       "      <td>...</td>\n",
       "      <td>...</td>\n",
       "      <td>...</td>\n",
       "      <td>...</td>\n",
       "      <td>...</td>\n",
       "      <td>...</td>\n",
       "    </tr>\n",
       "    <tr>\n",
       "      <th>925</th>\n",
       "      <td>M777EP777RUS</td>\n",
       "      <td>1</td>\n",
       "      <td>100.00</td>\n",
       "      <td>Aurus</td>\n",
       "      <td>Senat</td>\n",
       "      <td>2018</td>\n",
       "    </tr>\n",
       "    <tr>\n",
       "      <th>926</th>\n",
       "      <td>L007OX07RUS</td>\n",
       "      <td>3</td>\n",
       "      <td>20000.00</td>\n",
       "      <td>Nissan</td>\n",
       "      <td>Juke</td>\n",
       "      <td>2010</td>\n",
       "    </tr>\n",
       "    <tr>\n",
       "      <th>927</th>\n",
       "      <td>G040AY300RUS</td>\n",
       "      <td>3</td>\n",
       "      <td>50000.00</td>\n",
       "      <td>MINI</td>\n",
       "      <td>Cooper</td>\n",
       "      <td>2001</td>\n",
       "    </tr>\n",
       "    <tr>\n",
       "      <th>928</th>\n",
       "      <td>A802YE666RUS</td>\n",
       "      <td>3</td>\n",
       "      <td>6666.00</td>\n",
       "      <td>Daewoo</td>\n",
       "      <td>Matiz</td>\n",
       "      <td>1998</td>\n",
       "    </tr>\n",
       "    <tr>\n",
       "      <th>929</th>\n",
       "      <td>X017CM69RUS</td>\n",
       "      <td>3</td>\n",
       "      <td>17.69</td>\n",
       "      <td>Mazda</td>\n",
       "      <td>RX-7</td>\n",
       "      <td>2002</td>\n",
       "    </tr>\n",
       "  </tbody>\n",
       "</table>\n",
       "<p>930 rows × 6 columns</p>\n",
       "</div>"
      ],
      "text/plain": [
       "        CarNumber  Refund     Fines    Make   Model  Year\n",
       "0    Y163O8161RUS       2   3200.00    Ford   Focus  1989\n",
       "1     E432XX77RUS       1   6500.00  Toyota   Camry  1995\n",
       "2     7184TT36RUS       1   2100.00    Ford   Focus  1984\n",
       "3    X582HE161RUS       2   2000.00    Ford   Focus  2015\n",
       "4    92918M178RUS       1   5700.00    Ford   Focus  2014\n",
       "..            ...     ...       ...     ...     ...   ...\n",
       "925  M777EP777RUS       1    100.00   Aurus   Senat  2018\n",
       "926   L007OX07RUS       3  20000.00  Nissan    Juke  2010\n",
       "927  G040AY300RUS       3  50000.00    MINI  Cooper  2001\n",
       "928  A802YE666RUS       3   6666.00  Daewoo   Matiz  1998\n",
       "929   X017CM69RUS       3     17.69   Mazda    RX-7  2002\n",
       "\n",
       "[930 rows x 6 columns]"
      ]
     },
     "execution_count": 128,
     "metadata": {},
     "output_type": "execute_result"
    }
   ],
   "source": [
    "fines['Refund'].replace(0, 1, inplace=True)\n",
    "fines['Fines'].replace(0, 100, inplace=True)\n",
    "fines"
   ]
  },
  {
   "cell_type": "markdown",
   "id": "d235dde9",
   "metadata": {},
   "source": [
    "Iterations\n",
    "---------------"
   ]
  },
  {
   "cell_type": "markdown",
   "id": "6f4a859a",
   "metadata": {},
   "source": [
    "#### Loop approach"
   ]
  },
  {
   "cell_type": "code",
   "execution_count": 129,
   "id": "c30fc231",
   "metadata": {},
   "outputs": [
    {
     "name": "stdout",
     "output_type": "stream",
     "text": [
      "81 ms ± 841 µs per loop (mean ± std. dev. of 7 runs, 10 loops each)\n"
     ]
    }
   ],
   "source": [
    "%%timeit\n",
    "arr = []\n",
    "for i in range(0, len(fines)):\n",
    "    row = fines.iloc[i]\n",
    "    arr.append(row['Fines'] / row['Refund'] * row['Year'])\n",
    "fines['loop'] = arr"
   ]
  },
  {
   "cell_type": "markdown",
   "id": "f281d3d9",
   "metadata": {},
   "source": [
    "> 82.9 ms ± 563 µs per loop (mean ± std. dev. of 7 runs, 10 loops each)\n",
    "\n",
    "---\n"
   ]
  },
  {
   "cell_type": "markdown",
   "id": "1319364e",
   "metadata": {},
   "source": [
    "#### iterrows()"
   ]
  },
  {
   "cell_type": "code",
   "execution_count": 130,
   "id": "56bd483b",
   "metadata": {},
   "outputs": [
    {
     "name": "stdout",
     "output_type": "stream",
     "text": [
      "33.7 ms ± 253 µs per loop (mean ± std. dev. of 7 runs, 10 loops each)\n"
     ]
    }
   ],
   "source": [
    "%%timeit\n",
    "arr = []\n",
    "for _, row in fines.iterrows():\n",
    "    arr.append(row['Fines'] / row['Refund'] * row['Year'])\n",
    "fines['iterrows'] = arr"
   ]
  },
  {
   "cell_type": "markdown",
   "id": "887d5b2e",
   "metadata": {},
   "source": [
    "> 34.6 ms ± 409 µs per loop (mean ± std. dev. of 7 runs, 10 loops each)\n",
    "\n",
    "---\n"
   ]
  },
  {
   "cell_type": "markdown",
   "id": "e5ac08fd",
   "metadata": {},
   "source": [
    "#### apply() and lambda function"
   ]
  },
  {
   "cell_type": "code",
   "execution_count": 131,
   "id": "b0137cbc",
   "metadata": {},
   "outputs": [
    {
     "name": "stdout",
     "output_type": "stream",
     "text": [
      "11.5 ms ± 134 µs per loop (mean ± std. dev. of 7 runs, 100 loops each)\n"
     ]
    }
   ],
   "source": [
    "%%timeit\n",
    "fines['apply'] = fines.apply(lambda row: row['Fines'] / row['Refund'] * row['Year'], axis=1)"
   ]
  },
  {
   "cell_type": "markdown",
   "id": "5f0ca080",
   "metadata": {},
   "source": [
    "> 11.8 ms ± 77.5 µs per loop (mean ± std. dev. of 7 runs, 100 loops each)\n",
    "\n",
    "---\n"
   ]
  },
  {
   "cell_type": "markdown",
   "id": "4e8f1c66",
   "metadata": {},
   "source": [
    "#### Series objects"
   ]
  },
  {
   "cell_type": "code",
   "execution_count": 132,
   "id": "2b1947b0",
   "metadata": {},
   "outputs": [
    {
     "name": "stdout",
     "output_type": "stream",
     "text": [
      "215 µs ± 3.49 µs per loop (mean ± std. dev. of 7 runs, 1,000 loops each)\n"
     ]
    }
   ],
   "source": [
    "%%timeit\n",
    "fines['Series'] = fines['Fines'] / fines['Refund'] * fines['Year']"
   ]
  },
  {
   "cell_type": "markdown",
   "id": "37d4b8e1",
   "metadata": {},
   "source": [
    "> 214 µs ± 3.16 µs per loop (mean ± std. dev. of 7 runs, 1,000 loops each)\n",
    "\n",
    "---\n"
   ]
  },
  {
   "cell_type": "markdown",
   "id": "51b78515",
   "metadata": {},
   "source": [
    "#### Series.values"
   ]
  },
  {
   "cell_type": "code",
   "execution_count": 133,
   "id": "76cda3a1",
   "metadata": {},
   "outputs": [
    {
     "name": "stdout",
     "output_type": "stream",
     "text": [
      "90.8 µs ± 1.01 µs per loop (mean ± std. dev. of 7 runs, 10,000 loops each)\n"
     ]
    }
   ],
   "source": [
    "%%timeit\n",
    "fines['Series.values'] = fines['Fines'].values / fines['Refund'].values * fines['Year'].values"
   ]
  },
  {
   "cell_type": "markdown",
   "id": "80e09ed5",
   "metadata": {},
   "source": [
    "> 91.4 µs ± 665 ns per loop (mean ± std. dev. of 7 runs, 10,000 loops each)\n",
    "\n",
    "---\n"
   ]
  },
  {
   "cell_type": "code",
   "execution_count": 134,
   "id": "c10bbde5",
   "metadata": {},
   "outputs": [
    {
     "data": {
      "text/html": [
       "<div>\n",
       "<style scoped>\n",
       "    .dataframe tbody tr th:only-of-type {\n",
       "        vertical-align: middle;\n",
       "    }\n",
       "\n",
       "    .dataframe tbody tr th {\n",
       "        vertical-align: top;\n",
       "    }\n",
       "\n",
       "    .dataframe thead th {\n",
       "        text-align: right;\n",
       "    }\n",
       "</style>\n",
       "<table border=\"1\" class=\"dataframe\">\n",
       "  <thead>\n",
       "    <tr style=\"text-align: right;\">\n",
       "      <th></th>\n",
       "      <th>CarNumber</th>\n",
       "      <th>Refund</th>\n",
       "      <th>Fines</th>\n",
       "      <th>Make</th>\n",
       "      <th>Model</th>\n",
       "      <th>Year</th>\n",
       "      <th>loop</th>\n",
       "      <th>iterrows</th>\n",
       "      <th>apply</th>\n",
       "      <th>Series</th>\n",
       "      <th>Series.values</th>\n",
       "    </tr>\n",
       "  </thead>\n",
       "  <tbody>\n",
       "    <tr>\n",
       "      <th>0</th>\n",
       "      <td>Y163O8161RUS</td>\n",
       "      <td>2</td>\n",
       "      <td>3200.00</td>\n",
       "      <td>Ford</td>\n",
       "      <td>Focus</td>\n",
       "      <td>1989</td>\n",
       "      <td>3.182400e+06</td>\n",
       "      <td>3.182400e+06</td>\n",
       "      <td>3.182400e+06</td>\n",
       "      <td>3.182400e+06</td>\n",
       "      <td>3.182400e+06</td>\n",
       "    </tr>\n",
       "    <tr>\n",
       "      <th>1</th>\n",
       "      <td>E432XX77RUS</td>\n",
       "      <td>1</td>\n",
       "      <td>6500.00</td>\n",
       "      <td>Toyota</td>\n",
       "      <td>Camry</td>\n",
       "      <td>1995</td>\n",
       "      <td>1.296750e+07</td>\n",
       "      <td>1.296750e+07</td>\n",
       "      <td>1.296750e+07</td>\n",
       "      <td>1.296750e+07</td>\n",
       "      <td>1.296750e+07</td>\n",
       "    </tr>\n",
       "    <tr>\n",
       "      <th>2</th>\n",
       "      <td>7184TT36RUS</td>\n",
       "      <td>1</td>\n",
       "      <td>2100.00</td>\n",
       "      <td>Ford</td>\n",
       "      <td>Focus</td>\n",
       "      <td>1984</td>\n",
       "      <td>4.166400e+06</td>\n",
       "      <td>4.166400e+06</td>\n",
       "      <td>4.166400e+06</td>\n",
       "      <td>4.166400e+06</td>\n",
       "      <td>4.166400e+06</td>\n",
       "    </tr>\n",
       "    <tr>\n",
       "      <th>3</th>\n",
       "      <td>X582HE161RUS</td>\n",
       "      <td>2</td>\n",
       "      <td>2000.00</td>\n",
       "      <td>Ford</td>\n",
       "      <td>Focus</td>\n",
       "      <td>2015</td>\n",
       "      <td>2.015000e+06</td>\n",
       "      <td>2.015000e+06</td>\n",
       "      <td>2.015000e+06</td>\n",
       "      <td>2.015000e+06</td>\n",
       "      <td>2.015000e+06</td>\n",
       "    </tr>\n",
       "    <tr>\n",
       "      <th>4</th>\n",
       "      <td>92918M178RUS</td>\n",
       "      <td>1</td>\n",
       "      <td>5700.00</td>\n",
       "      <td>Ford</td>\n",
       "      <td>Focus</td>\n",
       "      <td>2014</td>\n",
       "      <td>1.147980e+07</td>\n",
       "      <td>1.147980e+07</td>\n",
       "      <td>1.147980e+07</td>\n",
       "      <td>1.147980e+07</td>\n",
       "      <td>1.147980e+07</td>\n",
       "    </tr>\n",
       "    <tr>\n",
       "      <th>...</th>\n",
       "      <td>...</td>\n",
       "      <td>...</td>\n",
       "      <td>...</td>\n",
       "      <td>...</td>\n",
       "      <td>...</td>\n",
       "      <td>...</td>\n",
       "      <td>...</td>\n",
       "      <td>...</td>\n",
       "      <td>...</td>\n",
       "      <td>...</td>\n",
       "      <td>...</td>\n",
       "    </tr>\n",
       "    <tr>\n",
       "      <th>925</th>\n",
       "      <td>M777EP777RUS</td>\n",
       "      <td>1</td>\n",
       "      <td>100.00</td>\n",
       "      <td>Aurus</td>\n",
       "      <td>Senat</td>\n",
       "      <td>2018</td>\n",
       "      <td>2.018000e+05</td>\n",
       "      <td>2.018000e+05</td>\n",
       "      <td>2.018000e+05</td>\n",
       "      <td>2.018000e+05</td>\n",
       "      <td>2.018000e+05</td>\n",
       "    </tr>\n",
       "    <tr>\n",
       "      <th>926</th>\n",
       "      <td>L007OX07RUS</td>\n",
       "      <td>3</td>\n",
       "      <td>20000.00</td>\n",
       "      <td>Nissan</td>\n",
       "      <td>Juke</td>\n",
       "      <td>2010</td>\n",
       "      <td>1.340000e+07</td>\n",
       "      <td>1.340000e+07</td>\n",
       "      <td>1.340000e+07</td>\n",
       "      <td>1.340000e+07</td>\n",
       "      <td>1.340000e+07</td>\n",
       "    </tr>\n",
       "    <tr>\n",
       "      <th>927</th>\n",
       "      <td>G040AY300RUS</td>\n",
       "      <td>3</td>\n",
       "      <td>50000.00</td>\n",
       "      <td>MINI</td>\n",
       "      <td>Cooper</td>\n",
       "      <td>2001</td>\n",
       "      <td>3.335000e+07</td>\n",
       "      <td>3.335000e+07</td>\n",
       "      <td>3.335000e+07</td>\n",
       "      <td>3.335000e+07</td>\n",
       "      <td>3.335000e+07</td>\n",
       "    </tr>\n",
       "    <tr>\n",
       "      <th>928</th>\n",
       "      <td>A802YE666RUS</td>\n",
       "      <td>3</td>\n",
       "      <td>6666.00</td>\n",
       "      <td>Daewoo</td>\n",
       "      <td>Matiz</td>\n",
       "      <td>1998</td>\n",
       "      <td>4.439556e+06</td>\n",
       "      <td>4.439556e+06</td>\n",
       "      <td>4.439556e+06</td>\n",
       "      <td>4.439556e+06</td>\n",
       "      <td>4.439556e+06</td>\n",
       "    </tr>\n",
       "    <tr>\n",
       "      <th>929</th>\n",
       "      <td>X017CM69RUS</td>\n",
       "      <td>3</td>\n",
       "      <td>17.69</td>\n",
       "      <td>Mazda</td>\n",
       "      <td>RX-7</td>\n",
       "      <td>2002</td>\n",
       "      <td>1.180513e+04</td>\n",
       "      <td>1.180513e+04</td>\n",
       "      <td>1.180513e+04</td>\n",
       "      <td>1.180513e+04</td>\n",
       "      <td>1.180513e+04</td>\n",
       "    </tr>\n",
       "  </tbody>\n",
       "</table>\n",
       "<p>930 rows × 11 columns</p>\n",
       "</div>"
      ],
      "text/plain": [
       "        CarNumber  Refund     Fines    Make   Model  Year          loop  \\\n",
       "0    Y163O8161RUS       2   3200.00    Ford   Focus  1989  3.182400e+06   \n",
       "1     E432XX77RUS       1   6500.00  Toyota   Camry  1995  1.296750e+07   \n",
       "2     7184TT36RUS       1   2100.00    Ford   Focus  1984  4.166400e+06   \n",
       "3    X582HE161RUS       2   2000.00    Ford   Focus  2015  2.015000e+06   \n",
       "4    92918M178RUS       1   5700.00    Ford   Focus  2014  1.147980e+07   \n",
       "..            ...     ...       ...     ...     ...   ...           ...   \n",
       "925  M777EP777RUS       1    100.00   Aurus   Senat  2018  2.018000e+05   \n",
       "926   L007OX07RUS       3  20000.00  Nissan    Juke  2010  1.340000e+07   \n",
       "927  G040AY300RUS       3  50000.00    MINI  Cooper  2001  3.335000e+07   \n",
       "928  A802YE666RUS       3   6666.00  Daewoo   Matiz  1998  4.439556e+06   \n",
       "929   X017CM69RUS       3     17.69   Mazda    RX-7  2002  1.180513e+04   \n",
       "\n",
       "         iterrows         apply        Series  Series.values  \n",
       "0    3.182400e+06  3.182400e+06  3.182400e+06   3.182400e+06  \n",
       "1    1.296750e+07  1.296750e+07  1.296750e+07   1.296750e+07  \n",
       "2    4.166400e+06  4.166400e+06  4.166400e+06   4.166400e+06  \n",
       "3    2.015000e+06  2.015000e+06  2.015000e+06   2.015000e+06  \n",
       "4    1.147980e+07  1.147980e+07  1.147980e+07   1.147980e+07  \n",
       "..            ...           ...           ...            ...  \n",
       "925  2.018000e+05  2.018000e+05  2.018000e+05   2.018000e+05  \n",
       "926  1.340000e+07  1.340000e+07  1.340000e+07   1.340000e+07  \n",
       "927  3.335000e+07  3.335000e+07  3.335000e+07   3.335000e+07  \n",
       "928  4.439556e+06  4.439556e+06  4.439556e+06   4.439556e+06  \n",
       "929  1.180513e+04  1.180513e+04  1.180513e+04   1.180513e+04  \n",
       "\n",
       "[930 rows x 11 columns]"
      ]
     },
     "execution_count": 134,
     "metadata": {},
     "output_type": "execute_result"
    }
   ],
   "source": [
    "fines"
   ]
  },
  {
   "cell_type": "code",
   "execution_count": 135,
   "id": "441ba451",
   "metadata": {},
   "outputs": [
    {
     "data": {
      "text/html": [
       "<div>\n",
       "<style scoped>\n",
       "    .dataframe tbody tr th:only-of-type {\n",
       "        vertical-align: middle;\n",
       "    }\n",
       "\n",
       "    .dataframe tbody tr th {\n",
       "        vertical-align: top;\n",
       "    }\n",
       "\n",
       "    .dataframe thead th {\n",
       "        text-align: right;\n",
       "    }\n",
       "</style>\n",
       "<table border=\"1\" class=\"dataframe\">\n",
       "  <thead>\n",
       "    <tr style=\"text-align: right;\">\n",
       "      <th></th>\n",
       "      <th>CarNumber</th>\n",
       "      <th>Refund</th>\n",
       "      <th>Fines</th>\n",
       "      <th>Make</th>\n",
       "      <th>Model</th>\n",
       "      <th>Year</th>\n",
       "      <th>Calculations</th>\n",
       "    </tr>\n",
       "  </thead>\n",
       "  <tbody>\n",
       "    <tr>\n",
       "      <th>0</th>\n",
       "      <td>Y163O8161RUS</td>\n",
       "      <td>2</td>\n",
       "      <td>3200.0</td>\n",
       "      <td>Ford</td>\n",
       "      <td>Focus</td>\n",
       "      <td>1989</td>\n",
       "      <td>3182400.0</td>\n",
       "    </tr>\n",
       "  </tbody>\n",
       "</table>\n",
       "</div>"
      ],
      "text/plain": [
       "      CarNumber  Refund   Fines  Make  Model  Year  Calculations\n",
       "0  Y163O8161RUS       2  3200.0  Ford  Focus  1989     3182400.0"
      ]
     },
     "execution_count": 135,
     "metadata": {},
     "output_type": "execute_result"
    }
   ],
   "source": [
    "fines.drop(columns=['iterrows', 'apply', 'Series', 'Series.values'], inplace=True)\n",
    "fines.rename(columns={'loop': 'Calculations'}, inplace=True)\n",
    "fines.head(1)"
   ]
  },
  {
   "cell_type": "markdown",
   "id": "9984606a",
   "metadata": {},
   "source": [
    "Indexing\n",
    "-------------"
   ]
  },
  {
   "cell_type": "markdown",
   "id": "5bc9d896",
   "metadata": {},
   "source": [
    "#### without index"
   ]
  },
  {
   "cell_type": "code",
   "execution_count": 136,
   "id": "b65f5670",
   "metadata": {},
   "outputs": [
    {
     "name": "stdout",
     "output_type": "stream",
     "text": [
      "249 µs ± 1.3 µs per loop (mean ± std. dev. of 7 runs, 1,000 loops each)\n"
     ]
    }
   ],
   "source": [
    "%%timeit\n",
    "fines[fines['CarNumber'] == 'O136HO197RUS']"
   ]
  },
  {
   "cell_type": "markdown",
   "id": "cd508e30",
   "metadata": {},
   "source": [
    "> 254 µs ± 3.88 µs per loop (mean ± std. dev. of 7 runs, 1,000 loops each)\n",
    "\n",
    "---\n"
   ]
  },
  {
   "cell_type": "markdown",
   "id": "7a62abdb",
   "metadata": {},
   "source": [
    "#### with index"
   ]
  },
  {
   "cell_type": "code",
   "execution_count": 137,
   "id": "0d5f4421",
   "metadata": {},
   "outputs": [
    {
     "data": {
      "text/html": [
       "<div>\n",
       "<style scoped>\n",
       "    .dataframe tbody tr th:only-of-type {\n",
       "        vertical-align: middle;\n",
       "    }\n",
       "\n",
       "    .dataframe tbody tr th {\n",
       "        vertical-align: top;\n",
       "    }\n",
       "\n",
       "    .dataframe thead th {\n",
       "        text-align: right;\n",
       "    }\n",
       "</style>\n",
       "<table border=\"1\" class=\"dataframe\">\n",
       "  <thead>\n",
       "    <tr style=\"text-align: right;\">\n",
       "      <th></th>\n",
       "      <th>Refund</th>\n",
       "      <th>Fines</th>\n",
       "      <th>Make</th>\n",
       "      <th>Model</th>\n",
       "      <th>Year</th>\n",
       "      <th>Calculations</th>\n",
       "    </tr>\n",
       "    <tr>\n",
       "      <th>CarNumber</th>\n",
       "      <th></th>\n",
       "      <th></th>\n",
       "      <th></th>\n",
       "      <th></th>\n",
       "      <th></th>\n",
       "      <th></th>\n",
       "    </tr>\n",
       "  </thead>\n",
       "  <tbody>\n",
       "    <tr>\n",
       "      <th>Y163O8161RUS</th>\n",
       "      <td>2</td>\n",
       "      <td>3200.0</td>\n",
       "      <td>Ford</td>\n",
       "      <td>Focus</td>\n",
       "      <td>1989</td>\n",
       "      <td>3182400.0</td>\n",
       "    </tr>\n",
       "    <tr>\n",
       "      <th>E432XX77RUS</th>\n",
       "      <td>1</td>\n",
       "      <td>6500.0</td>\n",
       "      <td>Toyota</td>\n",
       "      <td>Camry</td>\n",
       "      <td>1995</td>\n",
       "      <td>12967500.0</td>\n",
       "    </tr>\n",
       "    <tr>\n",
       "      <th>7184TT36RUS</th>\n",
       "      <td>1</td>\n",
       "      <td>2100.0</td>\n",
       "      <td>Ford</td>\n",
       "      <td>Focus</td>\n",
       "      <td>1984</td>\n",
       "      <td>4166400.0</td>\n",
       "    </tr>\n",
       "  </tbody>\n",
       "</table>\n",
       "</div>"
      ],
      "text/plain": [
       "              Refund   Fines    Make  Model  Year  Calculations\n",
       "CarNumber                                                      \n",
       "Y163O8161RUS       2  3200.0    Ford  Focus  1989     3182400.0\n",
       "E432XX77RUS        1  6500.0  Toyota  Camry  1995    12967500.0\n",
       "7184TT36RUS        1  2100.0    Ford  Focus  1984     4166400.0"
      ]
     },
     "execution_count": 137,
     "metadata": {},
     "output_type": "execute_result"
    }
   ],
   "source": [
    "fines.set_index('CarNumber', inplace=True)\n",
    "fines.head(3)"
   ]
  },
  {
   "cell_type": "code",
   "execution_count": 138,
   "id": "1c34c141",
   "metadata": {},
   "outputs": [
    {
     "name": "stdout",
     "output_type": "stream",
     "text": [
      "117 µs ± 1.21 µs per loop (mean ± std. dev. of 7 runs, 10,000 loops each)\n"
     ]
    }
   ],
   "source": [
    "%%timeit\n",
    "fines.loc['O136HO197RUS']"
   ]
  },
  {
   "cell_type": "markdown",
   "id": "29038fd6",
   "metadata": {},
   "source": [
    "> 121 µs ± 2.35 µs per loop (mean ± std. dev. of 7 runs, 10,000 loops each)\n",
    "\n",
    "---\n"
   ]
  },
  {
   "cell_type": "markdown",
   "id": "fd7806a7",
   "metadata": {},
   "source": [
    "Downcasting\n",
    "--------------"
   ]
  },
  {
   "cell_type": "code",
   "execution_count": 139,
   "id": "5064134a",
   "metadata": {},
   "outputs": [
    {
     "name": "stdout",
     "output_type": "stream",
     "text": [
      "<class 'pandas.core.frame.DataFrame'>\n",
      "Index: 930 entries, Y163O8161RUS to X017CM69RUS\n",
      "Data columns (total 6 columns):\n",
      " #   Column        Non-Null Count  Dtype  \n",
      "---  ------        --------------  -----  \n",
      " 0   Refund        930 non-null    int64  \n",
      " 1   Fines         930 non-null    float64\n",
      " 2   Make          930 non-null    object \n",
      " 3   Model         919 non-null    object \n",
      " 4   Year          930 non-null    int64  \n",
      " 5   Calculations  930 non-null    float64\n",
      "dtypes: float64(2), int64(2), object(2)\n",
      "memory usage: 236.0 KB\n"
     ]
    }
   ],
   "source": [
    "fines.info(memory_usage='deep')"
   ]
  },
  {
   "cell_type": "code",
   "execution_count": 140,
   "id": "4b2909f4",
   "metadata": {},
   "outputs": [
    {
     "name": "stdout",
     "output_type": "stream",
     "text": [
      "<class 'pandas.core.frame.DataFrame'>\n",
      "Index: 930 entries, Y163O8161RUS to X017CM69RUS\n",
      "Data columns (total 6 columns):\n",
      " #   Column        Non-Null Count  Dtype  \n",
      "---  ------        --------------  -----  \n",
      " 0   Refund        930 non-null    int8   \n",
      " 1   Fines         930 non-null    float32\n",
      " 2   Make          930 non-null    object \n",
      " 3   Model         919 non-null    object \n",
      " 4   Year          930 non-null    int16  \n",
      " 5   Calculations  930 non-null    float32\n",
      "dtypes: float32(2), int16(1), int8(1), object(2)\n",
      "memory usage: 216.9 KB\n"
     ]
    }
   ],
   "source": [
    "optimized = fines.copy()\n",
    "\n",
    "fcols = optimized.select_dtypes('float').columns\n",
    "icols = optimized.select_dtypes('integer').columns\n",
    "\n",
    "optimized[fcols] = optimized[fcols].apply(pd.to_numeric, downcast='float')\n",
    "optimized[icols] = optimized[icols].apply(pd.to_numeric, downcast='integer')\n",
    "\n",
    "optimized.info(memory_usage='deep')"
   ]
  },
  {
   "cell_type": "markdown",
   "id": "4948bd9f",
   "metadata": {},
   "source": [
    "Categories\n",
    "------------"
   ]
  },
  {
   "cell_type": "code",
   "execution_count": 141,
   "id": "394706ff",
   "metadata": {},
   "outputs": [
    {
     "name": "stdout",
     "output_type": "stream",
     "text": [
      "<class 'pandas.core.frame.DataFrame'>\n",
      "Index: 930 entries, Y163O8161RUS to X017CM69RUS\n",
      "Data columns (total 6 columns):\n",
      " #   Column        Non-Null Count  Dtype   \n",
      "---  ------        --------------  -----   \n",
      " 0   Refund        930 non-null    int8    \n",
      " 1   Fines         930 non-null    float32 \n",
      " 2   Make          930 non-null    category\n",
      " 3   Model         919 non-null    category\n",
      " 4   Year          930 non-null    int16   \n",
      " 5   Calculations  930 non-null    float32 \n",
      "dtypes: category(2), float32(2), int16(1), int8(1)\n",
      "memory usage: 109.0 KB\n"
     ]
    }
   ],
   "source": [
    "ocols = optimized.select_dtypes('object').columns\n",
    "\n",
    "optimized[ocols] = optimized[ocols].apply(lambda t: t.astype('category'))\n",
    "\n",
    "optimized.info(memory_usage='deep')"
   ]
  },
  {
   "cell_type": "markdown",
   "id": "728d5540",
   "metadata": {},
   "source": [
    "Memory clean\n",
    "-------------"
   ]
  },
  {
   "cell_type": "code",
   "execution_count": 142,
   "id": "21a37163",
   "metadata": {},
   "outputs": [
    {
     "name": "stdout",
     "output_type": "stream",
     "text": [
      "Once deleted, variables cannot be recovered. Proceed (y/[n])?  y\n"
     ]
    },
    {
     "data": {
      "text/plain": [
       "1931"
      ]
     },
     "execution_count": 142,
     "metadata": {},
     "output_type": "execute_result"
    }
   ],
   "source": [
    "%reset_selective fines\n",
    "gc.collect()"
   ]
  },
  {
   "cell_type": "code",
   "execution_count": 143,
   "id": "633c08d0",
   "metadata": {},
   "outputs": [
    {
     "ename": "NameError",
     "evalue": "name 'fines' is not defined",
     "output_type": "error",
     "traceback": [
      "\u001b[0;31m---------------------------------------------------------------------------\u001b[0m",
      "\u001b[0;31mNameError\u001b[0m                                 Traceback (most recent call last)",
      "Input \u001b[0;32mIn [143]\u001b[0m, in \u001b[0;36m<cell line: 1>\u001b[0;34m()\u001b[0m\n\u001b[0;32m----> 1\u001b[0m \u001b[43mfines\u001b[49m\n",
      "\u001b[0;31mNameError\u001b[0m: name 'fines' is not defined"
     ]
    }
   ],
   "source": [
    "fines"
   ]
  },
  {
   "cell_type": "code",
   "execution_count": 144,
   "id": "f5b1d0e2",
   "metadata": {},
   "outputs": [
    {
     "data": {
      "text/html": [
       "<div>\n",
       "<style scoped>\n",
       "    .dataframe tbody tr th:only-of-type {\n",
       "        vertical-align: middle;\n",
       "    }\n",
       "\n",
       "    .dataframe tbody tr th {\n",
       "        vertical-align: top;\n",
       "    }\n",
       "\n",
       "    .dataframe thead th {\n",
       "        text-align: right;\n",
       "    }\n",
       "</style>\n",
       "<table border=\"1\" class=\"dataframe\">\n",
       "  <thead>\n",
       "    <tr style=\"text-align: right;\">\n",
       "      <th></th>\n",
       "      <th>Refund</th>\n",
       "      <th>Fines</th>\n",
       "      <th>Make</th>\n",
       "      <th>Model</th>\n",
       "      <th>Year</th>\n",
       "      <th>Calculations</th>\n",
       "    </tr>\n",
       "    <tr>\n",
       "      <th>CarNumber</th>\n",
       "      <th></th>\n",
       "      <th></th>\n",
       "      <th></th>\n",
       "      <th></th>\n",
       "      <th></th>\n",
       "      <th></th>\n",
       "    </tr>\n",
       "  </thead>\n",
       "  <tbody>\n",
       "    <tr>\n",
       "      <th>Y163O8161RUS</th>\n",
       "      <td>2</td>\n",
       "      <td>3200.000000</td>\n",
       "      <td>Ford</td>\n",
       "      <td>Focus</td>\n",
       "      <td>1989</td>\n",
       "      <td>3.182400e+06</td>\n",
       "    </tr>\n",
       "    <tr>\n",
       "      <th>E432XX77RUS</th>\n",
       "      <td>1</td>\n",
       "      <td>6500.000000</td>\n",
       "      <td>Toyota</td>\n",
       "      <td>Camry</td>\n",
       "      <td>1995</td>\n",
       "      <td>1.296750e+07</td>\n",
       "    </tr>\n",
       "    <tr>\n",
       "      <th>7184TT36RUS</th>\n",
       "      <td>1</td>\n",
       "      <td>2100.000000</td>\n",
       "      <td>Ford</td>\n",
       "      <td>Focus</td>\n",
       "      <td>1984</td>\n",
       "      <td>4.166400e+06</td>\n",
       "    </tr>\n",
       "    <tr>\n",
       "      <th>X582HE161RUS</th>\n",
       "      <td>2</td>\n",
       "      <td>2000.000000</td>\n",
       "      <td>Ford</td>\n",
       "      <td>Focus</td>\n",
       "      <td>2015</td>\n",
       "      <td>2.015000e+06</td>\n",
       "    </tr>\n",
       "    <tr>\n",
       "      <th>92918M178RUS</th>\n",
       "      <td>1</td>\n",
       "      <td>5700.000000</td>\n",
       "      <td>Ford</td>\n",
       "      <td>Focus</td>\n",
       "      <td>2014</td>\n",
       "      <td>1.147980e+07</td>\n",
       "    </tr>\n",
       "    <tr>\n",
       "      <th>...</th>\n",
       "      <td>...</td>\n",
       "      <td>...</td>\n",
       "      <td>...</td>\n",
       "      <td>...</td>\n",
       "      <td>...</td>\n",
       "      <td>...</td>\n",
       "    </tr>\n",
       "    <tr>\n",
       "      <th>M777EP777RUS</th>\n",
       "      <td>1</td>\n",
       "      <td>100.000000</td>\n",
       "      <td>Aurus</td>\n",
       "      <td>Senat</td>\n",
       "      <td>2018</td>\n",
       "      <td>2.018000e+05</td>\n",
       "    </tr>\n",
       "    <tr>\n",
       "      <th>L007OX07RUS</th>\n",
       "      <td>3</td>\n",
       "      <td>20000.000000</td>\n",
       "      <td>Nissan</td>\n",
       "      <td>Juke</td>\n",
       "      <td>2010</td>\n",
       "      <td>1.340000e+07</td>\n",
       "    </tr>\n",
       "    <tr>\n",
       "      <th>G040AY300RUS</th>\n",
       "      <td>3</td>\n",
       "      <td>50000.000000</td>\n",
       "      <td>MINI</td>\n",
       "      <td>Cooper</td>\n",
       "      <td>2001</td>\n",
       "      <td>3.335000e+07</td>\n",
       "    </tr>\n",
       "    <tr>\n",
       "      <th>A802YE666RUS</th>\n",
       "      <td>3</td>\n",
       "      <td>6666.000000</td>\n",
       "      <td>Daewoo</td>\n",
       "      <td>Matiz</td>\n",
       "      <td>1998</td>\n",
       "      <td>4.439556e+06</td>\n",
       "    </tr>\n",
       "    <tr>\n",
       "      <th>X017CM69RUS</th>\n",
       "      <td>3</td>\n",
       "      <td>17.690001</td>\n",
       "      <td>Mazda</td>\n",
       "      <td>RX-7</td>\n",
       "      <td>2002</td>\n",
       "      <td>1.180513e+04</td>\n",
       "    </tr>\n",
       "  </tbody>\n",
       "</table>\n",
       "<p>930 rows × 6 columns</p>\n",
       "</div>"
      ],
      "text/plain": [
       "              Refund         Fines    Make   Model  Year  Calculations\n",
       "CarNumber                                                             \n",
       "Y163O8161RUS       2   3200.000000    Ford   Focus  1989  3.182400e+06\n",
       "E432XX77RUS        1   6500.000000  Toyota   Camry  1995  1.296750e+07\n",
       "7184TT36RUS        1   2100.000000    Ford   Focus  1984  4.166400e+06\n",
       "X582HE161RUS       2   2000.000000    Ford   Focus  2015  2.015000e+06\n",
       "92918M178RUS       1   5700.000000    Ford   Focus  2014  1.147980e+07\n",
       "...              ...           ...     ...     ...   ...           ...\n",
       "M777EP777RUS       1    100.000000   Aurus   Senat  2018  2.018000e+05\n",
       "L007OX07RUS        3  20000.000000  Nissan    Juke  2010  1.340000e+07\n",
       "G040AY300RUS       3  50000.000000    MINI  Cooper  2001  3.335000e+07\n",
       "A802YE666RUS       3   6666.000000  Daewoo   Matiz  1998  4.439556e+06\n",
       "X017CM69RUS        3     17.690001   Mazda    RX-7  2002  1.180513e+04\n",
       "\n",
       "[930 rows x 6 columns]"
      ]
     },
     "execution_count": 144,
     "metadata": {},
     "output_type": "execute_result"
    }
   ],
   "source": [
    "optimized"
   ]
  }
 ],
 "metadata": {
  "kernelspec": {
   "display_name": "Python 3 (ipykernel)",
   "language": "python",
   "name": "python3"
  },
  "language_info": {
   "codemirror_mode": {
    "name": "ipython",
    "version": 3
   },
   "file_extension": ".py",
   "mimetype": "text/x-python",
   "name": "python",
   "nbconvert_exporter": "python",
   "pygments_lexer": "ipython3",
   "version": "3.10.2"
  }
 },
 "nbformat": 4,
 "nbformat_minor": 5
}
